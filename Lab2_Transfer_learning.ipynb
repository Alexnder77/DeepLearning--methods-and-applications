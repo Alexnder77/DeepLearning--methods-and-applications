{
  "nbformat": 4,
  "nbformat_minor": 0,
  "metadata": {
    "colab": {
      "provenance": [],
      "collapsed_sections": [
        "r-tp9iDDCpsz"
      ],
      "toc_visible": true,
      "include_colab_link": true
    },
    "kernelspec": {
      "name": "python3",
      "display_name": "Python 3"
    },
    "accelerator": "GPU"
  },
  "cells": [
    {
      "cell_type": "markdown",
      "metadata": {
        "id": "view-in-github",
        "colab_type": "text"
      },
      "source": [
        "<a href=\"https://colab.research.google.com/github/Alexnder77/DeepLearning--methods-and-applications/blob/main/Lab2_Transfer_learning.ipynb\" target=\"_parent\"><img src=\"https://colab.research.google.com/assets/colab-badge.svg\" alt=\"Open In Colab\"/></a>"
      ]
    },
    {
      "cell_type": "markdown",
      "metadata": {
        "id": "nAUA6cvb_CNY"
      },
      "source": [
        "# 5TF078 Deep Learning Course\n",
        "# Excercise 2 Transfer Learning\n",
        "\n"
      ]
    },
    {
      "cell_type": "markdown",
      "metadata": {
        "id": "r-tp9iDDCpsz"
      },
      "source": [
        "## First we initilize our Python environment"
      ]
    },
    {
      "cell_type": "code",
      "metadata": {
        "id": "F1pcr2Em_Lzo",
        "colab": {
          "base_uri": "https://localhost:8080/"
        },
        "outputId": "901d19f4-6267-4f4a-da25-f6028fe421ce"
      },
      "source": [
        "# Import needed libraries\n",
        "import tensorflow as tf\n",
        "print('TensorFlow version:', tf.__version__)\n",
        "\n",
        "import tensorflow.keras\n",
        "import tensorflow.keras as keras\n",
        "\n",
        "#import Model\n",
        "from tensorflow.keras.models import Model\n",
        "from tensorflow.keras.layers import Dense, Flatten, Conv2D, Dropout, GlobalAveragePooling2D\n",
        "from tensorflow.keras.utils import to_categorical\n",
        "from tensorflow.keras.datasets import mnist \n",
        "\n",
        "print('Keras version:',tensorflow.keras.__version__)\n",
        "\n",
        "# Helper libraries\n",
        "import numpy as np\n",
        "import sklearn\n",
        "from sklearn.model_selection import train_test_split\n",
        "\n",
        "# Matlab plotting\n",
        "import matplotlib\n",
        "import matplotlib.pyplot as plt\n"
      ],
      "execution_count": null,
      "outputs": [
        {
          "output_type": "stream",
          "name": "stdout",
          "text": [
            "TensorFlow version: 2.8.2\n",
            "Keras version: 2.8.0\n"
          ]
        }
      ]
    },
    {
      "cell_type": "code",
      "metadata": {
        "id": "Uf0ZWo9JyEhS",
        "colab": {
          "base_uri": "https://localhost:8080/"
        },
        "outputId": "3d97aefe-342a-4ad8-c122-675c0a72332b"
      },
      "source": [
        "# Test for GPU and determine what GPU we have\n",
        "import sys\n",
        "if not tf.config.list_physical_devices('GPU'):\n",
        "     print(\"No GPU was detected. CNNs can be very slow without a GPU.\")\n",
        "     IN_COLAB = 'google.colab' in sys.modules\n",
        "     if IN_COLAB:\n",
        "         print(\"Go to Runtime > Change runtime and select a GPU hardware accelerator.\")\n",
        "else:\n",
        "     !nvidia-smi -L"
      ],
      "execution_count": null,
      "outputs": [
        {
          "output_type": "stream",
          "name": "stdout",
          "text": [
            "GPU 0: Tesla T4 (UUID: GPU-7447b670-f4bb-2abd-aefb-8d250df7ee58)\n"
          ]
        }
      ]
    },
    {
      "cell_type": "markdown",
      "metadata": {
        "id": "AhWTXQfXBiN6"
      },
      "source": [
        "#The Data"
      ]
    },
    {
      "cell_type": "markdown",
      "source": [
        "### Get hold of a data-set\n",
        "In this exercise we will use Fashion MNIST dataset, which an alternative to MNIST (it is a little harder, but the image size is the same). This is available directly as a [Keras dataset](https://keras.io/datasets/). This is a dataset of 60,000 28x28 grayscale images of 10 fashion categories, along with a test set of 10,000 images. \n",
        "\n",
        "Note that we split our data into **three** data sets: training, validation, testing; each with its own purpose."
      ],
      "metadata": {
        "id": "kmtboE3kolMi"
      }
    },
    {
      "cell_type": "code",
      "metadata": {
        "id": "0ViGcOSI-_t6",
        "colab": {
          "base_uri": "https://localhost:8080/"
        },
        "outputId": "8b523992-163a-47c2-e4eb-48f3b6c8df37"
      },
      "source": [
        "# Get Fashion-MNIST training and test data from Keras database (https://keras.io/datasets/)\n",
        "(train_images0, train_labels0), (test_images, test_labels) = tensorflow.keras.datasets.fashion_mnist.load_data()\n",
        "\n",
        "# Define labels\n",
        "class_names = ['T-shirt/top', 'Trouser', 'Pullover', 'Dress', 'Coat', \n",
        "               'Sandal', 'Shirt', 'Sneaker', 'Bag', 'Ankle boot']\n",
        "\n",
        "NEWIMG_WIDTH = 32\n",
        "NEWIMG_HEIGHT = 32\n",
        "\n",
        "# Add an \"empty\" color dimension for our data sets\n",
        "train_images = np.expand_dims(train_images0, -1)\n",
        "test_images = np.expand_dims(test_images, -1)\n",
        "\n",
        "#resizing the images to 32x32x3\n",
        "train_images = tf.image.grayscale_to_rgb(tf.convert_to_tensor(train_images))\n",
        "train_images = tf.image.resize_with_pad(train_images, NEWIMG_WIDTH, NEWIMG_HEIGHT, antialias=False)\n",
        "\n",
        "test_images = tf.image.grayscale_to_rgb(tf.convert_to_tensor(test_images))\n",
        "test_images = tf.image.resize_with_pad(test_images, NEWIMG_WIDTH, NEWIMG_HEIGHT, antialias=False)\n",
        "\n",
        "\n",
        "#making sure the dimensions are correct\n",
        "print('train_images.shape', train_images.shape)\n",
        "print('test_images.shape', test_images.shape)\n",
        "\n",
        "# Split the training set into a training and a validation set (20% is validation)\n",
        "train_images, val_images, train_labels, val_labels = train_test_split(train_images.numpy(), train_labels0, test_size=0.20)"
      ],
      "execution_count": null,
      "outputs": [
        {
          "output_type": "stream",
          "name": "stdout",
          "text": [
            "Downloading data from https://storage.googleapis.com/tensorflow/tf-keras-datasets/train-labels-idx1-ubyte.gz\n",
            "32768/29515 [=================================] - 0s 0us/step\n",
            "40960/29515 [=========================================] - 0s 0us/step\n",
            "Downloading data from https://storage.googleapis.com/tensorflow/tf-keras-datasets/train-images-idx3-ubyte.gz\n",
            "26427392/26421880 [==============================] - 0s 0us/step\n",
            "26435584/26421880 [==============================] - 0s 0us/step\n",
            "Downloading data from https://storage.googleapis.com/tensorflow/tf-keras-datasets/t10k-labels-idx1-ubyte.gz\n",
            "16384/5148 [===============================================================================================] - 0s 0us/step\n",
            "Downloading data from https://storage.googleapis.com/tensorflow/tf-keras-datasets/t10k-images-idx3-ubyte.gz\n",
            "4423680/4422102 [==============================] - 0s 0us/step\n",
            "4431872/4422102 [==============================] - 0s 0us/step\n",
            "train_images.shape (60000, 32, 32, 3)\n",
            "test_images.shape (10000, 32, 32, 3)\n"
          ]
        }
      ]
    },
    {
      "cell_type": "code",
      "source": [
        "# Print som basic information of data set sizes and data sizes\n",
        "train_no,x,y,z = train_images.shape\n",
        "print('No training images:',train_no, ' with image size:',x,'x',y)\n",
        "label_no = len(train_labels)\n",
        "if (label_no != train_no) : \n",
        "  print('# labels do not match # training images')\n",
        "\n",
        "test_no,x,y,z = test_images.shape\n",
        "label_no = len(test_labels)\n",
        "print('No test images:',test_no)\n",
        "if (label_no != test_no) : \n",
        "  print('# labels do not match # test images')\n",
        "\n",
        "val_no,x,y,z = val_images.shape\n",
        "label_no = len(val_labels)\n",
        "print('No val images:',val_no)\n",
        "if (label_no != val_no) : \n",
        "  print('# labels do not match # val images')\n",
        "\n",
        "classes = np.unique(train_labels)\n",
        "num_classes = len(classes)\n",
        "print('Training labels:', np.unique(train_labels), \"; That is,\", num_classes,\"classes.\" )\n"
      ],
      "metadata": {
        "colab": {
          "base_uri": "https://localhost:8080/"
        },
        "id": "GNZOs2YwraHQ",
        "outputId": "b0bc1a5a-0cad-45d2-850b-49f82a68be8a"
      },
      "execution_count": null,
      "outputs": [
        {
          "output_type": "stream",
          "name": "stdout",
          "text": [
            "No training images: 48000  with image size: 32 x 32\n",
            "No test images: 10000\n",
            "No val images: 12000\n",
            "Training labels: [0 1 2 3 4 5 6 7 8 9] ; That is, 10 classes.\n"
          ]
        }
      ]
    },
    {
      "cell_type": "markdown",
      "source": [
        "Note that the training labels are an integer between 0 and 9, which is not very good as outputs (or inputs) for DL models. A better approach would be to use a one-hot encoding. We can convert our label vectors to one-hot encoded matrices by using [to_categorical](https://www.tensorflow.org/api_docs/python/tf/keras/utils/to_categorical) `tensorflow.keras.utils.to_categorical(train_labels)`.\n",
        "\n",
        "But we can achieve the same thing by using [SparseCategoricalCrossentropy](https://keras.io/api/losses/probabilistic_losses/#sparsecategoricalcrossentropy-class) as a loss function instead of the [CategoricalCrossentropy](https://keras.io/api/losses/probabilistic_losses/#categoricalcrossentropy-class). Also note that in both cases we need our model to have as many output nodes as we have classes! "
      ],
      "metadata": {
        "id": "Cg4WF2gMzfpm"
      }
    },
    {
      "cell_type": "markdown",
      "metadata": {
        "id": "P9F4zkQQDnAz"
      },
      "source": [
        "### Explore the data\n"
      ]
    },
    {
      "cell_type": "code",
      "metadata": {
        "id": "dMYGkeRxJ__U",
        "colab": {
          "base_uri": "https://localhost:8080/",
          "height": 280
        },
        "outputId": "1baef263-adca-477b-c6f0-7a20440eaa94"
      },
      "source": [
        "# As these are images (32x32) it can be interesting to plot some as images\n",
        "image_index = [13, 89,11,21,45, 2, 1] # \"Random\" images to print\n",
        "\n",
        "for index in image_index:\n",
        "  print( 'Label:', class_names[train_labels[index]])\n",
        "  plt.figure()\n",
        "  #plt.imshow(np.squeeze(train_images[index], axis=-1))\n",
        "\n",
        "  #not sure why using this doesnt work straight away\n",
        "  #plt.imshow(train_images[index])\n",
        "\n",
        "  # but found this solution on \n",
        "  # https://stackoverflow.com/questions/49643907/clipping-input-data-to-the-valid-range-for-imshow-with-rgb-data-0-1-for-floa\n",
        "  plt.imshow(np.array(train_images[index],np.int32))\n",
        "\n",
        "  plt.gray()\n",
        "  plt.grid(False)\n",
        "  plt.show(block=False)"
      ],
      "execution_count": null,
      "outputs": [
        {
          "output_type": "stream",
          "name": "stdout",
          "text": [
            "Label: Coat\n"
          ]
        },
        {
          "output_type": "display_data",
          "data": {
            "text/plain": [
              "<Figure size 432x288 with 1 Axes>"
            ],
            "image/png": "[encoded data removed]"
          },
          "metadata": {
            "needs_background": "light"
          }
        },
        {
          "output_type": "stream",
          "name": "stdout",
          "text": [
            "Label: Sandal\n"
          ]
        },
        {
          "output_type": "display_data",
          "data": {
            "text/plain": [
              "<Figure size 432x288 with 1 Axes>"
            ],
            "image/png": "[encoded data removed]"
          },
          "metadata": {
            "needs_background": "light"
          }
        },
        {
          "output_type": "stream",
          "name": "stdout",
          "text": [
            "Label: T-shirt/top\n"
          ]
        },
        {
          "output_type": "display_data",
          "data": {
            "text/plain": [
              "<Figure size 432x288 with 1 Axes>"
            ],
            "image/png": "[encoded data removed]"
          },
          "metadata": {
            "needs_background": "light"
          }
        },
        {
          "output_type": "stream",
          "name": "stdout",
          "text": [
            "Label: Coat\n"
          ]
        },
        {
          "output_type": "display_data",
          "data": {
            "text/plain": [
              "<Figure size 432x288 with 1 Axes>"
            ],
            "image/png": "[encoded data removed]"
          },
          "metadata": {
            "needs_background": "light"
          }
        },
        {
          "output_type": "stream",
          "name": "stdout",
          "text": [
            "Label: Dress\n"
          ]
        },
        {
          "output_type": "display_data",
          "data": {
            "text/plain": [
              "<Figure size 432x288 with 1 Axes>"
            ],
            "image/png": "[encoded data removed]"
          },
          "metadata": {
            "needs_background": "light"
          }
        },
        {
          "output_type": "stream",
          "name": "stdout",
          "text": [
            "Label: Dress\n"
          ]
        },
        {
          "output_type": "display_data",
          "data": {
            "text/plain": [
              "<Figure size 432x288 with 1 Axes>"
            ],
            "image/png": "[encoded data removed]"
          },
          "metadata": {
            "needs_background": "light"
          }
        },
        {
          "output_type": "stream",
          "name": "stdout",
          "text": [
            "Label: Sandal\n"
          ]
        },
        {
          "output_type": "display_data",
          "data": {
            "text/plain": [
              "<Figure size 432x288 with 1 Axes>"
            ],
            "image/png": "[encoded data removed]"
          },
          "metadata": {
            "needs_background": "light"
          }
        }
      ]
    },
    {
      "cell_type": "markdown",
      "source": [
        "# Model 1"
      ],
      "metadata": {
        "id": "3BevLzzG-v69"
      }
    },
    {
      "cell_type": "code",
      "source": [
        "#### Main src https://keras.io/api/applications/#vgg16\n",
        "\n",
        "\n",
        "# create the base pre-trained model\n",
        "vgg_model = keras.applications.vgg16.VGG16(\n",
        "    weights='imagenet', \n",
        "    include_top=False,\n",
        "    input_shape=[NEWIMG_HEIGHT, NEWIMG_HEIGHT, 3]\n",
        "    )\n",
        "\n",
        "\n",
        "## adds all the layers untill and including block3_pool to our model\n",
        "input = vgg_model.get_layer('block3_pool').output\n",
        "\n",
        "x = keras.layers.BatchNormalization(axis=-1)(input)\n",
        "\n",
        "# add a global spatial average pooling layer\n",
        "#x = tf.keras.layers.GlobalAveragePooling2D()(x)\n",
        "x = Flatten()(x)\n",
        "\n",
        "# let's add a fully-connected layer\n",
        "x = Dense(512, activation='relu')(x)\n",
        "x = keras.layers.BatchNormalization()(x)\n",
        "x = Dropout(0.5)(x)\n",
        "\n",
        "# let's add a fully-connected layer\n",
        "x = Dense(256, activation='relu')(x)\n",
        "x = keras.layers.BatchNormalization()(x)\n",
        "x = Dropout(0.5)(x)\n",
        "\n",
        "# let's add a fully-connected layer\n",
        "x = Dense(256, activation='relu')(x)\n",
        "x = keras.layers.BatchNormalization()(x)\n",
        "x = Dropout(0.5)(x)\n",
        "\n",
        "# add the output layer\n",
        "predictions = Dense(units=num_classes, activation='softmax')(x)\n",
        "\n",
        "\n",
        "# this is the model we will train\n",
        "model = Model(inputs=vgg_model.input, outputs=predictions)\n",
        "\n",
        "\n",
        "# first: train only the top layers (which were randomly initialized)\n",
        "# i.e. freeze all convolutional vgg16 layers\n",
        "\n",
        "vgg_model.trainable = False\n",
        "\n",
        "model.summary()"
      ],
      "metadata": {
        "id": "5MfJLcN--x4F",
        "colab": {
          "base_uri": "https://localhost:8080/"
        },
        "outputId": "d708558e-fcb0-4652-abb3-82bd44608814"
      },
      "execution_count": null,
      "outputs": [
        {
          "output_type": "stream",
          "name": "stdout",
          "text": [
            "Model: \"model_1\"\n",
            "_________________________________________________________________\n",
            " Layer (type)                Output Shape              Param #   \n",
            "=================================================================\n",
            " input_3 (InputLayer)        [(None, 32, 32, 3)]       0         \n",
            "                                                                 \n",
            " block1_conv1 (Conv2D)       (None, 32, 32, 64)        1792      \n",
            "                                                                 \n",
            " block1_conv2 (Conv2D)       (None, 32, 32, 64)        36928     \n",
            "                                                                 \n",
            " block1_pool (MaxPooling2D)  (None, 16, 16, 64)        0         \n",
            "                                                                 \n",
            " block2_conv1 (Conv2D)       (None, 16, 16, 128)       73856     \n",
            "                                                                 \n",
            " block2_conv2 (Conv2D)       (None, 16, 16, 128)       147584    \n",
            "                                                                 \n",
            " block2_pool (MaxPooling2D)  (None, 8, 8, 128)         0         \n",
            "                                                                 \n",
            " block3_conv1 (Conv2D)       (None, 8, 8, 256)         295168    \n",
            "                                                                 \n",
            " block3_conv2 (Conv2D)       (None, 8, 8, 256)         590080    \n",
            "                                                                 \n",
            " block3_conv3 (Conv2D)       (None, 8, 8, 256)         590080    \n",
            "                                                                 \n",
            " block3_pool (MaxPooling2D)  (None, 4, 4, 256)         0         \n",
            "                                                                 \n",
            " batch_normalization_5 (Batc  (None, 4, 4, 256)        1024      \n",
            " hNormalization)                                                 \n",
            "                                                                 \n",
            " flatten_2 (Flatten)         (None, 4096)              0         \n",
            "                                                                 \n",
            " dense_5 (Dense)             (None, 512)               2097664   \n",
            "                                                                 \n",
            " batch_normalization_6 (Batc  (None, 512)              2048      \n",
            " hNormalization)                                                 \n",
            "                                                                 \n",
            " dropout_3 (Dropout)         (None, 512)               0         \n",
            "                                                                 \n",
            " dense_6 (Dense)             (None, 256)               131328    \n",
            "                                                                 \n",
            " batch_normalization_7 (Batc  (None, 256)              1024      \n",
            " hNormalization)                                                 \n",
            "                                                                 \n",
            " dropout_4 (Dropout)         (None, 256)               0         \n",
            "                                                                 \n",
            " dense_7 (Dense)             (None, 256)               65792     \n",
            "                                                                 \n",
            " batch_normalization_8 (Batc  (None, 256)              1024      \n",
            " hNormalization)                                                 \n",
            "                                                                 \n",
            " dropout_5 (Dropout)         (None, 256)               0         \n",
            "                                                                 \n",
            " dense_8 (Dense)             (None, 10)                2570      \n",
            "                                                                 \n",
            "=================================================================\n",
            "Total params: 4,037,962\n",
            "Trainable params: 2,299,914\n",
            "Non-trainable params: 1,738,048\n",
            "_________________________________________________________________\n"
          ]
        }
      ]
    },
    {
      "cell_type": "code",
      "source": [
        "model.compile(\n",
        "  optimizer='adam',\n",
        "  loss='categorical_crossentropy',\n",
        "  metrics=['categorical_accuracy']\n",
        ")\n",
        "\n",
        "epochs = 35      ## Number of epoch to run\n",
        "batch_size = 32  ## Mini batch size\n",
        "\n",
        "#early stop\n",
        "es = tf.keras.callbacks.EarlyStopping('val_loss', patience=5, restore_best_weights = True)\n",
        "\n",
        "# Train the model.\n",
        "history = model.fit( \n",
        "    train_images, to_categorical(train_labels), \n",
        "    epochs=epochs, \n",
        "    batch_size=batch_size, \n",
        "    verbose = 1, \n",
        "    callbacks=[es], \n",
        "    validation_data=(val_images, to_categorical(val_labels)) \n",
        "    )"
      ],
      "metadata": {
        "colab": {
          "base_uri": "https://localhost:8080/"
        },
        "id": "JE9qDGIzGipZ",
        "outputId": "bb8f53a4-6a1e-4aaa-c23d-a0784ae453bb"
      },
      "execution_count": null,
      "outputs": [
        {
          "output_type": "stream",
          "name": "stdout",
          "text": [
            "Epoch 1/35\n",
            "1500/1500 [==============================] - 25s 8ms/step - loss: 0.5497 - categorical_accuracy: 0.8143 - val_loss: 0.3268 - val_categorical_accuracy: 0.8832\n",
            "Epoch 2/35\n",
            "1500/1500 [==============================] - 10s 6ms/step - loss: 0.3598 - categorical_accuracy: 0.8750 - val_loss: 0.2597 - val_categorical_accuracy: 0.9053\n",
            "Epoch 3/35\n",
            "1500/1500 [==============================] - 10s 6ms/step - loss: 0.3164 - categorical_accuracy: 0.8893 - val_loss: 0.2471 - val_categorical_accuracy: 0.9082\n",
            "Epoch 4/35\n",
            "1500/1500 [==============================] - 11s 7ms/step - loss: 0.2977 - categorical_accuracy: 0.8965 - val_loss: 0.2328 - val_categorical_accuracy: 0.9133\n",
            "Epoch 5/35\n",
            "1500/1500 [==============================] - 10s 6ms/step - loss: 0.2800 - categorical_accuracy: 0.9013 - val_loss: 0.2409 - val_categorical_accuracy: 0.9112\n",
            "Epoch 6/35\n",
            "1500/1500 [==============================] - 10s 6ms/step - loss: 0.2679 - categorical_accuracy: 0.9066 - val_loss: 0.2316 - val_categorical_accuracy: 0.9176\n",
            "Epoch 7/35\n",
            "1500/1500 [==============================] - 14s 9ms/step - loss: 0.2606 - categorical_accuracy: 0.9093 - val_loss: 0.2238 - val_categorical_accuracy: 0.9185\n",
            "Epoch 8/35\n",
            "1500/1500 [==============================] - 10s 7ms/step - loss: 0.2502 - categorical_accuracy: 0.9107 - val_loss: 0.2128 - val_categorical_accuracy: 0.9228\n",
            "Epoch 9/35\n",
            "1500/1500 [==============================] - 12s 8ms/step - loss: 0.2394 - categorical_accuracy: 0.9150 - val_loss: 0.2146 - val_categorical_accuracy: 0.9234\n",
            "Epoch 10/35\n",
            "1500/1500 [==============================] - 12s 8ms/step - loss: 0.2314 - categorical_accuracy: 0.9192 - val_loss: 0.2090 - val_categorical_accuracy: 0.9263\n",
            "Epoch 11/35\n",
            "1500/1500 [==============================] - 16s 11ms/step - loss: 0.2236 - categorical_accuracy: 0.9201 - val_loss: 0.2170 - val_categorical_accuracy: 0.9199\n",
            "Epoch 12/35\n",
            "1500/1500 [==============================] - 14s 9ms/step - loss: 0.2164 - categorical_accuracy: 0.9234 - val_loss: 0.2177 - val_categorical_accuracy: 0.9240\n",
            "Epoch 13/35\n",
            "1500/1500 [==============================] - 10s 7ms/step - loss: 0.2103 - categorical_accuracy: 0.9245 - val_loss: 0.2070 - val_categorical_accuracy: 0.9262\n",
            "Epoch 14/35\n",
            "1500/1500 [==============================] - 10s 6ms/step - loss: 0.2061 - categorical_accuracy: 0.9268 - val_loss: 0.2168 - val_categorical_accuracy: 0.9243\n",
            "Epoch 15/35\n",
            "1500/1500 [==============================] - 12s 8ms/step - loss: 0.2030 - categorical_accuracy: 0.9274 - val_loss: 0.2064 - val_categorical_accuracy: 0.9276\n",
            "Epoch 16/35\n",
            "1500/1500 [==============================] - 12s 8ms/step - loss: 0.1982 - categorical_accuracy: 0.9295 - val_loss: 0.2052 - val_categorical_accuracy: 0.9262\n",
            "Epoch 17/35\n",
            "1500/1500 [==============================] - 13s 8ms/step - loss: 0.1911 - categorical_accuracy: 0.9299 - val_loss: 0.2064 - val_categorical_accuracy: 0.9267\n",
            "Epoch 18/35\n",
            "1500/1500 [==============================] - 14s 9ms/step - loss: 0.1860 - categorical_accuracy: 0.9321 - val_loss: 0.2069 - val_categorical_accuracy: 0.9278\n",
            "Epoch 19/35\n",
            "1500/1500 [==============================] - 10s 7ms/step - loss: 0.1815 - categorical_accuracy: 0.9348 - val_loss: 0.2045 - val_categorical_accuracy: 0.9277\n",
            "Epoch 20/35\n",
            "1500/1500 [==============================] - 14s 9ms/step - loss: 0.1787 - categorical_accuracy: 0.9361 - val_loss: 0.2038 - val_categorical_accuracy: 0.9312\n",
            "Epoch 21/35\n",
            "1500/1500 [==============================] - 10s 7ms/step - loss: 0.1749 - categorical_accuracy: 0.9369 - val_loss: 0.2182 - val_categorical_accuracy: 0.9252\n",
            "Epoch 22/35\n",
            "1500/1500 [==============================] - 11s 7ms/step - loss: 0.1735 - categorical_accuracy: 0.9378 - val_loss: 0.2002 - val_categorical_accuracy: 0.9321\n",
            "Epoch 23/35\n",
            "1500/1500 [==============================] - 12s 8ms/step - loss: 0.1728 - categorical_accuracy: 0.9384 - val_loss: 0.2165 - val_categorical_accuracy: 0.9278\n",
            "Epoch 24/35\n",
            "1500/1500 [==============================] - 10s 7ms/step - loss: 0.1654 - categorical_accuracy: 0.9396 - val_loss: 0.2070 - val_categorical_accuracy: 0.9280\n",
            "Epoch 25/35\n",
            "1500/1500 [==============================] - 10s 7ms/step - loss: 0.1625 - categorical_accuracy: 0.9409 - val_loss: 0.2234 - val_categorical_accuracy: 0.9237\n",
            "Epoch 26/35\n",
            "1500/1500 [==============================] - 10s 7ms/step - loss: 0.1631 - categorical_accuracy: 0.9404 - val_loss: 0.2120 - val_categorical_accuracy: 0.9276\n",
            "Epoch 27/35\n",
            "1500/1500 [==============================] - 10s 7ms/step - loss: 0.1617 - categorical_accuracy: 0.9417 - val_loss: 0.2227 - val_categorical_accuracy: 0.9242\n"
          ]
        }
      ]
    },
    {
      "cell_type": "markdown",
      "source": [
        "# Explore the training progress\n",
        "Show the training progress, by plotting the training and validation accuracy and loss"
      ],
      "metadata": {
        "id": "9weV4eGc9tp4"
      }
    },
    {
      "cell_type": "code",
      "source": [
        "epochrange = range(1, len(history.history['loss']) + 1)\n",
        "train_acc = history.history['categorical_accuracy']\n",
        "val_acc = history.history['val_categorical_accuracy']\n",
        "\n",
        "train_loss = history.history['loss']\n",
        "val_loss = history.history['val_loss']\n",
        "\n",
        "plt.plot(epochrange, train_acc, 'bo', label='Training acc')\n",
        "plt.plot(epochrange, val_acc, 'b', label='Validation acc')\n",
        "plt.title('Training and validation accuracy (modell 1)')\n",
        "plt.xlabel('Epochs')\n",
        "plt.ylabel('Accuracy')\n",
        "plt.legend()\n",
        "plt.show()\n",
        "\n",
        "plt.plot(epochrange, train_loss, 'bo', label='Training loss')\n",
        "plt.plot(epochrange, val_loss, 'b', label='Validation loss')\n",
        "plt.title('Training and validation loss (modell 1)')\n",
        "plt.xlabel('Epochs')\n",
        "plt.ylabel('Loss')\n",
        "plt.legend()\n",
        "plt.show()"
      ],
      "metadata": {
        "colab": {
          "base_uri": "https://localhost:8080/",
          "height": 573
        },
        "id": "jSw5Dp3f-XCw",
        "outputId": "63676ba8-ba9e-4639-a7f6-5d0db759393d"
      },
      "execution_count": null,
      "outputs": [
        {
          "output_type": "display_data",
          "data": {
            "text/plain": [
              "<Figure size 432x288 with 1 Axes>"
            ],
            "image/png": "[encoded data removed]"
          },
          "metadata": {
            "needs_background": "light"
          }
        },
        {
          "output_type": "display_data",
          "data": {
            "text/plain": [
              "<Figure size 432x288 with 1 Axes>"
            ],
            "image/png": "[encoded data removed]"
          },
          "metadata": {
            "needs_background": "light"
          }
        }
      ]
    },
    {
      "cell_type": "code",
      "source": [
        "# Evaluate the model.\n",
        "test_loss, test_acc = model.evaluate(test_images,to_categorical(test_labels))\n",
        "print('Test accuracy: %.3f' % test_acc)"
      ],
      "metadata": {
        "colab": {
          "base_uri": "https://localhost:8080/"
        },
        "id": "pVdsqELetAHH",
        "outputId": "41d50d75-4e0a-4440-d50d-fdda48663684"
      },
      "execution_count": null,
      "outputs": [
        {
          "output_type": "stream",
          "name": "stdout",
          "text": [
            "313/313 [==============================] - 2s 6ms/step - loss: 0.2083 - categorical_accuracy: 0.9264\n",
            "Test accuracy: 0.926\n"
          ]
        }
      ]
    },
    {
      "cell_type": "markdown",
      "source": [
        "#Model 2"
      ],
      "metadata": {
        "id": "r2Ehw_CWXWX5"
      }
    },
    {
      "cell_type": "code",
      "source": [
        "#### Main src https://keras.io/api/applications/#vgg16\n",
        "\n",
        "\n",
        "# create the base pre-trained model\n",
        "vgg_model = keras.applications.vgg16.VGG16(\n",
        "    weights='imagenet', \n",
        "    include_top=False,\n",
        "    input_shape=[NEWIMG_HEIGHT, NEWIMG_HEIGHT, 3]\n",
        "    )\n",
        "\n",
        "\n",
        "\n",
        "## adds all the layers untill and including block3_pool to our model\n",
        "input = vgg_model.get_layer('block3_pool').output\n",
        "\n",
        "x = Conv2D(filters=32, kernel_size=(3, 3), padding='same', activation='relu', input_shape=input.shape)\n",
        "\n",
        "x = keras.layers.BatchNormalization(axis=-1)(input)\n",
        "\n",
        "x = Flatten()(x)\n",
        "\n",
        "# let's add a fully-connected layer\n",
        "x = Dense(512, activation='relu')(x)\n",
        "x = keras.layers.BatchNormalization()(x)\n",
        "x = Dropout(0.5)(x)\n",
        "\n",
        "# add the output layer\n",
        "predictions = Dense(units=num_classes, activation='softmax')(x)\n",
        "\n",
        "\n",
        "# this is the model we will train\n",
        "model = Model(inputs=vgg_model.input, outputs=predictions)\n",
        "\n",
        "\n",
        "# train only the top layers (which were randomly initialized)\n",
        "# i.e. freeze all convolutional vgg16 layers\n",
        "vgg_model.trainable = False\n",
        "\n",
        "model.summary()"
      ],
      "metadata": {
        "colab": {
          "base_uri": "https://localhost:8080/"
        },
        "id": "OZDvnG5fXYZC",
        "outputId": "fd2c3546-63f5-4999-d2f4-6c8f133e5806"
      },
      "execution_count": null,
      "outputs": [
        {
          "output_type": "stream",
          "name": "stdout",
          "text": [
            "Model: \"model_2\"\n",
            "_________________________________________________________________\n",
            " Layer (type)                Output Shape              Param #   \n",
            "=================================================================\n",
            " input_4 (InputLayer)        [(None, 32, 32, 3)]       0         \n",
            "                                                                 \n",
            " block1_conv1 (Conv2D)       (None, 32, 32, 64)        1792      \n",
            "                                                                 \n",
            " block1_conv2 (Conv2D)       (None, 32, 32, 64)        36928     \n",
            "                                                                 \n",
            " block1_pool (MaxPooling2D)  (None, 16, 16, 64)        0         \n",
            "                                                                 \n",
            " block2_conv1 (Conv2D)       (None, 16, 16, 128)       73856     \n",
            "                                                                 \n",
            " block2_conv2 (Conv2D)       (None, 16, 16, 128)       147584    \n",
            "                                                                 \n",
            " block2_pool (MaxPooling2D)  (None, 8, 8, 128)         0         \n",
            "                                                                 \n",
            " block3_conv1 (Conv2D)       (None, 8, 8, 256)         295168    \n",
            "                                                                 \n",
            " block3_conv2 (Conv2D)       (None, 8, 8, 256)         590080    \n",
            "                                                                 \n",
            " block3_conv3 (Conv2D)       (None, 8, 8, 256)         590080    \n",
            "                                                                 \n",
            " block3_pool (MaxPooling2D)  (None, 4, 4, 256)         0         \n",
            "                                                                 \n",
            " batch_normalization_9 (Batc  (None, 4, 4, 256)        1024      \n",
            " hNormalization)                                                 \n",
            "                                                                 \n",
            " flatten_3 (Flatten)         (None, 4096)              0         \n",
            "                                                                 \n",
            " dense_9 (Dense)             (None, 512)               2097664   \n",
            "                                                                 \n",
            " batch_normalization_10 (Bat  (None, 512)              2048      \n",
            " chNormalization)                                                \n",
            "                                                                 \n",
            " dropout_6 (Dropout)         (None, 512)               0         \n",
            "                                                                 \n",
            " dense_10 (Dense)            (None, 10)                5130      \n",
            "                                                                 \n",
            "=================================================================\n",
            "Total params: 3,841,354\n",
            "Trainable params: 2,104,330\n",
            "Non-trainable params: 1,737,024\n",
            "_________________________________________________________________\n"
          ]
        }
      ]
    },
    {
      "cell_type": "code",
      "source": [
        "model.compile(\n",
        "  optimizer='adam',\n",
        "  loss='categorical_crossentropy',\n",
        "  metrics=['categorical_accuracy']\n",
        ")\n",
        "\n",
        "epochs = 35      ## Number of epoch to run\n",
        "batch_size = 32  ## Mini batch size\n",
        "\n",
        "#early stop\n",
        "es = tf.keras.callbacks.EarlyStopping('val_loss', patience=5, restore_best_weights = True)\n",
        "\n",
        "# Train the model.\n",
        "history = model.fit( \n",
        "    train_images, to_categorical(train_labels), \n",
        "    epochs=epochs, \n",
        "    batch_size=batch_size, \n",
        "    verbose = 1, \n",
        "    callbacks=[es], \n",
        "    validation_data=(val_images, to_categorical(val_labels)) \n",
        "    )"
      ],
      "metadata": {
        "colab": {
          "base_uri": "https://localhost:8080/"
        },
        "id": "GUvNfg9zYtC1",
        "outputId": "d02fdb67-0993-46ed-b95d-97230191c9db"
      },
      "execution_count": null,
      "outputs": [
        {
          "output_type": "stream",
          "name": "stdout",
          "text": [
            "Epoch 1/35\n",
            "1500/1500 [==============================] - 10s 7ms/step - loss: 0.3982 - categorical_accuracy: 0.8663 - val_loss: 0.2713 - val_categorical_accuracy: 0.9033\n",
            "Epoch 2/35\n",
            "1500/1500 [==============================] - 9s 6ms/step - loss: 0.2910 - categorical_accuracy: 0.8961 - val_loss: 0.2707 - val_categorical_accuracy: 0.9032\n",
            "Epoch 3/35\n",
            "1500/1500 [==============================] - 9s 6ms/step - loss: 0.2659 - categorical_accuracy: 0.9046 - val_loss: 0.2452 - val_categorical_accuracy: 0.9116\n",
            "Epoch 4/35\n",
            "1500/1500 [==============================] - 9s 6ms/step - loss: 0.2493 - categorical_accuracy: 0.9101 - val_loss: 0.2425 - val_categorical_accuracy: 0.9154\n",
            "Epoch 5/35\n",
            "1500/1500 [==============================] - 9s 6ms/step - loss: 0.2367 - categorical_accuracy: 0.9139 - val_loss: 0.2515 - val_categorical_accuracy: 0.9108\n",
            "Epoch 6/35\n",
            "1500/1500 [==============================] - 9s 6ms/step - loss: 0.2267 - categorical_accuracy: 0.9180 - val_loss: 0.2215 - val_categorical_accuracy: 0.9197\n",
            "Epoch 7/35\n",
            "1500/1500 [==============================] - 9s 6ms/step - loss: 0.2137 - categorical_accuracy: 0.9218 - val_loss: 0.2150 - val_categorical_accuracy: 0.9201\n",
            "Epoch 8/35\n",
            "1500/1500 [==============================] - 9s 6ms/step - loss: 0.2068 - categorical_accuracy: 0.9245 - val_loss: 0.2232 - val_categorical_accuracy: 0.9249\n",
            "Epoch 9/35\n",
            "1500/1500 [==============================] - 9s 6ms/step - loss: 0.1984 - categorical_accuracy: 0.9269 - val_loss: 0.2387 - val_categorical_accuracy: 0.9187\n",
            "Epoch 10/35\n",
            "1500/1500 [==============================] - 9s 6ms/step - loss: 0.1933 - categorical_accuracy: 0.9289 - val_loss: 0.2330 - val_categorical_accuracy: 0.9202\n",
            "Epoch 11/35\n",
            "1500/1500 [==============================] - 9s 6ms/step - loss: 0.1850 - categorical_accuracy: 0.9319 - val_loss: 0.2249 - val_categorical_accuracy: 0.9262\n",
            "Epoch 12/35\n",
            "1500/1500 [==============================] - 9s 6ms/step - loss: 0.1783 - categorical_accuracy: 0.9346 - val_loss: 0.2317 - val_categorical_accuracy: 0.9218\n"
          ]
        }
      ]
    },
    {
      "cell_type": "code",
      "source": [
        "epochrange = range(1, len(history.history['loss']) + 1)\n",
        "train_acc = history.history['categorical_accuracy']\n",
        "val_acc = history.history['val_categorical_accuracy']\n",
        "\n",
        "train_loss = history.history['loss']\n",
        "val_loss = history.history['val_loss']\n",
        "\n",
        "plt.plot(epochrange, train_acc, 'bo', label='Training acc')\n",
        "plt.plot(epochrange, val_acc, 'b', label='Validation acc')\n",
        "plt.title('Training and validation accuracy (modell 2)')\n",
        "plt.xlabel('Epochs')\n",
        "plt.ylabel('Accuracy')\n",
        "plt.legend()\n",
        "plt.show()\n",
        "\n",
        "plt.plot(epochrange, train_loss, 'bo', label='Training loss')\n",
        "plt.plot(epochrange, val_loss, 'b', label='Validation loss')\n",
        "plt.title('Training and validation loss (modell 2)')\n",
        "plt.xlabel('Epochs')\n",
        "plt.ylabel('Loss')\n",
        "plt.legend()\n",
        "plt.show()"
      ],
      "metadata": {
        "colab": {
          "base_uri": "https://localhost:8080/",
          "height": 573
        },
        "id": "I30k9jFgkHJh",
        "outputId": "819d3388-5c0a-4280-e554-5a5d939af90f"
      },
      "execution_count": null,
      "outputs": [
        {
          "output_type": "display_data",
          "data": {
            "text/plain": [
              "<Figure size 432x288 with 1 Axes>"
            ],
            "image/png": "[encoded data removed]"
          },
          "metadata": {
            "needs_background": "light"
          }
        },
        {
          "output_type": "display_data",
          "data": {
            "text/plain": [
              "<Figure size 432x288 with 1 Axes>"
            ],
            "image/png": "[encoded data removed]"
          },
          "metadata": {
            "needs_background": "light"
          }
        }
      ]
    },
    {
      "cell_type": "code",
      "source": [
        "# Evaluate the model.\n",
        "test_loss, test_acc = model.evaluate(test_images,to_categorical(test_labels))\n",
        "print('Test accuracy: %.3f' % test_acc)"
      ],
      "metadata": {
        "colab": {
          "base_uri": "https://localhost:8080/"
        },
        "id": "J_iTgg6_ZoD0",
        "outputId": "ee5f6f45-02a5-4450-de07-b80c75cd3417"
      },
      "execution_count": null,
      "outputs": [
        {
          "output_type": "stream",
          "name": "stdout",
          "text": [
            "313/313 [==============================] - 2s 6ms/step - loss: 0.2309 - categorical_accuracy: 0.9194\n",
            "Test accuracy: 0.919\n"
          ]
        }
      ]
    },
    {
      "cell_type": "markdown",
      "source": [
        "model 2 får en test accuracy på 0.919"
      ],
      "metadata": {
        "id": "KRoMtPpXctWN"
      }
    },
    {
      "cell_type": "markdown",
      "source": [
        "#Model 3"
      ],
      "metadata": {
        "id": "whNlhqz6dGqP"
      }
    },
    {
      "cell_type": "code",
      "source": [
        "# create the base pre-trained model\n",
        "vgg_model = keras.applications.vgg16.VGG16(\n",
        "    weights='imagenet', \n",
        "    include_top=False,\n",
        "    input_shape=[NEWIMG_HEIGHT, NEWIMG_HEIGHT, 3]\n",
        "    )\n",
        "\n",
        "## adds all the layers untill and including block3_pool to our model\n",
        "input = vgg_model.get_layer('block3_pool').output\n",
        "\n",
        "#x = Conv2D(filters=32, kernel_size=(3, 3), padding='same', activation='relu', input_shape=input.shape)\n",
        "\n",
        "x = keras.layers.BatchNormalization(axis=-1)(input)\n",
        "\n",
        "# add a global spatial average pooling layer\n",
        "#x = tf.keras.layers.GlobalAveragePooling1D()(x)\n",
        "x = Flatten()(x)\n",
        "\n",
        "# let's add a fully-connected layer\n",
        "x = Dense(512, activation='relu')(x)\n",
        "x = keras.layers.BatchNormalization()(x)\n",
        "x = Dropout(0.5)(x)\n",
        "\n",
        "# add the output layer\n",
        "predictions = Dense(units=num_classes, activation='softmax')(x)\n",
        "\n",
        "\n",
        "# this is the model we will train\n",
        "model = Model(inputs=vgg_model.input, outputs=predictions)\n",
        "\n",
        "\n",
        "# first: train only the top layers (which were randomly initialized)\n",
        "# i.e. freeze all convolutional vgg16 layers\n",
        "\n",
        "vgg_model.trainable = False\n",
        "\n",
        "model.summary()"
      ],
      "metadata": {
        "colab": {
          "base_uri": "https://localhost:8080/"
        },
        "id": "c9hJG1sNdGLw",
        "outputId": "04c355d4-2b52-4faa-92f3-c7f561787c19"
      },
      "execution_count": null,
      "outputs": [
        {
          "output_type": "stream",
          "name": "stdout",
          "text": [
            "Model: \"model_3\"\n",
            "_________________________________________________________________\n",
            " Layer (type)                Output Shape              Param #   \n",
            "=================================================================\n",
            " input_5 (InputLayer)        [(None, 32, 32, 3)]       0         \n",
            "                                                                 \n",
            " block1_conv1 (Conv2D)       (None, 32, 32, 64)        1792      \n",
            "                                                                 \n",
            " block1_conv2 (Conv2D)       (None, 32, 32, 64)        36928     \n",
            "                                                                 \n",
            " block1_pool (MaxPooling2D)  (None, 16, 16, 64)        0         \n",
            "                                                                 \n",
            " block2_conv1 (Conv2D)       (None, 16, 16, 128)       73856     \n",
            "                                                                 \n",
            " block2_conv2 (Conv2D)       (None, 16, 16, 128)       147584    \n",
            "                                                                 \n",
            " block2_pool (MaxPooling2D)  (None, 8, 8, 128)         0         \n",
            "                                                                 \n",
            " block3_conv1 (Conv2D)       (None, 8, 8, 256)         295168    \n",
            "                                                                 \n",
            " block3_conv2 (Conv2D)       (None, 8, 8, 256)         590080    \n",
            "                                                                 \n",
            " block3_conv3 (Conv2D)       (None, 8, 8, 256)         590080    \n",
            "                                                                 \n",
            " block3_pool (MaxPooling2D)  (None, 4, 4, 256)         0         \n",
            "                                                                 \n",
            " batch_normalization_11 (Bat  (None, 4, 4, 256)        1024      \n",
            " chNormalization)                                                \n",
            "                                                                 \n",
            " flatten_4 (Flatten)         (None, 4096)              0         \n",
            "                                                                 \n",
            " dense_11 (Dense)            (None, 512)               2097664   \n",
            "                                                                 \n",
            " batch_normalization_12 (Bat  (None, 512)              2048      \n",
            " chNormalization)                                                \n",
            "                                                                 \n",
            " dropout_7 (Dropout)         (None, 512)               0         \n",
            "                                                                 \n",
            " dense_12 (Dense)            (None, 10)                5130      \n",
            "                                                                 \n",
            "=================================================================\n",
            "Total params: 3,841,354\n",
            "Trainable params: 2,104,330\n",
            "Non-trainable params: 1,737,024\n",
            "_________________________________________________________________\n"
          ]
        }
      ]
    },
    {
      "cell_type": "code",
      "source": [
        "model.compile(\n",
        "  optimizer='adam',\n",
        "  loss='categorical_crossentropy',\n",
        "  metrics=['categorical_accuracy']\n",
        ")\n",
        "\n",
        "epochs = 35      ## Number of epoch to run\n",
        "batch_size = 32  ## Mini batch size\n",
        "\n",
        "#early stop\n",
        "es = tf.keras.callbacks.EarlyStopping('val_loss', patience=5, restore_best_weights = True)\n",
        "\n",
        "# Train the model.\n",
        "history = model.fit( \n",
        "    train_images, to_categorical(train_labels), \n",
        "    epochs=epochs, \n",
        "    batch_size=batch_size, \n",
        "    verbose = 1, \n",
        "    callbacks=[es], \n",
        "    validation_data=(val_images, to_categorical(val_labels)) \n",
        "    )"
      ],
      "metadata": {
        "colab": {
          "base_uri": "https://localhost:8080/"
        },
        "id": "nwdLQ4IWdxnx",
        "outputId": "2809ce08-ccf3-4356-b295-88f7b0213430"
      },
      "execution_count": null,
      "outputs": [
        {
          "output_type": "stream",
          "name": "stdout",
          "text": [
            "Epoch 1/35\n",
            "1500/1500 [==============================] - 10s 6ms/step - loss: 0.3955 - categorical_accuracy: 0.8658 - val_loss: 0.2826 - val_categorical_accuracy: 0.8978\n",
            "Epoch 2/35\n",
            "1500/1500 [==============================] - 9s 6ms/step - loss: 0.2863 - categorical_accuracy: 0.8967 - val_loss: 0.2818 - val_categorical_accuracy: 0.9004\n",
            "Epoch 3/35\n",
            "1500/1500 [==============================] - 9s 6ms/step - loss: 0.2674 - categorical_accuracy: 0.9041 - val_loss: 0.2545 - val_categorical_accuracy: 0.9112\n",
            "Epoch 4/35\n",
            "1500/1500 [==============================] - 9s 6ms/step - loss: 0.2503 - categorical_accuracy: 0.9096 - val_loss: 0.2423 - val_categorical_accuracy: 0.9141\n",
            "Epoch 5/35\n",
            "1500/1500 [==============================] - 9s 6ms/step - loss: 0.2372 - categorical_accuracy: 0.9148 - val_loss: 0.2623 - val_categorical_accuracy: 0.9105\n",
            "Epoch 6/35\n",
            "1500/1500 [==============================] - 9s 6ms/step - loss: 0.2252 - categorical_accuracy: 0.9187 - val_loss: 0.2344 - val_categorical_accuracy: 0.9172\n",
            "Epoch 7/35\n",
            "1500/1500 [==============================] - 9s 6ms/step - loss: 0.2146 - categorical_accuracy: 0.9214 - val_loss: 0.2198 - val_categorical_accuracy: 0.9220\n",
            "Epoch 8/35\n",
            "1500/1500 [==============================] - 9s 6ms/step - loss: 0.2097 - categorical_accuracy: 0.9243 - val_loss: 0.2309 - val_categorical_accuracy: 0.9222\n",
            "Epoch 9/35\n",
            "1500/1500 [==============================] - 9s 6ms/step - loss: 0.1987 - categorical_accuracy: 0.9284 - val_loss: 0.2202 - val_categorical_accuracy: 0.9232\n",
            "Epoch 10/35\n",
            "1500/1500 [==============================] - 9s 6ms/step - loss: 0.1932 - categorical_accuracy: 0.9282 - val_loss: 0.2235 - val_categorical_accuracy: 0.9225\n",
            "Epoch 11/35\n",
            "1500/1500 [==============================] - 9s 6ms/step - loss: 0.1871 - categorical_accuracy: 0.9312 - val_loss: 0.2237 - val_categorical_accuracy: 0.9206\n",
            "Epoch 12/35\n",
            "1500/1500 [==============================] - 9s 6ms/step - loss: 0.1834 - categorical_accuracy: 0.9317 - val_loss: 0.2103 - val_categorical_accuracy: 0.9248\n",
            "Epoch 13/35\n",
            "1500/1500 [==============================] - 9s 6ms/step - loss: 0.1713 - categorical_accuracy: 0.9369 - val_loss: 0.2197 - val_categorical_accuracy: 0.9238\n",
            "Epoch 14/35\n",
            "1500/1500 [==============================] - 9s 6ms/step - loss: 0.1707 - categorical_accuracy: 0.9371 - val_loss: 0.2116 - val_categorical_accuracy: 0.9252\n",
            "Epoch 15/35\n",
            "1500/1500 [==============================] - 9s 6ms/step - loss: 0.1677 - categorical_accuracy: 0.9394 - val_loss: 0.2150 - val_categorical_accuracy: 0.9274\n",
            "Epoch 16/35\n",
            "1500/1500 [==============================] - 9s 6ms/step - loss: 0.1598 - categorical_accuracy: 0.9418 - val_loss: 0.2258 - val_categorical_accuracy: 0.9268\n",
            "Epoch 17/35\n",
            "1500/1500 [==============================] - 9s 6ms/step - loss: 0.1560 - categorical_accuracy: 0.9423 - val_loss: 0.2306 - val_categorical_accuracy: 0.9250\n"
          ]
        }
      ]
    },
    {
      "cell_type": "code",
      "source": [
        "epochrange = range(1, len(history.history['loss']) + 1)\n",
        "train_acc = history.history['categorical_accuracy']\n",
        "val_acc = history.history['val_categorical_accuracy']\n",
        "\n",
        "train_loss = history.history['loss']\n",
        "val_loss = history.history['val_loss']\n",
        "\n",
        "plt.plot(epochrange, train_acc, 'bo', label='Training acc')\n",
        "plt.plot(epochrange, val_acc, 'b', label='Validation acc')\n",
        "plt.title('Training and validation accuracy (modell 3)')\n",
        "plt.xlabel('Epochs')\n",
        "plt.ylabel('Accuracy')\n",
        "plt.legend()\n",
        "plt.show()\n",
        "\n",
        "plt.plot(epochrange, train_loss, 'bo', label='Training loss')\n",
        "plt.plot(epochrange, val_loss, 'b', label='Validation loss')\n",
        "plt.title('Training and validation loss (modell 3)')\n",
        "plt.xlabel('Epochs')\n",
        "plt.ylabel('Loss')\n",
        "plt.legend()\n",
        "plt.show()"
      ],
      "metadata": {
        "colab": {
          "base_uri": "https://localhost:8080/",
          "height": 573
        },
        "id": "nxL0G_uNeGPn",
        "outputId": "36d1ba9e-fea9-434a-99fc-133fe628545e"
      },
      "execution_count": null,
      "outputs": [
        {
          "output_type": "display_data",
          "data": {
            "text/plain": [
              "<Figure size 432x288 with 1 Axes>"
            ],
            "image/png": "[encoded data removed]"
          },
          "metadata": {
            "needs_background": "light"
          }
        },
        {
          "output_type": "display_data",
          "data": {
            "text/plain": [
              "<Figure size 432x288 with 1 Axes>"
            ],
            "image/png": "[encoded data removed]"
          },
          "metadata": {
            "needs_background": "light"
          }
        }
      ]
    },
    {
      "cell_type": "code",
      "source": [
        "# Evaluate the model.\n",
        "test_loss, test_acc = model.evaluate(test_images,to_categorical(test_labels))\n",
        "print('Test accuracy: %.3f' % test_acc)"
      ],
      "metadata": {
        "colab": {
          "base_uri": "https://localhost:8080/"
        },
        "id": "je87WYLxeN45",
        "outputId": "d5bb0d94-1d01-46cc-ad1c-e3f193511bc3"
      },
      "execution_count": null,
      "outputs": [
        {
          "output_type": "stream",
          "name": "stdout",
          "text": [
            "313/313 [==============================] - 2s 5ms/step - loss: 0.2199 - categorical_accuracy: 0.9249\n",
            "Test accuracy: 0.925\n"
          ]
        }
      ]
    },
    {
      "cell_type": "markdown",
      "source": [
        "Model 3 fick test accuracy på 92.5%"
      ],
      "metadata": {
        "id": "c5dIAC_dfI70"
      }
    },
    {
      "cell_type": "markdown",
      "source": [
        "#Analys\n",
        "Model 1 fick bäst resultat med en test accuaracy på 92.6%\n",
        "\n",
        "modellen hade \n",
        "Total params: 4,037,962\n",
        "Trainable params: 2,299,914\n",
        "\n",
        "jämfört med min bästa modell från lab 1 som hade Test accuracy: 0.915 och 1,912,810 parametrar\n",
        "\n",
        "Det var en väldigt stor skillnad i träningstiden, där min model för förra labben tog mycket (10x) längre tid att träna.  "
      ],
      "metadata": {
        "id": "IwKnkd3gm7RG"
      }
    }
  ]
}