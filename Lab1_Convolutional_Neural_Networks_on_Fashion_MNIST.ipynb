{
  "cells": [
    {
      "cell_type": "markdown",
      "metadata": {
        "id": "view-in-github",
        "colab_type": "text"
      },
      "source": [
        "<a href=\"https://colab.research.google.com/github/Alexnder77/DeepLearning--methods-and-applications/blob/main/Lab1_Convolutional_Neural_Networks_on_Fashion_MNIST.ipynb\" target=\"_parent\"><img src=\"https://colab.research.google.com/assets/colab-badge.svg\" alt=\"Open In Colab\"/></a>"
      ]
    },
    {
      "cell_type": "markdown",
      "metadata": {
        "id": "nAUA6cvb_CNY"
      },
      "source": [
        "# 5TF078 Deep Learning Course\n",
        "## Excercise 1 Convolutional Neural Networks on Fashion-MNIST\n",
        "\n",
        "Code from Tomas Nordström, Umeå University\n",
        "\n",
        "\n",
        "\n"
      ]
    },
    {
      "cell_type": "markdown",
      "metadata": {
        "id": "r-tp9iDDCpsz"
      },
      "source": [
        "# First we initilize our Python environment"
      ]
    },
    {
      "cell_type": "code",
      "execution_count": null,
      "metadata": {
        "colab": {
          "base_uri": "https://localhost:8080/"
        },
        "id": "F1pcr2Em_Lzo",
        "outputId": "8f090ebe-40ea-4607-c165-860ba4a9b265"
      },
      "outputs": [
        {
          "name": "stdout",
          "output_type": "stream",
          "text": [
            "TensorFlow version: 2.8.0\n",
            "Keras version: 2.8.0\n"
          ]
        }
      ],
      "source": [
        "# Import needed libraries\n",
        "import tensorflow as tf\n",
        "print('TensorFlow version:', tf.__version__)\n",
        "\n",
        "import tensorflow.keras\n",
        "import tensorflow.keras as keras\n",
        "from tensorflow.keras.models import Sequential\n",
        "from tensorflow.keras.layers import Dense, Flatten, Conv2D\n",
        "from tensorflow.keras.utils import to_categorical\n",
        "from tensorflow.keras.datasets import mnist \n",
        "print('Keras version:',tensorflow.keras.__version__)\n",
        "\n",
        "# Helper libraries\n",
        "import numpy as np\n",
        "import sklearn\n",
        "from sklearn.model_selection import train_test_split\n",
        "\n",
        "# Matlab plotting\n",
        "import matplotlib\n",
        "import matplotlib.pyplot as plt\n"
      ]
    },
    {
      "cell_type": "code",
      "execution_count": null,
      "metadata": {
        "colab": {
          "base_uri": "https://localhost:8080/"
        },
        "id": "Uf0ZWo9JyEhS",
        "outputId": "9535b00f-97b1-4512-d49d-668e2077a512"
      },
      "outputs": [
        {
          "name": "stdout",
          "output_type": "stream",
          "text": [
            "GPU 0: Tesla K80 (UUID: GPU-6526a14c-f0f5-2c18-f260-6d3bed67dfdf)\n"
          ]
        }
      ],
      "source": [
        "# Test for GPU and determine what GPU we have\n",
        "import sys\n",
        "if not tf.config.list_physical_devices('GPU'):\n",
        "     print(\"No GPU was detected. CNNs can be very slow without a GPU.\")\n",
        "     IN_COLAB = 'google.colab' in sys.modules\n",
        "     if IN_COLAB:\n",
        "         print(\"Go to Runtime > Change runtime and select a GPU hardware accelerator.\")\n",
        "else:\n",
        "     !nvidia-smi -L"
      ]
    },
    {
      "cell_type": "markdown",
      "metadata": {
        "id": "AhWTXQfXBiN6"
      },
      "source": [
        "# Set up the needed data sets"
      ]
    },
    {
      "cell_type": "markdown",
      "metadata": {
        "id": "kmtboE3kolMi"
      },
      "source": [
        "## Get hold of a data-set\n",
        "In this exercise we will use Fashion MNIST dataset, which an alternative to MNIST (it is a little harder, but the image size is the same). This is available directly as a [Keras dataset](https://keras.io/datasets/). This is a dataset of 60,000 28x28 grayscale images of 10 fashion categories, along with a test set of 10,000 images. \n",
        "\n",
        "Note that we split our data into **three** data sets: training, validation, testing; each with its own purpose."
      ]
    },
    {
      "cell_type": "code",
      "execution_count": null,
      "metadata": {
        "id": "0ViGcOSI-_t6"
      },
      "outputs": [],
      "source": [
        "# Get Fashion-MNIST training and test data from Keras database (https://keras.io/datasets/)\n",
        "(train_images0, train_labels0), (test_images, test_labels) = tensorflow.keras.datasets.fashion_mnist.load_data()\n",
        "\n",
        "# Define labels\n",
        "class_names = ['T-shirt/top', 'Trouser', 'Pullover', 'Dress', 'Coat', \n",
        "               'Sandal', 'Shirt', 'Sneaker', 'Bag', 'Ankle boot']\n",
        "\n",
        "# Split the training set into a training and a validation set (20% is validation)\n",
        "train_images, val_images, train_labels, val_labels = train_test_split(train_images0, train_labels0, test_size=0.20)"
      ]
    },
    {
      "cell_type": "code",
      "execution_count": null,
      "metadata": {
        "colab": {
          "base_uri": "https://localhost:8080/"
        },
        "id": "GNZOs2YwraHQ",
        "outputId": "f8429f9e-e85b-43b7-e823-8aa0e02217fb"
      },
      "outputs": [
        {
          "name": "stdout",
          "output_type": "stream",
          "text": [
            "No training images: 48000  with image size: 28 x 28\n",
            "No test images: 10000\n",
            "No val images: 12000\n",
            "Training labels: [0 1 2 3 4 5 6 7 8 9] ; That is, 10 classes.\n"
          ]
        }
      ],
      "source": [
        "# Print som basic information of data set sizes and data sizes\n",
        "train_no,x,y = train_images.shape\n",
        "print('No training images:',train_no, ' with image size:',x,'x',y)\n",
        "label_no = len(train_labels)\n",
        "if (label_no != train_no) : \n",
        "  print('# labels do not match # training images')\n",
        "\n",
        "test_no,x,y = test_images.shape\n",
        "label_no = len(test_labels)\n",
        "print('No test images:',test_no)\n",
        "if (label_no != test_no) : \n",
        "  print('# labels do not match # test images')\n",
        "\n",
        "val_no,x,y = val_images.shape\n",
        "label_no = len(val_labels)\n",
        "print('No val images:',val_no)\n",
        "if (label_no != val_no) : \n",
        "  print('# labels do not match # val images')\n",
        "\n",
        "classes = np.unique(train_labels)\n",
        "num_classes = len(classes)\n",
        "print('Training labels:', np.unique(train_labels), \"; That is,\", num_classes,\"classes.\" )\n"
      ]
    },
    {
      "cell_type": "markdown",
      "metadata": {
        "id": "Cg4WF2gMzfpm"
      },
      "source": [
        "Note that the training labels are an integer between 0 and 9, which is not very good as outputs (or inputs) for DL models. A better approach would be to use a one-hot encoding. We can convert our label vectors to one-hot encoded matrices by using [to_categorical](https://www.tensorflow.org/api_docs/python/tf/keras/utils/to_categorical) `tensorflow.keras.utils.to_categorical(train_labels)`.\n",
        "\n",
        "But we can achieve the same thing by using [SparseCategoricalCrossentropy](https://keras.io/api/losses/probabilistic_losses/#sparsecategoricalcrossentropy-class) as a loss function instead of the [CategoricalCrossentropy](https://keras.io/api/losses/probabilistic_losses/#categoricalcrossentropy-class). Also note that in both cases we need our model to have as many output nodes as we have classes! "
      ]
    },
    {
      "cell_type": "markdown",
      "metadata": {
        "id": "gYVB7wI8sFgh"
      },
      "source": [
        "## Adjust the data to be better work as ML input\n",
        "\n",
        "Many models working with images are assuming the data to be represented as a 4-D tensor with the shape BHWC [batch_size, height, width, channels] (some ML frameworks prefer to use BCHW instead, so be careful when starting to work on new datasets or ML-frameworks).\n",
        "\n",
        "We also want to normalize data to be \"small\" and \"close\" to zero, e.g. 0 to 1 or –1 to 1. In this example we normalize to values between –0.5 and 0.5."
      ]
    },
    {
      "cell_type": "code",
      "execution_count": null,
      "metadata": {
        "id": "XL5_y51yqOkR"
      },
      "outputs": [],
      "source": [
        "# Add an \"empty\" color dimension for our data sets\n",
        "train_images = np.expand_dims(train_images, -1)\n",
        "val_images = np.expand_dims(val_images, -1)\n",
        "test_images = np.expand_dims(test_images, -1)\n",
        "\n",
        "# Normalize the images.\n",
        "train_images = (train_images / 255) - 0.5\n",
        "test_images = (test_images / 255) - 0.5\n",
        "val_images = (val_images / 255) - 0.5"
      ]
    },
    {
      "cell_type": "markdown",
      "metadata": {
        "id": "P9F4zkQQDnAz"
      },
      "source": [
        "## Explore the data\n",
        "It is always advised to take a look at the data, to see if we need to massage it further."
      ]
    },
    {
      "cell_type": "code",
      "execution_count": null,
      "metadata": {
        "colab": {
          "base_uri": "https://localhost:8080/",
          "height": 107
        },
        "id": "dMYGkeRxJ__U",
        "outputId": "5c21c465-e085-4c5e-f2b3-fe3543fa148e"
      },
      "outputs": [
        {
          "name": "stdout",
          "output_type": "stream",
          "text": [
            "Label: Pullover\n"
          ]
        },
        {
          "data": {
            "image/png": "[encoded data removed]",
            "text/plain": [
              "<Figure size 432x288 with 1 Axes>"
            ]
          },
          "metadata": {},
          "output_type": "display_data"
        },
        {
          "name": "stdout",
          "output_type": "stream",
          "text": [
            "Label: Shirt\n"
          ]
        },
        {
          "data": {
            "image/png": "[encoded data removed]",
            "text/plain": [
              "<Figure size 432x288 with 1 Axes>"
            ]
          },
          "metadata": {},
          "output_type": "display_data"
        }
      ],
      "source": [
        "# As these are images (28x28) it can be interesting to plot some as images\n",
        "image_index = [42, 789] # \"Random\" images to print\n",
        "\n",
        "for index in image_index:\n",
        "  print( 'Label:', class_names[train_labels[index]])\n",
        "  plt.figure()\n",
        "  plt.imshow(np.squeeze(train_images[index], axis=-1))\n",
        "  plt.gray()\n",
        "  plt.grid(False)\n",
        "  plt.show(block=False)"
      ]
    },
    {
      "cell_type": "markdown",
      "metadata": {
        "id": "H7CFf7AO4ysm"
      },
      "source": [
        "# Define a convolutional network model"
      ]
    },
    {
      "cell_type": "markdown",
      "metadata": {
        "id": "948BTPYO5BI_"
      },
      "source": [
        "## Define the model using Keras"
      ]
    },
    {
      "cell_type": "code",
      "execution_count": null,
      "metadata": {
        "colab": {
          "base_uri": "https://localhost:8080/"
        },
        "id": "NHl97r_t4_2t",
        "outputId": "1f155418-45d8-48e6-d2f4-c565544a5e9d"
      },
      "outputs": [
        {
          "name": "stdout",
          "output_type": "stream",
          "text": [
            "Input shape (28, 28, 1)\n",
            "Model: \"sequential\"\n",
            "_________________________________________________________________\n",
            " Layer (type)                Output Shape              Param #   \n",
            "=================================================================\n",
            " conv2d (Conv2D)             (None, 28, 28, 32)        320       \n",
            "                                                                 \n",
            " flatten (Flatten)           (None, 25088)             0         \n",
            "                                                                 \n",
            " dense (Dense)               (None, 64)                1605696   \n",
            "                                                                 \n",
            " dense_1 (Dense)             (None, 10)                650       \n",
            "                                                                 \n",
            "=================================================================\n",
            "Total params: 1,606,666\n",
            "Trainable params: 1,606,666\n",
            "Non-trainable params: 0\n",
            "_________________________________________________________________\n"
          ]
        }
      ],
      "source": [
        "# We need to give the input shape (i.e. our image shape) to our model\n",
        "input_shape = test_images[0].shape\n",
        "print(\"Input shape\", input_shape)\n",
        "\n",
        "# The Keras model will be the simples Keras model for NN networks. \n",
        "# It is a single stack of layers connected sequentially.\n",
        "model = Sequential([\n",
        "\n",
        "# Add a convolution layer\n",
        "Conv2D(filters=32, kernel_size=(3, 3), padding='same', activation='relu', input_shape=input_shape),\n",
        "\n",
        "# Flatten the input. This prepares the vector for fully connected layers.\n",
        "Flatten(),\n",
        "\n",
        "# Add a hidden Dense layer\n",
        "Dense(units=64, activation='relu'),\n",
        "\n",
        "# Add a an output layer. The output space is the number of classes\n",
        "#    Softmax makes the output as probablity vector of the different classes\n",
        "Dense(units=num_classes, activation='softmax')\n",
        "\n",
        "])\n",
        "\n",
        "model.summary()"
      ]
    },
    {
      "cell_type": "markdown",
      "metadata": {
        "id": "7opTLcKc73By"
      },
      "source": [
        "# Set up the model and optimizer for training\n",
        "To set up the optimization of this model we need to compile it, and set what [optimizer](https://keras.io/api/optimizers/), what [loss](https://keras.io/api/losses/), and what [metrics](https://keras.io/api/metrics/) to use. Where, metric is similar to a loss but not used during training but can be used to measure training progress.\n",
        "\n",
        "The model (its parameters) is also initialized to some random values during this phase."
      ]
    },
    {
      "cell_type": "code",
      "execution_count": null,
      "metadata": {
        "id": "luIM0Q8I9I9_"
      },
      "outputs": [],
      "source": [
        "# Compile the model, as a preparation for training\n",
        "model.compile(\n",
        "  optimizer='sgd',\n",
        "  loss='categorical_crossentropy',\n",
        "  metrics=['categorical_accuracy']\n",
        ")"
      ]
    },
    {
      "cell_type": "markdown",
      "metadata": {
        "id": "q56fJLY89amp"
      },
      "source": [
        "# Run the training"
      ]
    },
    {
      "cell_type": "code",
      "execution_count": null,
      "metadata": {
        "colab": {
          "base_uri": "https://localhost:8080/"
        },
        "id": "fnJObQvJ-Gv7",
        "outputId": "61d88441-f4a2-4c63-940e-08da5846b5e1"
      },
      "outputs": [
        {
          "name": "stdout",
          "output_type": "stream",
          "text": [
            "Epoch 1/15\n",
            "1500/1500 [==============================] - 8s 6ms/step - loss: 0.3248 - categorical_accuracy: 0.8827 - val_loss: 0.3250 - val_categorical_accuracy: 0.8815\n",
            "Epoch 2/15\n",
            "1500/1500 [==============================] - 8s 6ms/step - loss: 0.3081 - categorical_accuracy: 0.8898 - val_loss: 0.3021 - val_categorical_accuracy: 0.8930\n",
            "Epoch 3/15\n",
            "1500/1500 [==============================] - 8s 6ms/step - loss: 0.2939 - categorical_accuracy: 0.8946 - val_loss: 0.3089 - val_categorical_accuracy: 0.8910\n",
            "Epoch 4/15\n",
            "1500/1500 [==============================] - 8s 6ms/step - loss: 0.2824 - categorical_accuracy: 0.8966 - val_loss: 0.2840 - val_categorical_accuracy: 0.8992\n",
            "Epoch 5/15\n",
            "1500/1500 [==============================] - 8s 6ms/step - loss: 0.2705 - categorical_accuracy: 0.9022 - val_loss: 0.2801 - val_categorical_accuracy: 0.8978\n",
            "Epoch 6/15\n",
            "1500/1500 [==============================] - 8s 6ms/step - loss: 0.2609 - categorical_accuracy: 0.9047 - val_loss: 0.2746 - val_categorical_accuracy: 0.9022\n",
            "Epoch 7/15\n",
            "1500/1500 [==============================] - 8s 6ms/step - loss: 0.2516 - categorical_accuracy: 0.9080 - val_loss: 0.2851 - val_categorical_accuracy: 0.8982\n",
            "Epoch 8/15\n",
            "1500/1500 [==============================] - 8s 6ms/step - loss: 0.2435 - categorical_accuracy: 0.9115 - val_loss: 0.2785 - val_categorical_accuracy: 0.9003\n",
            "Epoch 9/15\n",
            "1500/1500 [==============================] - 8s 5ms/step - loss: 0.2351 - categorical_accuracy: 0.9147 - val_loss: 0.2687 - val_categorical_accuracy: 0.9023\n",
            "Epoch 10/15\n",
            "1500/1500 [==============================] - 8s 6ms/step - loss: 0.2273 - categorical_accuracy: 0.9171 - val_loss: 0.2620 - val_categorical_accuracy: 0.9074\n",
            "Epoch 11/15\n",
            "1500/1500 [==============================] - 9s 6ms/step - loss: 0.2208 - categorical_accuracy: 0.9197 - val_loss: 0.2590 - val_categorical_accuracy: 0.9067\n",
            "Epoch 12/15\n",
            "1500/1500 [==============================] - 9s 6ms/step - loss: 0.2131 - categorical_accuracy: 0.9222 - val_loss: 0.2563 - val_categorical_accuracy: 0.9098\n",
            "Epoch 13/15\n",
            "1500/1500 [==============================] - 8s 6ms/step - loss: 0.2072 - categorical_accuracy: 0.9251 - val_loss: 0.2586 - val_categorical_accuracy: 0.9069\n",
            "Epoch 14/15\n",
            "1500/1500 [==============================] - 8s 5ms/step - loss: 0.2009 - categorical_accuracy: 0.9276 - val_loss: 0.2669 - val_categorical_accuracy: 0.9046\n",
            "Epoch 15/15\n",
            "1500/1500 [==============================] - 8s 5ms/step - loss: 0.1957 - categorical_accuracy: 0.9294 - val_loss: 0.2505 - val_categorical_accuracy: 0.9105\n"
          ]
        }
      ],
      "source": [
        "epochs = 15      ## Number of epoch to run\n",
        "batch_size = 32  ## Mini batch size\n",
        "\n",
        "# Train the model.\n",
        "history = model.fit(\n",
        "  train_images, to_categorical(train_labels),\n",
        "  epochs=epochs,\n",
        "  batch_size=batch_size,\n",
        "  verbose = 1,\n",
        "  validation_data=(val_images, to_categorical(val_labels))\n",
        ")"
      ]
    },
    {
      "cell_type": "markdown",
      "metadata": {
        "id": "9weV4eGc9tp4"
      },
      "source": [
        "# Explore the training progress\n",
        "Show the training progress, by plotting the training and validation accuracy and loss"
      ]
    },
    {
      "cell_type": "code",
      "execution_count": null,
      "metadata": {
        "colab": {
          "base_uri": "https://localhost:8080/",
          "height": 573
        },
        "id": "jSw5Dp3f-XCw",
        "outputId": "161c466b-8056-4788-c2bb-caee4b41ab4a"
      },
      "outputs": [
        {
          "data": {
            "image/png": "[encoded data removed]",
            "text/plain": [
              "<Figure size 432x288 with 1 Axes>"
            ]
          },
          "metadata": {},
          "output_type": "display_data"
        },
        {
          "data": {
            "image/png": "[encoded data removed]",
            "text/plain": [
              "<Figure size 432x288 with 1 Axes>"
            ]
          },
          "metadata": {},
          "output_type": "display_data"
        }
      ],
      "source": [
        "epochrange = range(1, epochs + 1)\n",
        "train_acc = history.history['categorical_accuracy']\n",
        "val_acc = history.history['val_categorical_accuracy']\n",
        "\n",
        "train_loss = history.history['loss']\n",
        "val_loss = history.history['val_loss']\n",
        "\n",
        "plt.plot(epochrange, train_acc, 'bo', label='Training acc')\n",
        "plt.plot(epochrange, val_acc, 'b', label='Validation acc')\n",
        "plt.title('Training and validation accuracy (modell 1)')\n",
        "plt.xlabel('Epochs')\n",
        "plt.ylabel('Accuracy')\n",
        "plt.legend()\n",
        "plt.show()\n",
        "\n",
        "plt.plot(epochrange, train_loss, 'bo', label='Training loss')\n",
        "plt.plot(epochrange, val_loss, 'b', label='Validation loss')\n",
        "plt.title('Training and validation loss (modell 1)')\n",
        "plt.xlabel('Epochs')\n",
        "plt.ylabel('Loss')\n",
        "plt.legend()\n",
        "plt.show()"
      ]
    },
    {
      "cell_type": "markdown",
      "metadata": {
        "id": "Bn2kPMlsJxpW"
      },
      "source": [
        "Notice how the training accuracy continously increases (and the loss continously decreases), while the validation accuracy and loss get to a plateau after some 12-14 epochs. The validation loss does not seems to rise significatly so we do not suspect it to overtrain, rather that the capcity (complexity) of the model is too small and the model can not do much better."
      ]
    },
    {
      "cell_type": "markdown",
      "metadata": {
        "id": "_6V9rOkX-bRa"
      },
      "source": [
        "# Evaluate the model on the test data.\n",
        "This first model get something around 89.5 % accuracy, not bad, but we can improve on this!"
      ]
    },
    {
      "cell_type": "code",
      "execution_count": null,
      "metadata": {
        "colab": {
          "base_uri": "https://localhost:8080/"
        },
        "id": "ZrwPwEQn-dVX",
        "outputId": "929d2750-8b74-4520-bea9-5ba47f5fc10f"
      },
      "outputs": [
        {
          "name": "stdout",
          "output_type": "stream",
          "text": [
            "313/313 [==============================] - 2s 4ms/step - loss: 0.2795 - categorical_accuracy: 0.8983\n",
            "Test accuracy: 0.898\n"
          ]
        }
      ],
      "source": [
        "# Evaluate the model.\n",
        "test_loss, test_acc = model.evaluate(test_images,to_categorical(test_labels))\n",
        "print('Test accuracy: %.3f' % test_acc)"
      ]
    },
    {
      "cell_type": "markdown",
      "metadata": {
        "id": "oR2HHYg2AoMK"
      },
      "source": [
        "# Övning Del 1a\n",
        "## Frågor att besvara:\n",
        "* Hur många parametrar har din modell?\n",
        ">1,606,666st\n",
        "* Vilken testnoggrannhet får du? (Då modellen är slumpmässing initierad kan du få ett värde som skiljer sig lite grann.)\n",
        "> 89,8%\n",
        "* Om du tittar på träningsförloppet, har modellen tränat färdigt eller är den undertränad eller kanske övertränad, vad i träningskurvorna kan avgöra det?\n",
        "\n",
        "> Det verkar inte som att modellen är övertränad pga att validation acc inte försämras, training acc fortsätter att gå upp medans validation acc stannar av, vilket tyder på att modellen inte är komplex nog  \n",
        "\n",
        "* Hur många epochs skulle ha varit lämpligt att använda?\n",
        ">16-17 st"
      ]
    },
    {
      "cell_type": "markdown",
      "metadata": {
        "id": "5kyZXtIvBtQz"
      },
      "source": [
        "# Del 1b - Fortsatta experiment:\n",
        "Det finns nu många saker du kan utforska men vi vill att du nu undersöker lite olika modeller. Undersök om du får en förbättring av testnoggrannhet ifall du gör modellen mer kraftfull (fler noder och/eller fler lager). Ha hela tiden ett öga på ifall modellen börjar överträna (att valideringsförlusten börjar gå uppåt igen).\n",
        "* Hur många faltningslager verkar rimligt att använda (håll dig under 4-5, det kan vara bättre att lägga till kärnor istället.\n",
        "* Hur många kärnor/noder verkar vettigt att använda?\n",
        "* Pröva även att använda ex 5x5 kärna för det första eller kanske något lager till, blir det bättre då? \n",
        "* Målet är att få modellen att bli komplex nog att väl kunna representera data, men samtigt inte bli starkt övertränad.\n",
        "* Om en modell övertränar, gör ett experiment där du istället för att köra alla dina epochs slutar där verifieringsfelet börjar gå uppåt igen. Vad blir skillnaden i testnoggrannhet?\n",
        "\n",
        "Du behöver inte ha med kod för alla experiment, om du inte vill, men vi vill åtminstone se koden, träningsförloppet, och testnoggrannheten för din bästa modell.\n",
        "\n",
        "För minst en av dessa parameterinställningar ska du nå mer än 90% rätt på testdata för Fashion-MNIST."
      ]
    },
    {
      "cell_type": "markdown",
      "metadata": {
        "id": "wP2vOP0rhmMr"
      },
      "source": [
        "## Model 1 "
      ]
    },
    {
      "cell_type": "code",
      "execution_count": null,
      "metadata": {
        "colab": {
          "base_uri": "https://localhost:8080/"
        },
        "id": "jWXN0L94hr2T",
        "outputId": "16cf19e4-6934-49cb-f6b7-201b87102d67"
      },
      "outputs": [
        {
          "name": "stdout",
          "output_type": "stream",
          "text": [
            "Input shape (28, 28, 1)\n",
            "Model: \"sequential_1\"\n",
            "_________________________________________________________________\n",
            " Layer (type)                Output Shape              Param #   \n",
            "=================================================================\n",
            " conv2d_1 (Conv2D)           (None, 28, 28, 32)        320       \n",
            "                                                                 \n",
            " conv2d_2 (Conv2D)           (None, 28, 28, 32)        9248      \n",
            "                                                                 \n",
            " conv2d_3 (Conv2D)           (None, 28, 28, 32)        9248      \n",
            "                                                                 \n",
            " conv2d_4 (Conv2D)           (None, 28, 28, 32)        9248      \n",
            "                                                                 \n",
            " flatten_1 (Flatten)         (None, 25088)             0         \n",
            "                                                                 \n",
            " dense_2 (Dense)             (None, 64)                1605696   \n",
            "                                                                 \n",
            " dense_3 (Dense)             (None, 10)                650       \n",
            "                                                                 \n",
            "=================================================================\n",
            "Total params: 1,634,410\n",
            "Trainable params: 1,634,410\n",
            "Non-trainable params: 0\n",
            "_________________________________________________________________\n"
          ]
        }
      ],
      "source": [
        "# We need to give the input shape (i.e. our image shape) to our model\n",
        "input_shape = test_images[0].shape\n",
        "print(\"Input shape\", input_shape)\n",
        "\n",
        "# The Keras model will be the simples Keras model for NN networks. \n",
        "# It is a single stack of layers connected sequentially.\n",
        "model = Sequential([\n",
        "\n",
        "# Add a convolution layer\n",
        "Conv2D(filters=32, kernel_size=(3, 3), padding='same', activation='relu', input_shape=input_shape),\n",
        "Conv2D(filters=32, kernel_size=(3, 3), padding='same', activation='relu', input_shape=input_shape),\n",
        "Conv2D(filters=32, kernel_size=(3, 3), padding='same', activation='relu', input_shape=input_shape),\n",
        "Conv2D(filters=32, kernel_size=(3, 3), padding='same', activation='relu', input_shape=input_shape),\n",
        "\n",
        "# Flatten the input. This prepares the vector for fully connected layers.\n",
        "Flatten(),\n",
        "\n",
        "# Add a hidden Dense layer\n",
        "Dense(units=64, activation='relu'),\n",
        "\n",
        "# Add a an output layer. The output space is the number of classes\n",
        "#    Softmax makes the output as probablity vector of the different classes\n",
        "Dense(units=num_classes, activation='softmax')\n",
        "\n",
        "])\n",
        "\n",
        "model.summary()\n"
      ]
    },
    {
      "cell_type": "markdown",
      "metadata": {
        "id": "BI2x3wcdkWnv"
      },
      "source": [
        "\n",
        "Test accuracy: 0.905\n",
        "modellen verkar börjar överträna efter 13 epocher"
      ]
    },
    {
      "cell_type": "markdown",
      "metadata": {
        "id": "rFikxPfDkncU"
      },
      "source": [
        "##Model 2"
      ]
    },
    {
      "cell_type": "code",
      "execution_count": null,
      "metadata": {
        "colab": {
          "base_uri": "https://localhost:8080/"
        },
        "id": "iFYvpJPskvV_",
        "outputId": "dbb3759f-b97c-400f-d44a-63de769a5e43"
      },
      "outputs": [
        {
          "name": "stdout",
          "output_type": "stream",
          "text": [
            "Input shape (28, 28, 1)\n",
            "Model: \"sequential_2\"\n",
            "_________________________________________________________________\n",
            " Layer (type)                Output Shape              Param #   \n",
            "=================================================================\n",
            " conv2d_5 (Conv2D)           (None, 28, 28, 32)        320       \n",
            "                                                                 \n",
            " conv2d_6 (Conv2D)           (None, 28, 28, 32)        9248      \n",
            "                                                                 \n",
            " conv2d_7 (Conv2D)           (None, 28, 28, 32)        9248      \n",
            "                                                                 \n",
            " conv2d_8 (Conv2D)           (None, 28, 28, 32)        9248      \n",
            "                                                                 \n",
            " flatten_2 (Flatten)         (None, 25088)             0         \n",
            "                                                                 \n",
            " dense_4 (Dense)             (None, 64)                1605696   \n",
            "                                                                 \n",
            " dense_5 (Dense)             (None, 64)                4160      \n",
            "                                                                 \n",
            " dense_6 (Dense)             (None, 10)                650       \n",
            "                                                                 \n",
            "=================================================================\n",
            "Total params: 1,638,570\n",
            "Trainable params: 1,638,570\n",
            "Non-trainable params: 0\n",
            "_________________________________________________________________\n"
          ]
        }
      ],
      "source": [
        "# We need to give the input shape (i.e. our image shape) to our model\n",
        "input_shape = test_images[0].shape\n",
        "print(\"Input shape\", input_shape)\n",
        "\n",
        "# The Keras model will be the simples Keras model for NN networks. \n",
        "# It is a single stack of layers connected sequentially.\n",
        "model = Sequential([\n",
        "\n",
        "# Add a convolution layer\n",
        "Conv2D(filters=32, kernel_size=(3, 3), padding='same', activation='relu', input_shape=input_shape),\n",
        "Conv2D(filters=32, kernel_size=(3, 3), padding='same', activation='relu', input_shape=input_shape),\n",
        "Conv2D(filters=32, kernel_size=(3, 3), padding='same', activation='relu', input_shape=input_shape),\n",
        "Conv2D(filters=32, kernel_size=(3, 3), padding='same', activation='relu', input_shape=input_shape),\n",
        "\n",
        "# Flatten the input. This prepares the vector for fully connected layers.\n",
        "Flatten(),\n",
        "\n",
        "# Add a hidden Dense layer\n",
        "Dense(units=64, activation='relu'),\n",
        "Dense(units=64, activation='relu'),\n",
        "\n",
        "# Add a an output layer. The output space is the number of classes\n",
        "#    Softmax makes the output as probablity vector of the different classes\n",
        "Dense(units=num_classes, activation='softmax')\n",
        "\n",
        "])\n",
        "\n",
        "model.summary()\n"
      ]
    },
    {
      "cell_type": "markdown",
      "metadata": {
        "id": "Kt1sh6U3mLgj"
      },
      "source": [
        "Test accuracy: 0.906,\n",
        "vallidation acc blir plant efter 8 epocher"
      ]
    },
    {
      "cell_type": "code",
      "execution_count": null,
      "metadata": {
        "colab": {
          "base_uri": "https://localhost:8080/",
          "height": 1000
        },
        "id": "rtwEWIMriTOD",
        "outputId": "b2ad89cd-e65b-4365-aeeb-438ba49fb4e7"
      },
      "outputs": [
        {
          "name": "stdout",
          "output_type": "stream",
          "text": [
            "Epoch 1/15\n",
            "1500/1500 [==============================] - 23s 15ms/step - loss: 0.6912 - categorical_accuracy: 0.7471 - val_loss: 0.4918 - val_categorical_accuracy: 0.8148\n",
            "Epoch 2/15\n",
            "1500/1500 [==============================] - 20s 13ms/step - loss: 0.4211 - categorical_accuracy: 0.8476 - val_loss: 0.3643 - val_categorical_accuracy: 0.8697\n",
            "Epoch 3/15\n",
            "1500/1500 [==============================] - 19s 13ms/step - loss: 0.3670 - categorical_accuracy: 0.8667 - val_loss: 0.3452 - val_categorical_accuracy: 0.8748\n",
            "Epoch 4/15\n",
            "1500/1500 [==============================] - 19s 13ms/step - loss: 0.3280 - categorical_accuracy: 0.8805 - val_loss: 0.3207 - val_categorical_accuracy: 0.8839\n",
            "Epoch 5/15\n",
            "1500/1500 [==============================] - 20s 13ms/step - loss: 0.2992 - categorical_accuracy: 0.8905 - val_loss: 0.3023 - val_categorical_accuracy: 0.8892\n",
            "Epoch 6/15\n",
            "1500/1500 [==============================] - 20s 13ms/step - loss: 0.2754 - categorical_accuracy: 0.8977 - val_loss: 0.2738 - val_categorical_accuracy: 0.9005\n",
            "Epoch 7/15\n",
            "1500/1500 [==============================] - 20s 13ms/step - loss: 0.2553 - categorical_accuracy: 0.9054 - val_loss: 0.2881 - val_categorical_accuracy: 0.8937\n",
            "Epoch 8/15\n",
            "1500/1500 [==============================] - 19s 13ms/step - loss: 0.2385 - categorical_accuracy: 0.9103 - val_loss: 0.2541 - val_categorical_accuracy: 0.9090\n",
            "Epoch 9/15\n",
            "1500/1500 [==============================] - 19s 13ms/step - loss: 0.2205 - categorical_accuracy: 0.9179 - val_loss: 0.2623 - val_categorical_accuracy: 0.9072\n",
            "Epoch 10/15\n",
            "1500/1500 [==============================] - 20s 13ms/step - loss: 0.2067 - categorical_accuracy: 0.9235 - val_loss: 0.2606 - val_categorical_accuracy: 0.9050\n",
            "Epoch 11/15\n",
            "1500/1500 [==============================] - 20s 13ms/step - loss: 0.1905 - categorical_accuracy: 0.9303 - val_loss: 0.2591 - val_categorical_accuracy: 0.9075\n",
            "Epoch 12/15\n",
            "1500/1500 [==============================] - 19s 13ms/step - loss: 0.1756 - categorical_accuracy: 0.9355 - val_loss: 0.2589 - val_categorical_accuracy: 0.9084\n",
            "Epoch 13/15\n",
            "1500/1500 [==============================] - 20s 13ms/step - loss: 0.1622 - categorical_accuracy: 0.9399 - val_loss: 0.2461 - val_categorical_accuracy: 0.9147\n",
            "Epoch 14/15\n",
            "1500/1500 [==============================] - 19s 13ms/step - loss: 0.1486 - categorical_accuracy: 0.9443 - val_loss: 0.2445 - val_categorical_accuracy: 0.9118\n",
            "Epoch 15/15\n",
            "1500/1500 [==============================] - 20s 13ms/step - loss: 0.1355 - categorical_accuracy: 0.9496 - val_loss: 0.2671 - val_categorical_accuracy: 0.9162\n"
          ]
        },
        {
          "data": {
            "image/png": "[encoded data removed]",
            "text/plain": [
              "<Figure size 432x288 with 1 Axes>"
            ]
          },
          "metadata": {},
          "output_type": "display_data"
        },
        {
          "data": {
            "image/png": "[encoded data removed]",
            "text/plain": [
              "<Figure size 432x288 with 1 Axes>"
            ]
          },
          "metadata": {},
          "output_type": "display_data"
        },
        {
          "name": "stdout",
          "output_type": "stream",
          "text": [
            "313/313 [==============================] - 2s 6ms/step - loss: 0.2945 - categorical_accuracy: 0.9059\n",
            "Test accuracy: 0.906\n"
          ]
        }
      ],
      "source": [
        "# Compile the model, as a preparation for training\n",
        "model.compile(\n",
        "  optimizer='sgd',\n",
        "  loss='categorical_crossentropy',\n",
        "  metrics=['categorical_accuracy']\n",
        ")\n",
        "\n",
        "epochs = 15      ## Number of epoch to run\n",
        "batch_size = 32  ## Mini batch size\n",
        "\n",
        "# Train the model.\n",
        "history = model.fit(\n",
        "  train_images, to_categorical(train_labels),\n",
        "  epochs=epochs,\n",
        "  batch_size=batch_size,\n",
        "  verbose = 1,\n",
        "  validation_data=(val_images, to_categorical(val_labels))\n",
        ")\n",
        "\n",
        "epochrange = range(1, epochs + 1)\n",
        "train_acc = history.history['categorical_accuracy']\n",
        "val_acc = history.history['val_categorical_accuracy']\n",
        "\n",
        "train_loss = history.history['loss']\n",
        "val_loss = history.history['val_loss']\n",
        "\n",
        "plt.plot(epochrange, train_acc, 'bo', label='Training acc')\n",
        "plt.plot(epochrange, val_acc, 'b', label='Validation acc')\n",
        "plt.title('Training and validation accuracy (modell 1)')\n",
        "plt.xlabel('Epochs')\n",
        "plt.ylabel('Accuracy')\n",
        "plt.legend()\n",
        "plt.show()\n",
        "\n",
        "plt.plot(epochrange, train_loss, 'bo', label='Training loss')\n",
        "plt.plot(epochrange, val_loss, 'b', label='Validation loss')\n",
        "plt.title('Training and validation loss (modell 1)')\n",
        "plt.xlabel('Epochs')\n",
        "plt.ylabel('Loss')\n",
        "plt.legend()\n",
        "plt.show()\n",
        "\n",
        "# Evaluate the model.\n",
        "test_loss, test_acc = model.evaluate(test_images,to_categorical(test_labels))\n",
        "print('Test accuracy: %.3f' % test_acc)"
      ]
    },
    {
      "cell_type": "markdown",
      "metadata": {
        "id": "w-aaV1UJm3Lc"
      },
      "source": [
        "##Model 3\n",
        "120 filters "
      ]
    },
    {
      "cell_type": "code",
      "execution_count": null,
      "metadata": {
        "colab": {
          "base_uri": "https://localhost:8080/"
        },
        "id": "_mDkAViIm6d9",
        "outputId": "4ae1bda1-478b-4848-d793-de48efb17629"
      },
      "outputs": [
        {
          "name": "stdout",
          "output_type": "stream",
          "text": [
            "Input shape (28, 28, 1)\n",
            "Model: \"sequential_5\"\n",
            "_________________________________________________________________\n",
            " Layer (type)                Output Shape              Param #   \n",
            "=================================================================\n",
            " conv2d_15 (Conv2D)          (None, 28, 28, 120)       1200      \n",
            "                                                                 \n",
            " conv2d_16 (Conv2D)          (None, 28, 28, 120)       129720    \n",
            "                                                                 \n",
            " conv2d_17 (Conv2D)          (None, 28, 28, 120)       129720    \n",
            "                                                                 \n",
            " flatten_5 (Flatten)         (None, 94080)             0         \n",
            "                                                                 \n",
            " dense_11 (Dense)            (None, 100)               9408100   \n",
            "                                                                 \n",
            " dense_12 (Dense)            (None, 10)                1010      \n",
            "                                                                 \n",
            "=================================================================\n",
            "Total params: 9,669,750\n",
            "Trainable params: 9,669,750\n",
            "Non-trainable params: 0\n",
            "_________________________________________________________________\n"
          ]
        }
      ],
      "source": [
        "# We need to give the input shape (i.e. our image shape) to our model\n",
        "input_shape = test_images[0].shape\n",
        "print(\"Input shape\", input_shape)\n",
        "\n",
        "# The Keras model will be the simples Keras model for NN networks. \n",
        "# It is a single stack of layers connected sequentially.\n",
        "model = Sequential([\n",
        "\n",
        "# Add a convolution layer\n",
        "Conv2D(filters=120, kernel_size=(3, 3), padding='same', activation='relu', input_shape=input_shape),\n",
        "Conv2D(filters=120, kernel_size=(3, 3), padding='same', activation='relu', input_shape=input_shape),\n",
        "Conv2D(filters=120, kernel_size=(3, 3), padding='same', activation='relu', input_shape=input_shape),\n",
        "\n",
        "# Flatten the input. This prepares the vector for fully connected layers.\n",
        "Flatten(),\n",
        "\n",
        "# Add a hidden Dense layer\n",
        "Dense(units=100, activation='relu'),\n",
        "\n",
        "\n",
        "# Add a an output layer. The output space is the number of classes\n",
        "#    Softmax makes the output as probablity vector of the different classes\n",
        "Dense(units=num_classes, activation='softmax')\n",
        "\n",
        "])\n",
        "\n",
        "model.summary()\n",
        "\n"
      ]
    },
    {
      "cell_type": "code",
      "execution_count": null,
      "metadata": {
        "colab": {
          "base_uri": "https://localhost:8080/",
          "height": 1000
        },
        "id": "xrb46gkgnQme",
        "outputId": "cb21c093-ba8f-42d8-a8a5-43f2c20750b9"
      },
      "outputs": [
        {
          "name": "stdout",
          "output_type": "stream",
          "text": [
            "Epoch 1/15\n",
            "1500/1500 [==============================] - 45s 29ms/step - loss: 0.6496 - categorical_accuracy: 0.7633 - val_loss: 0.4705 - val_categorical_accuracy: 0.8264\n",
            "Epoch 2/15\n",
            "1500/1500 [==============================] - 46s 30ms/step - loss: 0.4140 - categorical_accuracy: 0.8507 - val_loss: 0.3665 - val_categorical_accuracy: 0.8679\n",
            "Epoch 3/15\n",
            "1500/1500 [==============================] - 44s 29ms/step - loss: 0.3607 - categorical_accuracy: 0.8703 - val_loss: 0.3342 - val_categorical_accuracy: 0.8780\n",
            "Epoch 4/15\n",
            "1500/1500 [==============================] - 46s 31ms/step - loss: 0.3249 - categorical_accuracy: 0.8826 - val_loss: 0.3057 - val_categorical_accuracy: 0.8909\n",
            "Epoch 5/15\n",
            "1500/1500 [==============================] - 46s 31ms/step - loss: 0.2969 - categorical_accuracy: 0.8917 - val_loss: 0.2871 - val_categorical_accuracy: 0.8996\n",
            "Epoch 6/15\n",
            "1500/1500 [==============================] - 44s 29ms/step - loss: 0.2749 - categorical_accuracy: 0.8998 - val_loss: 0.2741 - val_categorical_accuracy: 0.9004\n",
            "Epoch 7/15\n",
            "1500/1500 [==============================] - 46s 31ms/step - loss: 0.2526 - categorical_accuracy: 0.9076 - val_loss: 0.2536 - val_categorical_accuracy: 0.9091\n",
            "Epoch 8/15\n",
            "1500/1500 [==============================] - 44s 30ms/step - loss: 0.2337 - categorical_accuracy: 0.9135 - val_loss: 0.2568 - val_categorical_accuracy: 0.9085\n",
            "Epoch 9/15\n",
            "1500/1500 [==============================] - 44s 29ms/step - loss: 0.2163 - categorical_accuracy: 0.9197 - val_loss: 0.2529 - val_categorical_accuracy: 0.9100\n",
            "Epoch 10/15\n",
            "1500/1500 [==============================] - 46s 31ms/step - loss: 0.2016 - categorical_accuracy: 0.9259 - val_loss: 0.2357 - val_categorical_accuracy: 0.9174\n",
            "Epoch 11/15\n",
            "1500/1500 [==============================] - 46s 31ms/step - loss: 0.1856 - categorical_accuracy: 0.9314 - val_loss: 0.2463 - val_categorical_accuracy: 0.9116\n",
            "Epoch 12/15\n",
            "1500/1500 [==============================] - 47s 32ms/step - loss: 0.1721 - categorical_accuracy: 0.9373 - val_loss: 0.2415 - val_categorical_accuracy: 0.9137\n",
            "Epoch 13/15\n",
            "1500/1500 [==============================] - 46s 30ms/step - loss: 0.1584 - categorical_accuracy: 0.9417 - val_loss: 0.2417 - val_categorical_accuracy: 0.9156\n",
            "Epoch 14/15\n",
            "1500/1500 [==============================] - 46s 30ms/step - loss: 0.1437 - categorical_accuracy: 0.9480 - val_loss: 0.2668 - val_categorical_accuracy: 0.9062\n",
            "Epoch 15/15\n",
            "1500/1500 [==============================] - 46s 30ms/step - loss: 0.1307 - categorical_accuracy: 0.9524 - val_loss: 0.2697 - val_categorical_accuracy: 0.9131\n"
          ]
        },
        {
          "data": {
            "image/png": "[encoded data removed]",
            "text/plain": [
              "<Figure size 432x288 with 1 Axes>"
            ]
          },
          "metadata": {},
          "output_type": "display_data"
        },
        {
          "data": {
            "image/png": "[encoded data removed]",
            "text/plain": [
              "<Figure size 432x288 with 1 Axes>"
            ]
          },
          "metadata": {},
          "output_type": "display_data"
        },
        {
          "name": "stdout",
          "output_type": "stream",
          "text": [
            "313/313 [==============================] - 4s 12ms/step - loss: 0.2889 - categorical_accuracy: 0.9057\n",
            "Test accuracy: 0.906\n"
          ]
        }
      ],
      "source": [
        "# Compile the model, as a preparation for training\n",
        "model.compile(\n",
        "  optimizer='sgd',\n",
        "  loss='categorical_crossentropy',\n",
        "  metrics=['categorical_accuracy']\n",
        ")\n",
        "\n",
        "epochs = 15      ## Number of epoch to run\n",
        "batch_size = 32  ## Mini batch size\n",
        "\n",
        "# Train the model.\n",
        "history = model.fit(\n",
        "  train_images, to_categorical(train_labels),\n",
        "  epochs=epochs,\n",
        "  batch_size=batch_size,\n",
        "  verbose = 1,\n",
        "  validation_data=(val_images, to_categorical(val_labels))\n",
        ")\n",
        "\n",
        "epochrange = range(1, epochs + 1)\n",
        "train_acc = history.history['categorical_accuracy']\n",
        "val_acc = history.history['val_categorical_accuracy']\n",
        "\n",
        "train_loss = history.history['loss']\n",
        "val_loss = history.history['val_loss']\n",
        "\n",
        "plt.plot(epochrange, train_acc, 'bo', label='Training acc')\n",
        "plt.plot(epochrange, val_acc, 'b', label='Validation acc')\n",
        "plt.title('Training and validation accuracy (modell 1)')\n",
        "plt.xlabel('Epochs')\n",
        "plt.ylabel('Accuracy')\n",
        "plt.legend()\n",
        "plt.show()\n",
        "\n",
        "plt.plot(epochrange, train_loss, 'bo', label='Training loss')\n",
        "plt.plot(epochrange, val_loss, 'b', label='Validation loss')\n",
        "plt.title('Training and validation loss (modell 1)')\n",
        "plt.xlabel('Epochs')\n",
        "plt.ylabel('Loss')\n",
        "plt.legend()\n",
        "plt.show()\n",
        "\n",
        "# Evaluate the model.\n",
        "test_loss, test_acc = model.evaluate(test_images,to_categorical(test_labels))\n",
        "print('Test accuracy: %.3f' % test_acc)"
      ]
    },
    {
      "cell_type": "markdown",
      "metadata": {
        "id": "pD2bU1kxrIgP"
      },
      "source": [
        "Test accuracy: 0.906,\n",
        "börjar bli övertränad efter epoch 10,\n",
        "tog betydligt längre tid att träna en tidigare modeller,"
      ]
    },
    {
      "cell_type": "markdown",
      "metadata": {
        "id": "8S-hCEHIrls3"
      },
      "source": [
        "## Model 4"
      ]
    },
    {
      "cell_type": "code",
      "execution_count": null,
      "metadata": {
        "colab": {
          "base_uri": "https://localhost:8080/"
        },
        "id": "fNOcPP6WrpI6",
        "outputId": "60819ae8-846c-4c00-c6ea-e96afc5d30dc"
      },
      "outputs": [
        {
          "name": "stdout",
          "output_type": "stream",
          "text": [
            "Input shape (28, 28, 1)\n",
            "Model: \"sequential_6\"\n",
            "_________________________________________________________________\n",
            " Layer (type)                Output Shape              Param #   \n",
            "=================================================================\n",
            " conv2d_18 (Conv2D)          (None, 28, 28, 64)        1664      \n",
            "                                                                 \n",
            " conv2d_19 (Conv2D)          (None, 28, 28, 64)        102464    \n",
            "                                                                 \n",
            " conv2d_20 (Conv2D)          (None, 28, 28, 64)        36928     \n",
            "                                                                 \n",
            " flatten_6 (Flatten)         (None, 50176)             0         \n",
            "                                                                 \n",
            " dense_13 (Dense)            (None, 100)               5017700   \n",
            "                                                                 \n",
            " dense_14 (Dense)            (None, 10)                1010      \n",
            "                                                                 \n",
            "=================================================================\n",
            "Total params: 5,159,766\n",
            "Trainable params: 5,159,766\n",
            "Non-trainable params: 0\n",
            "_________________________________________________________________\n"
          ]
        }
      ],
      "source": [
        "# We need to give the input shape (i.e. our image shape) to our model\n",
        "input_shape = test_images[0].shape\n",
        "print(\"Input shape\", input_shape)\n",
        "\n",
        "# The Keras model will be the simples Keras model for NN networks. \n",
        "# It is a single stack of layers connected sequentially.\n",
        "model = Sequential([\n",
        "\n",
        "# Add a convolution layer\n",
        "Conv2D(filters=64, kernel_size=(5, 5), padding='same', activation='relu', input_shape=input_shape),\n",
        "\n",
        "Conv2D(filters=64, kernel_size=(5, 5), padding='same', activation='relu', input_shape=input_shape),\n",
        "Conv2D(filters=64, kernel_size=(3, 3), padding='same', activation='relu', input_shape=input_shape),\n",
        "\n",
        "# Flatten the input. This prepares the vector for fully connected layers.\n",
        "Flatten(),\n",
        "\n",
        "# Add a hidden Dense layer\n",
        "Dense(units=100, activation='relu'),\n",
        "\n",
        "\n",
        "# Add a an output layer. The output space is the number of classes\n",
        "#    Softmax makes the output as probablity vector of the different classes\n",
        "Dense(units=num_classes, activation='softmax')\n",
        "\n",
        "])\n",
        "\n",
        "model.summary()\n",
        "\n"
      ]
    },
    {
      "cell_type": "code",
      "execution_count": null,
      "metadata": {
        "colab": {
          "base_uri": "https://localhost:8080/",
          "height": 1000
        },
        "id": "2Wg1wyn9r24q",
        "outputId": "f634262c-83af-4282-ca93-1b47fa6c5515"
      },
      "outputs": [
        {
          "name": "stdout",
          "output_type": "stream",
          "text": [
            "Epoch 1/15\n",
            "1500/1500 [==============================] - 26s 17ms/step - loss: 0.6521 - categorical_accuracy: 0.7617 - val_loss: 0.4434 - val_categorical_accuracy: 0.8340\n",
            "Epoch 2/15\n",
            "1500/1500 [==============================] - 24s 16ms/step - loss: 0.4001 - categorical_accuracy: 0.8551 - val_loss: 0.3501 - val_categorical_accuracy: 0.8745\n",
            "Epoch 3/15\n",
            "1500/1500 [==============================] - 25s 17ms/step - loss: 0.3464 - categorical_accuracy: 0.8731 - val_loss: 0.3302 - val_categorical_accuracy: 0.8826\n",
            "Epoch 4/15\n",
            "1500/1500 [==============================] - 24s 16ms/step - loss: 0.3109 - categorical_accuracy: 0.8857 - val_loss: 0.3012 - val_categorical_accuracy: 0.8902\n",
            "Epoch 5/15\n",
            "1500/1500 [==============================] - 24s 16ms/step - loss: 0.2832 - categorical_accuracy: 0.8958 - val_loss: 0.2824 - val_categorical_accuracy: 0.8975\n",
            "Epoch 6/15\n",
            "1500/1500 [==============================] - 24s 16ms/step - loss: 0.2616 - categorical_accuracy: 0.9042 - val_loss: 0.2606 - val_categorical_accuracy: 0.9049\n",
            "Epoch 7/15\n",
            "1500/1500 [==============================] - 24s 16ms/step - loss: 0.2434 - categorical_accuracy: 0.9108 - val_loss: 0.2606 - val_categorical_accuracy: 0.9040\n",
            "Epoch 8/15\n",
            "1500/1500 [==============================] - 24s 16ms/step - loss: 0.2238 - categorical_accuracy: 0.9184 - val_loss: 0.2630 - val_categorical_accuracy: 0.9065\n",
            "Epoch 9/15\n",
            "1500/1500 [==============================] - 24s 16ms/step - loss: 0.2073 - categorical_accuracy: 0.9235 - val_loss: 0.2419 - val_categorical_accuracy: 0.9129\n",
            "Epoch 10/15\n",
            "1500/1500 [==============================] - 24s 16ms/step - loss: 0.1919 - categorical_accuracy: 0.9295 - val_loss: 0.2591 - val_categorical_accuracy: 0.9079\n",
            "Epoch 11/15\n",
            "1500/1500 [==============================] - 24s 16ms/step - loss: 0.1781 - categorical_accuracy: 0.9337 - val_loss: 0.2451 - val_categorical_accuracy: 0.9122\n",
            "Epoch 12/15\n",
            "1500/1500 [==============================] - 24s 16ms/step - loss: 0.1645 - categorical_accuracy: 0.9402 - val_loss: 0.2505 - val_categorical_accuracy: 0.9126\n",
            "Epoch 13/15\n",
            "1500/1500 [==============================] - 24s 16ms/step - loss: 0.1507 - categorical_accuracy: 0.9451 - val_loss: 0.2439 - val_categorical_accuracy: 0.9160\n",
            "Epoch 14/15\n",
            "1500/1500 [==============================] - 25s 16ms/step - loss: 0.1373 - categorical_accuracy: 0.9501 - val_loss: 0.2495 - val_categorical_accuracy: 0.9141\n",
            "Epoch 15/15\n",
            "1500/1500 [==============================] - 24s 16ms/step - loss: 0.1263 - categorical_accuracy: 0.9539 - val_loss: 0.2616 - val_categorical_accuracy: 0.9147\n"
          ]
        },
        {
          "data": {
            "image/png": "[encoded data removed]",
            "text/plain": [
              "<Figure size 432x288 with 1 Axes>"
            ]
          },
          "metadata": {},
          "output_type": "display_data"
        },
        {
          "data": {
            "image/png": "[encoded data removed]",
            "text/plain": [
              "<Figure size 432x288 with 1 Axes>"
            ]
          },
          "metadata": {},
          "output_type": "display_data"
        },
        {
          "name": "stdout",
          "output_type": "stream",
          "text": [
            "313/313 [==============================] - 3s 8ms/step - loss: 0.2891 - categorical_accuracy: 0.9085\n",
            "Test accuracy: 0.909\n"
          ]
        }
      ],
      "source": [
        "# Compile the model, as a preparation for training\n",
        "model.compile(\n",
        "  optimizer='sgd',\n",
        "  loss='categorical_crossentropy',\n",
        "  metrics=['categorical_accuracy']\n",
        ")\n",
        "\n",
        "epochs = 15      ## Number of epoch to run\n",
        "batch_size = 32  ## Mini batch size\n",
        "\n",
        "# Train the model.\n",
        "history = model.fit(\n",
        "  train_images, to_categorical(train_labels),\n",
        "  epochs=epochs,\n",
        "  batch_size=batch_size,\n",
        "  verbose = 1,\n",
        "  validation_data=(val_images, to_categorical(val_labels))\n",
        ")\n",
        "\n",
        "epochrange = range(1, epochs + 1)\n",
        "train_acc = history.history['categorical_accuracy']\n",
        "val_acc = history.history['val_categorical_accuracy']\n",
        "\n",
        "train_loss = history.history['loss']\n",
        "val_loss = history.history['val_loss']\n",
        "\n",
        "plt.plot(epochrange, train_acc, 'bo', label='Training acc')\n",
        "plt.plot(epochrange, val_acc, 'b', label='Validation acc')\n",
        "plt.title('Training and validation accuracy (modell 1)')\n",
        "plt.xlabel('Epochs')\n",
        "plt.ylabel('Accuracy')\n",
        "plt.legend()\n",
        "plt.show()\n",
        "\n",
        "plt.plot(epochrange, train_loss, 'bo', label='Training loss')\n",
        "plt.plot(epochrange, val_loss, 'b', label='Validation loss')\n",
        "plt.title('Training and validation loss (modell 1)')\n",
        "plt.xlabel('Epochs')\n",
        "plt.ylabel('Loss')\n",
        "plt.legend()\n",
        "plt.show()\n",
        "\n",
        "# Evaluate the model.\n",
        "test_loss, test_acc = model.evaluate(test_images,to_categorical(test_labels))\n",
        "print('Test accuracy: %.3f' % test_acc)"
      ]
    },
    {
      "cell_type": "markdown",
      "metadata": {
        "id": "2hZ1wszXtUIM"
      },
      "source": [
        "Test accuracy: 0.909, övertränad vid epoch 9"
      ]
    },
    {
      "cell_type": "markdown",
      "metadata": {
        "id": "q2avMgKGtfX7"
      },
      "source": [
        "## Modell 5 \n",
        "använder MaxPooling för att få ner antalet parametrar "
      ]
    },
    {
      "cell_type": "code",
      "execution_count": null,
      "metadata": {
        "colab": {
          "base_uri": "https://localhost:8080/"
        },
        "id": "DInrswYktkyV",
        "outputId": "29a73877-bdc1-4775-e130-05705d81252e"
      },
      "outputs": [
        {
          "name": "stdout",
          "output_type": "stream",
          "text": [
            "Input shape (28, 28, 1)\n",
            "Model: \"sequential_9\"\n",
            "_________________________________________________________________\n",
            " Layer (type)                Output Shape              Param #   \n",
            "=================================================================\n",
            " conv2d_27 (Conv2D)          (None, 28, 28, 120)       3120      \n",
            "                                                                 \n",
            " max_pooling2d_4 (MaxPooling  (None, 14, 14, 120)      0         \n",
            " 2D)                                                             \n",
            "                                                                 \n",
            " conv2d_28 (Conv2D)          (None, 14, 14, 120)       360120    \n",
            "                                                                 \n",
            " max_pooling2d_5 (MaxPooling  (None, 7, 7, 120)        0         \n",
            " 2D)                                                             \n",
            "                                                                 \n",
            " conv2d_29 (Conv2D)          (None, 7, 7, 120)         129720    \n",
            "                                                                 \n",
            " flatten_9 (Flatten)         (None, 5880)              0         \n",
            "                                                                 \n",
            " dense_19 (Dense)            (None, 100)               588100    \n",
            "                                                                 \n",
            " dense_20 (Dense)            (None, 10)                1010      \n",
            "                                                                 \n",
            "=================================================================\n",
            "Total params: 1,082,070\n",
            "Trainable params: 1,082,070\n",
            "Non-trainable params: 0\n",
            "_________________________________________________________________\n"
          ]
        }
      ],
      "source": [
        "# We need to give the input shape (i.e. our image shape) to our model\n",
        "input_shape = test_images[0].shape\n",
        "print(\"Input shape\", input_shape)\n",
        "\n",
        "# The Keras model will be the simples Keras model for NN networks. \n",
        "# It is a single stack of layers connected sequentially.\n",
        "model = Sequential([\n",
        "\n",
        "# Add a convolution layer\n",
        "Conv2D(filters=120, kernel_size=(5, 5), padding='same', activation='relu', input_shape=input_shape),\n",
        "\n",
        "keras.layers.MaxPooling2D(pool_size=(2,2), strides=(2,2)),\n",
        "\n",
        "Conv2D(filters=120, kernel_size=(5, 5), padding='same', activation='relu', input_shape=input_shape),\n",
        "\n",
        "keras.layers.MaxPooling2D(pool_size=(2,2), strides=(2,2)),\n",
        "\n",
        "Conv2D(filters=120, kernel_size=(3, 3), padding='same', activation='relu', input_shape=input_shape),\n",
        "\n",
        "# Flatten the input. This prepares the vector for fully connected layers.\n",
        "Flatten(),\n",
        "\n",
        "# Add a hidden Dense layer\n",
        "Dense(units=100, activation='relu'),\n",
        "\n",
        "\n",
        "# Add a an output layer. The output space is the number of classes\n",
        "#    Softmax makes the output as probablity vector of the different classes\n",
        "Dense(units=num_classes, activation='softmax')\n",
        "\n",
        "])\n",
        "\n",
        "model.summary()\n"
      ]
    },
    {
      "cell_type": "code",
      "execution_count": null,
      "metadata": {
        "colab": {
          "base_uri": "https://localhost:8080/",
          "height": 1000
        },
        "id": "r_59vbf5tsN_",
        "outputId": "42411add-140d-4de4-920a-a94465fb3714"
      },
      "outputs": [
        {
          "name": "stdout",
          "output_type": "stream",
          "text": [
            "Epoch 1/15\n",
            "1500/1500 [==============================] - 26s 17ms/step - loss: 0.8636 - categorical_accuracy: 0.6912 - val_loss: 0.5375 - val_categorical_accuracy: 0.7988\n",
            "Epoch 2/15\n",
            "1500/1500 [==============================] - 26s 17ms/step - loss: 0.4791 - categorical_accuracy: 0.8227 - val_loss: 0.4170 - val_categorical_accuracy: 0.8474\n",
            "Epoch 3/15\n",
            "1500/1500 [==============================] - 26s 17ms/step - loss: 0.4068 - categorical_accuracy: 0.8505 - val_loss: 0.3798 - val_categorical_accuracy: 0.8623\n",
            "Epoch 4/15\n",
            "1500/1500 [==============================] - 26s 17ms/step - loss: 0.3679 - categorical_accuracy: 0.8670 - val_loss: 0.3507 - val_categorical_accuracy: 0.8727\n",
            "Epoch 5/15\n",
            "1500/1500 [==============================] - 27s 18ms/step - loss: 0.3422 - categorical_accuracy: 0.8763 - val_loss: 0.3261 - val_categorical_accuracy: 0.8821\n",
            "Epoch 6/15\n",
            "1500/1500 [==============================] - 27s 18ms/step - loss: 0.3208 - categorical_accuracy: 0.8830 - val_loss: 0.3192 - val_categorical_accuracy: 0.8863\n",
            "Epoch 7/15\n",
            "1500/1500 [==============================] - 26s 17ms/step - loss: 0.3044 - categorical_accuracy: 0.8886 - val_loss: 0.3149 - val_categorical_accuracy: 0.8843\n",
            "Epoch 8/15\n",
            "1500/1500 [==============================] - 26s 17ms/step - loss: 0.2888 - categorical_accuracy: 0.8944 - val_loss: 0.2970 - val_categorical_accuracy: 0.8937\n",
            "Epoch 9/15\n",
            "1500/1500 [==============================] - 26s 17ms/step - loss: 0.2764 - categorical_accuracy: 0.9000 - val_loss: 0.2753 - val_categorical_accuracy: 0.9006\n",
            "Epoch 10/15\n",
            "1500/1500 [==============================] - 25s 17ms/step - loss: 0.2637 - categorical_accuracy: 0.9041 - val_loss: 0.2700 - val_categorical_accuracy: 0.9010\n",
            "Epoch 11/15\n",
            "1500/1500 [==============================] - 26s 17ms/step - loss: 0.2542 - categorical_accuracy: 0.9071 - val_loss: 0.2753 - val_categorical_accuracy: 0.9016\n",
            "Epoch 12/15\n",
            "1500/1500 [==============================] - 27s 18ms/step - loss: 0.2449 - categorical_accuracy: 0.9096 - val_loss: 0.2613 - val_categorical_accuracy: 0.9075\n",
            "Epoch 13/15\n",
            "1500/1500 [==============================] - 27s 18ms/step - loss: 0.2363 - categorical_accuracy: 0.9141 - val_loss: 0.2561 - val_categorical_accuracy: 0.9093\n",
            "Epoch 14/15\n",
            "1500/1500 [==============================] - 27s 18ms/step - loss: 0.2280 - categorical_accuracy: 0.9167 - val_loss: 0.2726 - val_categorical_accuracy: 0.8995\n",
            "Epoch 15/15\n",
            "1500/1500 [==============================] - 27s 18ms/step - loss: 0.2208 - categorical_accuracy: 0.9182 - val_loss: 0.2429 - val_categorical_accuracy: 0.9137\n"
          ]
        },
        {
          "data": {
            "image/png": "[encoded data removed]",
            "text/plain": [
              "<Figure size 432x288 with 1 Axes>"
            ]
          },
          "metadata": {},
          "output_type": "display_data"
        },
        {
          "data": {
            "image/png": "[encoded data removed]",
            "text/plain": [
              "<Figure size 432x288 with 1 Axes>"
            ]
          },
          "metadata": {},
          "output_type": "display_data"
        },
        {
          "name": "stdout",
          "output_type": "stream",
          "text": [
            "313/313 [==============================] - 3s 10ms/step - loss: 0.2736 - categorical_accuracy: 0.9014\n",
            "Test accuracy: 0.901\n"
          ]
        }
      ],
      "source": [
        "# Compile the model, as a preparation for training\n",
        "model.compile(\n",
        "  optimizer='sgd',\n",
        "  loss='categorical_crossentropy',\n",
        "  metrics=['categorical_accuracy']\n",
        ")\n",
        "\n",
        "epochs = 15      ## Number of epoch to run\n",
        "batch_size = 32  ## Mini batch size\n",
        "\n",
        "# Train the model.\n",
        "history = model.fit(\n",
        "  train_images, to_categorical(train_labels),\n",
        "  epochs=epochs,\n",
        "  batch_size=batch_size,\n",
        "  verbose = 1,\n",
        "  validation_data=(val_images, to_categorical(val_labels))\n",
        ")\n",
        "\n",
        "epochrange = range(1, epochs + 1)\n",
        "train_acc = history.history['categorical_accuracy']\n",
        "val_acc = history.history['val_categorical_accuracy']\n",
        "\n",
        "train_loss = history.history['loss']\n",
        "val_loss = history.history['val_loss']\n",
        "\n",
        "plt.plot(epochrange, train_acc, 'bo', label='Training acc')\n",
        "plt.plot(epochrange, val_acc, 'b', label='Validation acc')\n",
        "plt.title('Training and validation accuracy (modell 1)')\n",
        "plt.xlabel('Epochs')\n",
        "plt.ylabel('Accuracy')\n",
        "plt.legend()\n",
        "plt.show()\n",
        "\n",
        "plt.plot(epochrange, train_loss, 'bo', label='Training loss')\n",
        "plt.plot(epochrange, val_loss, 'b', label='Validation loss')\n",
        "plt.title('Training and validation loss (modell 1)')\n",
        "plt.xlabel('Epochs')\n",
        "plt.ylabel('Loss')\n",
        "plt.legend()\n",
        "plt.show()\n",
        "\n",
        "# Evaluate the model.\n",
        "test_loss, test_acc = model.evaluate(test_images,to_categorical(test_labels))\n",
        "print('Test accuracy: %.3f' % test_acc)"
      ]
    },
    {
      "cell_type": "code",
      "execution_count": null,
      "metadata": {
        "colab": {
          "base_uri": "https://localhost:8080/"
        },
        "id": "9TfEcP9AyWan",
        "outputId": "15163622-c0c2-4af1-f664-50b25bdb517f"
      },
      "outputs": [
        {
          "name": "stdout",
          "output_type": "stream",
          "text": [
            "Epoch 1/10\n",
            "1500/1500 [==============================] - 27s 18ms/step - loss: 0.2135 - categorical_accuracy: 0.9218 - val_loss: 0.2426 - val_categorical_accuracy: 0.9152\n",
            "Epoch 2/10\n",
            "1500/1500 [==============================] - 27s 18ms/step - loss: 0.2060 - categorical_accuracy: 0.9238 - val_loss: 0.2468 - val_categorical_accuracy: 0.9144\n",
            "Epoch 3/10\n",
            "1500/1500 [==============================] - 26s 17ms/step - loss: 0.1993 - categorical_accuracy: 0.9261 - val_loss: 0.2356 - val_categorical_accuracy: 0.9160\n",
            "Epoch 4/10\n",
            "1500/1500 [==============================] - 26s 17ms/step - loss: 0.1930 - categorical_accuracy: 0.9279 - val_loss: 0.2388 - val_categorical_accuracy: 0.9156\n",
            "Epoch 5/10\n",
            "1500/1500 [==============================] - 26s 17ms/step - loss: 0.1860 - categorical_accuracy: 0.9317 - val_loss: 0.2431 - val_categorical_accuracy: 0.9131\n",
            "Epoch 6/10\n",
            "1500/1500 [==============================] - 26s 17ms/step - loss: 0.1803 - categorical_accuracy: 0.9339 - val_loss: 0.2333 - val_categorical_accuracy: 0.9162\n",
            "Epoch 7/10\n",
            "1500/1500 [==============================] - 26s 17ms/step - loss: 0.1746 - categorical_accuracy: 0.9359 - val_loss: 0.2458 - val_categorical_accuracy: 0.9128\n",
            "Epoch 8/10\n",
            "1500/1500 [==============================] - 26s 17ms/step - loss: 0.1680 - categorical_accuracy: 0.9386 - val_loss: 0.2352 - val_categorical_accuracy: 0.9180\n",
            "Epoch 9/10\n",
            "1500/1500 [==============================] - 25s 17ms/step - loss: 0.1623 - categorical_accuracy: 0.9401 - val_loss: 0.2385 - val_categorical_accuracy: 0.9171\n",
            "Epoch 10/10\n",
            "1500/1500 [==============================] - 26s 17ms/step - loss: 0.1549 - categorical_accuracy: 0.9438 - val_loss: 0.2352 - val_categorical_accuracy: 0.9189\n"
          ]
        }
      ],
      "source": [
        "epochs = 10      ## Number of epoch to run\n",
        "batch_size = 32  ## Mini batch size\n",
        "\n",
        "# Train the model.\n",
        "history = model.fit(\n",
        "  train_images, to_categorical(train_labels),\n",
        "  epochs=epochs,\n",
        "  batch_size=batch_size,\n",
        "  verbose = 1,\n",
        "  validation_data=(val_images, to_categorical(val_labels))\n",
        ")"
      ]
    },
    {
      "cell_type": "code",
      "execution_count": null,
      "metadata": {
        "colab": {
          "base_uri": "https://localhost:8080/",
          "height": 610
        },
        "id": "WJ26Zixvyp2b",
        "outputId": "3330995f-e448-4c3c-ffc2-fda2dbd0aff2"
      },
      "outputs": [
        {
          "data": {
            "image/png": "[encoded data removed]",
            "text/plain": [
              "<Figure size 432x288 with 1 Axes>"
            ]
          },
          "metadata": {},
          "output_type": "display_data"
        },
        {
          "data": {
            "image/png": "[encoded data removed]",
            "text/plain": [
              "<Figure size 432x288 with 1 Axes>"
            ]
          },
          "metadata": {},
          "output_type": "display_data"
        },
        {
          "name": "stdout",
          "output_type": "stream",
          "text": [
            "313/313 [==============================] - 3s 9ms/step - loss: 0.2642 - categorical_accuracy: 0.9075\n",
            "Test accuracy: 0.908\n"
          ]
        }
      ],
      "source": [
        "epochrange = range(1, epochs + 1)\n",
        "train_acc = history.history['categorical_accuracy']\n",
        "val_acc = history.history['val_categorical_accuracy']\n",
        "\n",
        "train_loss = history.history['loss']\n",
        "val_loss = history.history['val_loss']\n",
        "\n",
        "plt.plot(epochrange, train_acc, 'bo', label='Training acc')\n",
        "plt.plot(epochrange, val_acc, 'b', label='Validation acc')\n",
        "plt.title('Training and validation accuracy (modell 1)')\n",
        "plt.xlabel('Epochs')\n",
        "plt.ylabel('Accuracy')\n",
        "plt.legend()\n",
        "plt.show()\n",
        "\n",
        "plt.plot(epochrange, train_loss, 'bo', label='Training loss')\n",
        "plt.plot(epochrange, val_loss, 'b', label='Validation loss')\n",
        "plt.title('Training and validation loss (modell 1)')\n",
        "plt.xlabel('Epochs')\n",
        "plt.ylabel('Loss')\n",
        "plt.legend()\n",
        "plt.show()\n",
        "\n",
        "# Evaluate the model.\n",
        "test_loss, test_acc = model.evaluate(test_images,to_categorical(test_labels))\n",
        "print('Test accuracy: %.3f' % test_acc)"
      ]
    },
    {
      "cell_type": "markdown",
      "metadata": {
        "id": "nYFdSa2BzxEQ"
      },
      "source": [
        "## (Model 6)\n",
        "provar adam istället för sgd"
      ]
    },
    {
      "cell_type": "code",
      "execution_count": null,
      "metadata": {
        "colab": {
          "base_uri": "https://localhost:8080/"
        },
        "id": "itba3RCszwUM",
        "outputId": "802ea10b-e7a6-4bce-8d4e-9239e087020e"
      },
      "outputs": [
        {
          "name": "stdout",
          "output_type": "stream",
          "text": [
            "Input shape (28, 28, 1)\n",
            "Model: \"sequential_10\"\n",
            "_________________________________________________________________\n",
            " Layer (type)                Output Shape              Param #   \n",
            "=================================================================\n",
            " conv2d_30 (Conv2D)          (None, 28, 28, 120)       3120      \n",
            "                                                                 \n",
            " max_pooling2d_6 (MaxPooling  (None, 14, 14, 120)      0         \n",
            " 2D)                                                             \n",
            "                                                                 \n",
            " conv2d_31 (Conv2D)          (None, 14, 14, 120)       360120    \n",
            "                                                                 \n",
            " max_pooling2d_7 (MaxPooling  (None, 7, 7, 120)        0         \n",
            " 2D)                                                             \n",
            "                                                                 \n",
            " conv2d_32 (Conv2D)          (None, 7, 7, 120)         129720    \n",
            "                                                                 \n",
            " flatten_10 (Flatten)        (None, 5880)              0         \n",
            "                                                                 \n",
            " dense_21 (Dense)            (None, 100)               588100    \n",
            "                                                                 \n",
            " dense_22 (Dense)            (None, 10)                1010      \n",
            "                                                                 \n",
            "=================================================================\n",
            "Total params: 1,082,070\n",
            "Trainable params: 1,082,070\n",
            "Non-trainable params: 0\n",
            "_________________________________________________________________\n"
          ]
        }
      ],
      "source": [
        "# We need to give the input shape (i.e. our image shape) to our model\n",
        "input_shape = test_images[0].shape\n",
        "print(\"Input shape\", input_shape)\n",
        "\n",
        "# The Keras model will be the simples Keras model for NN networks. \n",
        "# It is a single stack of layers connected sequentially.\n",
        "model = Sequential([\n",
        "\n",
        "# Add a convolution layer\n",
        "Conv2D(filters=120, kernel_size=(5, 5), padding='same', activation='relu', input_shape=input_shape),\n",
        "\n",
        "keras.layers.MaxPooling2D(pool_size=(2,2), strides=(2,2)),\n",
        "\n",
        "Conv2D(filters=120, kernel_size=(5, 5), padding='same', activation='relu', input_shape=input_shape),\n",
        "\n",
        "keras.layers.MaxPooling2D(pool_size=(2,2), strides=(2,2)),\n",
        "\n",
        "Conv2D(filters=120, kernel_size=(3, 3), padding='same', activation='relu', input_shape=input_shape),\n",
        "\n",
        "# Flatten the input. This prepares the vector for fully connected layers.\n",
        "Flatten(),\n",
        "\n",
        "# Add a hidden Dense layer\n",
        "Dense(units=100, activation='relu'),\n",
        "\n",
        "\n",
        "# Add a an output layer. The output space is the number of classes\n",
        "#    Softmax makes the output as probablity vector of the different classes\n",
        "Dense(units=num_classes, activation='softmax')\n",
        "\n",
        "])\n",
        "\n",
        "model.summary()\n"
      ]
    },
    {
      "cell_type": "code",
      "execution_count": null,
      "metadata": {
        "colab": {
          "base_uri": "https://localhost:8080/",
          "height": 1000
        },
        "id": "XhLEsAcj0Flv",
        "outputId": "1113ea12-5200-480a-f225-0512e17b4fad"
      },
      "outputs": [
        {
          "name": "stdout",
          "output_type": "stream",
          "text": [
            "Epoch 1/15\n",
            "1500/1500 [==============================] - 29s 19ms/step - loss: 0.4211 - categorical_accuracy: 0.8505 - val_loss: 0.3075 - val_categorical_accuracy: 0.8878\n",
            "Epoch 2/15\n",
            "1500/1500 [==============================] - 28s 18ms/step - loss: 0.2740 - categorical_accuracy: 0.9000 - val_loss: 0.2562 - val_categorical_accuracy: 0.9107\n",
            "Epoch 3/15\n",
            "1500/1500 [==============================] - 27s 18ms/step - loss: 0.2240 - categorical_accuracy: 0.9161 - val_loss: 0.2359 - val_categorical_accuracy: 0.9148\n",
            "Epoch 4/15\n",
            "1500/1500 [==============================] - 27s 18ms/step - loss: 0.1886 - categorical_accuracy: 0.9300 - val_loss: 0.2358 - val_categorical_accuracy: 0.9174\n",
            "Epoch 5/15\n",
            "1500/1500 [==============================] - 26s 17ms/step - loss: 0.1584 - categorical_accuracy: 0.9409 - val_loss: 0.2400 - val_categorical_accuracy: 0.9239\n",
            "Epoch 6/15\n",
            "1500/1500 [==============================] - 26s 18ms/step - loss: 0.1346 - categorical_accuracy: 0.9486 - val_loss: 0.2625 - val_categorical_accuracy: 0.9148\n",
            "Epoch 7/15\n",
            "1500/1500 [==============================] - 27s 18ms/step - loss: 0.1127 - categorical_accuracy: 0.9565 - val_loss: 0.2668 - val_categorical_accuracy: 0.9198\n",
            "Epoch 8/15\n",
            "1500/1500 [==============================] - 27s 18ms/step - loss: 0.0931 - categorical_accuracy: 0.9647 - val_loss: 0.2844 - val_categorical_accuracy: 0.9187\n",
            "Epoch 9/15\n",
            "1500/1500 [==============================] - 28s 18ms/step - loss: 0.0841 - categorical_accuracy: 0.9677 - val_loss: 0.3352 - val_categorical_accuracy: 0.9164\n",
            "Epoch 10/15\n",
            "1500/1500 [==============================] - 27s 18ms/step - loss: 0.0730 - categorical_accuracy: 0.9728 - val_loss: 0.3305 - val_categorical_accuracy: 0.9174\n",
            "Epoch 11/15\n",
            "1500/1500 [==============================] - 28s 18ms/step - loss: 0.0659 - categorical_accuracy: 0.9754 - val_loss: 0.3730 - val_categorical_accuracy: 0.9185\n",
            "Epoch 12/15\n",
            "1500/1500 [==============================] - 28s 18ms/step - loss: 0.0597 - categorical_accuracy: 0.9782 - val_loss: 0.4359 - val_categorical_accuracy: 0.9195\n",
            "Epoch 13/15\n",
            "1500/1500 [==============================] - 27s 18ms/step - loss: 0.0531 - categorical_accuracy: 0.9799 - val_loss: 0.4126 - val_categorical_accuracy: 0.9192\n",
            "Epoch 14/15\n",
            "1500/1500 [==============================] - 28s 18ms/step - loss: 0.0567 - categorical_accuracy: 0.9803 - val_loss: 0.4010 - val_categorical_accuracy: 0.9209\n",
            "Epoch 15/15\n",
            "1500/1500 [==============================] - 26s 17ms/step - loss: 0.0456 - categorical_accuracy: 0.9840 - val_loss: 0.4411 - val_categorical_accuracy: 0.9161\n"
          ]
        },
        {
          "data": {
            "image/png": "[encoded data removed]",
            "text/plain": [
              "<Figure size 432x288 with 1 Axes>"
            ]
          },
          "metadata": {},
          "output_type": "display_data"
        },
        {
          "data": {
            "image/png": "[encoded data removed]",
            "text/plain": [
              "<Figure size 432x288 with 1 Axes>"
            ]
          },
          "metadata": {},
          "output_type": "display_data"
        },
        {
          "name": "stdout",
          "output_type": "stream",
          "text": [
            "313/313 [==============================] - 3s 9ms/step - loss: 0.4537 - categorical_accuracy: 0.9155\n",
            "Test accuracy: 0.915\n"
          ]
        }
      ],
      "source": [
        "# Compile the model, as a preparation for training\n",
        "model.compile(\n",
        "  optimizer='adam',\n",
        "  loss='categorical_crossentropy',\n",
        "  metrics=['categorical_accuracy']\n",
        ")\n",
        "\n",
        "epochs = 15      ## Number of epoch to run\n",
        "batch_size = 32  ## Mini batch size\n",
        "\n",
        "# Train the model.\n",
        "history = model.fit(\n",
        "  train_images, to_categorical(train_labels),\n",
        "  epochs=epochs,\n",
        "  batch_size=batch_size,\n",
        "  verbose = 1,\n",
        "  validation_data=(val_images, to_categorical(val_labels))\n",
        ")\n",
        "\n",
        "epochrange = range(1, epochs + 1)\n",
        "train_acc = history.history['categorical_accuracy']\n",
        "val_acc = history.history['val_categorical_accuracy']\n",
        "\n",
        "train_loss = history.history['loss']\n",
        "val_loss = history.history['val_loss']\n",
        "\n",
        "plt.plot(epochrange, train_acc, 'bo', label='Training acc')\n",
        "plt.plot(epochrange, val_acc, 'b', label='Validation acc')\n",
        "plt.title('Training and validation accuracy (modell 1)')\n",
        "plt.xlabel('Epochs')\n",
        "plt.ylabel('Accuracy')\n",
        "plt.legend()\n",
        "plt.show()\n",
        "\n",
        "plt.plot(epochrange, train_loss, 'bo', label='Training loss')\n",
        "plt.plot(epochrange, val_loss, 'b', label='Validation loss')\n",
        "plt.title('Training and validation loss (modell 1)')\n",
        "plt.xlabel('Epochs')\n",
        "plt.ylabel('Loss')\n",
        "plt.legend()\n",
        "plt.show()\n",
        "\n",
        "# Evaluate the model.\n",
        "test_loss, test_acc = model.evaluate(test_images,to_categorical(test_labels))\n",
        "print('Test accuracy: %.3f' % test_acc)"
      ]
    },
    {
      "cell_type": "code",
      "execution_count": null,
      "metadata": {
        "id": "DpSLuBimWmJk"
      },
      "outputs": [],
      "source": [
        "# Kod för din bästa modell och dess träning och utvärdering"
      ]
    },
    {
      "cell_type": "markdown",
      "metadata": {
        "id": "KIu0JwuCZIE4"
      },
      "source": [
        "## Model 7"
      ]
    },
    {
      "cell_type": "code",
      "execution_count": null,
      "metadata": {
        "colab": {
          "base_uri": "https://localhost:8080/"
        },
        "id": "z7cLsEXdZGTf",
        "outputId": "fb769505-e5d2-452b-f9b7-4678f78fba7d"
      },
      "outputs": [
        {
          "name": "stdout",
          "output_type": "stream",
          "text": [
            "Input shape (28, 28, 1)\n",
            "Model: \"sequential_6\"\n",
            "_________________________________________________________________\n",
            " Layer (type)                Output Shape              Param #   \n",
            "=================================================================\n",
            " conv2d_26 (Conv2D)          (None, 28, 28, 64)        1664      \n",
            "                                                                 \n",
            " max_pooling2d_16 (MaxPoolin  (None, 14, 14, 64)       0         \n",
            " g2D)                                                            \n",
            "                                                                 \n",
            " conv2d_27 (Conv2D)          (None, 14, 14, 128)       73856     \n",
            "                                                                 \n",
            " max_pooling2d_17 (MaxPoolin  (None, 7, 7, 128)        0         \n",
            " g2D)                                                            \n",
            "                                                                 \n",
            " conv2d_28 (Conv2D)          (None, 7, 7, 128)         409728    \n",
            "                                                                 \n",
            " flatten_6 (Flatten)         (None, 6272)              0         \n",
            "                                                                 \n",
            " dense_15 (Dense)            (None, 100)               627300    \n",
            "                                                                 \n",
            " dense_16 (Dense)            (None, 10)                1010      \n",
            "                                                                 \n",
            "=================================================================\n",
            "Total params: 1,113,558\n",
            "Trainable params: 1,113,558\n",
            "Non-trainable params: 0\n",
            "_________________________________________________________________\n"
          ]
        }
      ],
      "source": [
        "# We need to give the input shape (i.e. our image shape) to our model\n",
        "input_shape = test_images[0].shape\n",
        "print(\"Input shape\", input_shape)\n",
        "\n",
        "# The Keras model will be the simples Keras model for NN networks. \n",
        "# It is a single stack of layers connected sequentially.\n",
        "model = Sequential([\n",
        "\n",
        "# Add a convolution layer\n",
        "Conv2D(filters=64, kernel_size=(5, 5), padding='same', activation='relu', input_shape=input_shape),\n",
        "\n",
        "keras.layers.MaxPooling2D(pool_size=(2,2), strides=(2,2)),\n",
        "\n",
        "Conv2D(filters=128, kernel_size=(3, 3), padding='same', activation='relu', input_shape=input_shape),\n",
        "\n",
        "keras.layers.MaxPooling2D(pool_size=(2,2), strides=(2,2)),\n",
        "\n",
        "Conv2D(filters=128, kernel_size=(5, 5), padding='same', activation='relu', input_shape=input_shape),\n",
        "\n",
        "# Flatten the input. This prepares the vector for fully connected layers.\n",
        "\n",
        "Flatten(),\n",
        "\n",
        "# Add a hidden Dense layer\n",
        "Dense(units=100, activation='relu'),\n",
        "\n",
        "\n",
        "# Add a an output layer. The output space is the number of classes\n",
        "#    Softmax makes the output as probablity vector of the different classes\n",
        "Dense(units=num_classes, activation='softmax')\n",
        "\n",
        "])\n",
        "\n",
        "model.summary()"
      ]
    },
    {
      "cell_type": "code",
      "execution_count": null,
      "metadata": {
        "colab": {
          "base_uri": "https://localhost:8080/",
          "height": 1000
        },
        "id": "oH-ftT7ZZVE1",
        "outputId": "7c7d29b8-1e88-44e5-ce09-44e6c830648a"
      },
      "outputs": [
        {
          "name": "stdout",
          "output_type": "stream",
          "text": [
            "Epoch 1/20\n",
            "1920/1920 [==============================] - 29s 15ms/step - loss: 0.7944 - categorical_accuracy: 0.7158 - val_loss: 0.5179 - val_categorical_accuracy: 0.8091\n",
            "Epoch 2/20\n",
            "1920/1920 [==============================] - 23s 12ms/step - loss: 0.4450 - categorical_accuracy: 0.8363 - val_loss: 0.4202 - val_categorical_accuracy: 0.8462\n",
            "Epoch 3/20\n",
            "1920/1920 [==============================] - 24s 13ms/step - loss: 0.3777 - categorical_accuracy: 0.8628 - val_loss: 0.3653 - val_categorical_accuracy: 0.8679\n",
            "Epoch 4/20\n",
            "1920/1920 [==============================] - 23s 12ms/step - loss: 0.3416 - categorical_accuracy: 0.8760 - val_loss: 0.3381 - val_categorical_accuracy: 0.8776\n",
            "Epoch 5/20\n",
            "1920/1920 [==============================] - 23s 12ms/step - loss: 0.3163 - categorical_accuracy: 0.8828 - val_loss: 0.3333 - val_categorical_accuracy: 0.8793\n",
            "Epoch 6/20\n",
            "1920/1920 [==============================] - 23s 12ms/step - loss: 0.2965 - categorical_accuracy: 0.8903 - val_loss: 0.2998 - val_categorical_accuracy: 0.8932\n",
            "Epoch 7/20\n",
            "1920/1920 [==============================] - 25s 13ms/step - loss: 0.2798 - categorical_accuracy: 0.8975 - val_loss: 0.2985 - val_categorical_accuracy: 0.8938\n",
            "Epoch 8/20\n",
            "1920/1920 [==============================] - 24s 13ms/step - loss: 0.2651 - categorical_accuracy: 0.9029 - val_loss: 0.2993 - val_categorical_accuracy: 0.8910\n",
            "Epoch 9/20\n",
            "1920/1920 [==============================] - 23s 12ms/step - loss: 0.2527 - categorical_accuracy: 0.9079 - val_loss: 0.2721 - val_categorical_accuracy: 0.9033\n",
            "Epoch 10/20\n",
            "1920/1920 [==============================] - 23s 12ms/step - loss: 0.2420 - categorical_accuracy: 0.9114 - val_loss: 0.2653 - val_categorical_accuracy: 0.9057\n",
            "Epoch 11/20\n",
            "1920/1920 [==============================] - 23s 12ms/step - loss: 0.2311 - categorical_accuracy: 0.9157 - val_loss: 0.2686 - val_categorical_accuracy: 0.9018\n",
            "Epoch 12/20\n",
            "1920/1920 [==============================] - 23s 12ms/step - loss: 0.2214 - categorical_accuracy: 0.9189 - val_loss: 0.2733 - val_categorical_accuracy: 0.9002\n",
            "Epoch 13/20\n",
            "1920/1920 [==============================] - 23s 12ms/step - loss: 0.2125 - categorical_accuracy: 0.9214 - val_loss: 0.2571 - val_categorical_accuracy: 0.9053\n",
            "Epoch 14/20\n",
            "1920/1920 [==============================] - 23s 12ms/step - loss: 0.2042 - categorical_accuracy: 0.9244 - val_loss: 0.2505 - val_categorical_accuracy: 0.9117\n",
            "Epoch 15/20\n",
            "1920/1920 [==============================] - 23s 12ms/step - loss: 0.1957 - categorical_accuracy: 0.9281 - val_loss: 0.2521 - val_categorical_accuracy: 0.9113\n",
            "Epoch 16/20\n",
            "1920/1920 [==============================] - 24s 12ms/step - loss: 0.1879 - categorical_accuracy: 0.9314 - val_loss: 0.2535 - val_categorical_accuracy: 0.9107\n",
            "Epoch 17/20\n",
            "1920/1920 [==============================] - 23s 12ms/step - loss: 0.1797 - categorical_accuracy: 0.9345 - val_loss: 0.2470 - val_categorical_accuracy: 0.9091\n",
            "Epoch 18/20\n",
            "1920/1920 [==============================] - 23s 12ms/step - loss: 0.1736 - categorical_accuracy: 0.9365 - val_loss: 0.2495 - val_categorical_accuracy: 0.9139\n",
            "Epoch 19/20\n",
            "1920/1920 [==============================] - 23s 12ms/step - loss: 0.1659 - categorical_accuracy: 0.9388 - val_loss: 0.2479 - val_categorical_accuracy: 0.9128\n",
            "Epoch 20/20\n",
            "1920/1920 [==============================] - 23s 12ms/step - loss: 0.1579 - categorical_accuracy: 0.9416 - val_loss: 0.2408 - val_categorical_accuracy: 0.9158\n"
          ]
        },
        {
          "data": {
            "image/png": "[encoded data removed]",
            "text/plain": [
              "<Figure size 432x288 with 1 Axes>"
            ]
          },
          "metadata": {},
          "output_type": "display_data"
        },
        {
          "data": {
            "image/png": "[encoded data removed]",
            "text/plain": [
              "<Figure size 432x288 with 1 Axes>"
            ]
          },
          "metadata": {},
          "output_type": "display_data"
        },
        {
          "name": "stdout",
          "output_type": "stream",
          "text": [
            "313/313 [==============================] - 3s 8ms/step - loss: 0.2670 - categorical_accuracy: 0.9047\n",
            "Test accuracy: 0.905\n"
          ]
        }
      ],
      "source": [
        "# Compile the model, as a preparation for training\n",
        "model.compile(\n",
        "  optimizer='sgd',\n",
        "  loss='categorical_crossentropy',\n",
        "  metrics=['categorical_accuracy']\n",
        ")\n",
        "\n",
        "epochs = 20      ## Number of epoch to run\n",
        "batch_size = 25  ## Mini batch size\n",
        "\n",
        "# Train the model.\n",
        "history = model.fit(\n",
        "  train_images, to_categorical(train_labels),\n",
        "  epochs=epochs,\n",
        "  batch_size=batch_size,\n",
        "  verbose = 1,\n",
        "  validation_data=(val_images, to_categorical(val_labels))\n",
        ")\n",
        "\n",
        "epochrange = range(1, epochs + 1)\n",
        "train_acc = history.history['categorical_accuracy']\n",
        "val_acc = history.history['val_categorical_accuracy']\n",
        "\n",
        "train_loss = history.history['loss']\n",
        "val_loss = history.history['val_loss']\n",
        "\n",
        "plt.plot(epochrange, train_acc, 'bo', label='Training acc')\n",
        "plt.plot(epochrange, val_acc, 'b', label='Validation acc')\n",
        "plt.title('Training and validation accuracy (modell 1)')\n",
        "plt.xlabel('Epochs')\n",
        "plt.ylabel('Accuracy')\n",
        "plt.legend()\n",
        "plt.show()\n",
        "\n",
        "plt.plot(epochrange, train_loss, 'bo', label='Training loss')\n",
        "plt.plot(epochrange, val_loss, 'b', label='Validation loss')\n",
        "plt.title('Training and validation loss (modell 7)')\n",
        "plt.xlabel('Epochs')\n",
        "plt.ylabel('Loss')\n",
        "plt.legend()\n",
        "plt.show()\n",
        "\n",
        "# Evaluate the model.\n",
        "test_loss, test_acc = model.evaluate(test_images,to_categorical(test_labels))\n",
        "print('Test accuracy: %.3f' % test_acc)"
      ]
    },
    {
      "cell_type": "markdown",
      "metadata": {
        "id": "Jo8xQsTIapJV"
      },
      "source": [
        "## Model 8"
      ]
    },
    {
      "cell_type": "code",
      "execution_count": null,
      "metadata": {
        "colab": {
          "base_uri": "https://localhost:8080/"
        },
        "id": "KerfqR_datc2",
        "outputId": "5717f852-65cb-49a9-b0e7-eb75d4e77953"
      },
      "outputs": [
        {
          "name": "stdout",
          "output_type": "stream",
          "text": [
            "Input shape (28, 28, 1)\n",
            "Model: \"sequential\"\n",
            "_________________________________________________________________\n",
            " Layer (type)                Output Shape              Param #   \n",
            "=================================================================\n",
            " conv2d (Conv2D)             (None, 28, 28, 120)       3120      \n",
            "                                                                 \n",
            " max_pooling2d (MaxPooling2D  (None, 14, 14, 120)      0         \n",
            " )                                                               \n",
            "                                                                 \n",
            " conv2d_1 (Conv2D)           (None, 14, 14, 120)       360120    \n",
            "                                                                 \n",
            " max_pooling2d_1 (MaxPooling  (None, 7, 7, 120)        0         \n",
            " 2D)                                                             \n",
            "                                                                 \n",
            " conv2d_2 (Conv2D)           (None, 7, 7, 120)         360120    \n",
            "                                                                 \n",
            " flatten (Flatten)           (None, 5880)              0         \n",
            "                                                                 \n",
            " dense (Dense)               (None, 100)               588100    \n",
            "                                                                 \n",
            " dense_1 (Dense)             (None, 10)                1010      \n",
            "                                                                 \n",
            "=================================================================\n",
            "Total params: 1,312,470\n",
            "Trainable params: 1,312,470\n",
            "Non-trainable params: 0\n",
            "_________________________________________________________________\n"
          ]
        }
      ],
      "source": [
        "# We need to give the input shape (i.e. our image shape) to our model\n",
        "input_shape = test_images[0].shape\n",
        "print(\"Input shape\", input_shape)\n",
        "\n",
        "# The Keras model will be the simples Keras model for NN networks. \n",
        "# It is a single stack of layers connected sequentially.\n",
        "model = Sequential([\n",
        "\n",
        "# Add a convolution layer\n",
        "Conv2D(filters=120, kernel_size=(5, 5), padding='same', activation='relu', input_shape=input_shape),\n",
        "\n",
        "keras.layers.MaxPooling2D(pool_size=(2,2), strides=(2,2)),\n",
        "\n",
        "Conv2D(filters=120, kernel_size=(5, 5), padding='same', activation='relu', input_shape=input_shape),\n",
        "\n",
        "keras.layers.MaxPooling2D(pool_size=(2,2), strides=(2,2)),\n",
        "\n",
        "Conv2D(filters=120, kernel_size=(5, 5), padding='same', activation='relu', input_shape=input_shape),\n",
        "\n",
        "\n",
        "# Flatten the input. This prepares the vector for fully connected layers.\n",
        "Flatten(),\n",
        "\n",
        "# Add a hidden Dense layer\n",
        "Dense(units=100, activation='relu'),\n",
        "\n",
        "\n",
        "# Add a an output layer. The output space is the number of classes\n",
        "#    Softmax makes the output as probablity vector of the different classes\n",
        "Dense(units=num_classes, activation='softmax')\n",
        "\n",
        "])\n",
        "\n",
        "model.summary()"
      ]
    },
    {
      "cell_type": "code",
      "execution_count": null,
      "metadata": {
        "colab": {
          "base_uri": "https://localhost:8080/",
          "height": 1000
        },
        "id": "pSXNf_M9a6GQ",
        "outputId": "0aab88d5-f6ed-4bc3-a9d6-051d2afd3bc7"
      },
      "outputs": [
        {
          "name": "stdout",
          "output_type": "stream",
          "text": [
            "Epoch 1/25\n",
            "1500/1500 [==============================] - 39s 20ms/step - loss: 0.8428 - categorical_accuracy: 0.7005 - val_loss: 0.5522 - val_categorical_accuracy: 0.7868\n",
            "Epoch 2/25\n",
            "1500/1500 [==============================] - 33s 22ms/step - loss: 0.4704 - categorical_accuracy: 0.8245 - val_loss: 0.4172 - val_categorical_accuracy: 0.8508\n",
            "Epoch 3/25\n",
            "1500/1500 [==============================] - 29s 20ms/step - loss: 0.3982 - categorical_accuracy: 0.8545 - val_loss: 0.3869 - val_categorical_accuracy: 0.8584\n",
            "Epoch 4/25\n",
            "1500/1500 [==============================] - 29s 19ms/step - loss: 0.3592 - categorical_accuracy: 0.8679 - val_loss: 0.3556 - val_categorical_accuracy: 0.8735\n",
            "Epoch 5/25\n",
            "1500/1500 [==============================] - 29s 20ms/step - loss: 0.3329 - categorical_accuracy: 0.8773 - val_loss: 0.3513 - val_categorical_accuracy: 0.8698\n",
            "Epoch 6/25\n",
            "1500/1500 [==============================] - 29s 19ms/step - loss: 0.3121 - categorical_accuracy: 0.8847 - val_loss: 0.3203 - val_categorical_accuracy: 0.8873\n",
            "Epoch 7/25\n",
            "1500/1500 [==============================] - 29s 19ms/step - loss: 0.2959 - categorical_accuracy: 0.8912 - val_loss: 0.3152 - val_categorical_accuracy: 0.8836\n",
            "Epoch 8/25\n",
            "1500/1500 [==============================] - 29s 19ms/step - loss: 0.2819 - categorical_accuracy: 0.8966 - val_loss: 0.2895 - val_categorical_accuracy: 0.8976\n",
            "Epoch 9/25\n",
            "1500/1500 [==============================] - 29s 19ms/step - loss: 0.2683 - categorical_accuracy: 0.9009 - val_loss: 0.2855 - val_categorical_accuracy: 0.8974\n",
            "Epoch 10/25\n",
            "1500/1500 [==============================] - 29s 19ms/step - loss: 0.2581 - categorical_accuracy: 0.9058 - val_loss: 0.2813 - val_categorical_accuracy: 0.8978\n",
            "Epoch 11/25\n",
            "1500/1500 [==============================] - 30s 20ms/step - loss: 0.2478 - categorical_accuracy: 0.9095 - val_loss: 0.2787 - val_categorical_accuracy: 0.9026\n",
            "Epoch 12/25\n",
            "1500/1500 [==============================] - 30s 20ms/step - loss: 0.2390 - categorical_accuracy: 0.9116 - val_loss: 0.2707 - val_categorical_accuracy: 0.9044\n",
            "Epoch 13/25\n",
            "1500/1500 [==============================] - 30s 20ms/step - loss: 0.2291 - categorical_accuracy: 0.9153 - val_loss: 0.2648 - val_categorical_accuracy: 0.9043\n",
            "Epoch 14/25\n",
            "1500/1500 [==============================] - 29s 19ms/step - loss: 0.2208 - categorical_accuracy: 0.9190 - val_loss: 0.2715 - val_categorical_accuracy: 0.9006\n",
            "Epoch 15/25\n",
            "1500/1500 [==============================] - 29s 19ms/step - loss: 0.2135 - categorical_accuracy: 0.9208 - val_loss: 0.2473 - val_categorical_accuracy: 0.9122\n",
            "Epoch 16/25\n",
            "1500/1500 [==============================] - 29s 20ms/step - loss: 0.2057 - categorical_accuracy: 0.9247 - val_loss: 0.2579 - val_categorical_accuracy: 0.9078\n",
            "Epoch 17/25\n",
            "1500/1500 [==============================] - 29s 19ms/step - loss: 0.1984 - categorical_accuracy: 0.9264 - val_loss: 0.2455 - val_categorical_accuracy: 0.9158\n",
            "Epoch 18/25\n",
            "1500/1500 [==============================] - 29s 19ms/step - loss: 0.1915 - categorical_accuracy: 0.9290 - val_loss: 0.2496 - val_categorical_accuracy: 0.9098\n",
            "Epoch 19/25\n",
            "1500/1500 [==============================] - 29s 19ms/step - loss: 0.1843 - categorical_accuracy: 0.9322 - val_loss: 0.2439 - val_categorical_accuracy: 0.9145\n",
            "Epoch 20/25\n",
            "1500/1500 [==============================] - 29s 19ms/step - loss: 0.1769 - categorical_accuracy: 0.9346 - val_loss: 0.2560 - val_categorical_accuracy: 0.9122\n",
            "Epoch 21/25\n",
            "1500/1500 [==============================] - 29s 19ms/step - loss: 0.1710 - categorical_accuracy: 0.9367 - val_loss: 0.2392 - val_categorical_accuracy: 0.9194\n",
            "Epoch 22/25\n",
            "1500/1500 [==============================] - 29s 19ms/step - loss: 0.1639 - categorical_accuracy: 0.9389 - val_loss: 0.2391 - val_categorical_accuracy: 0.9171\n",
            "Epoch 23/25\n",
            "1500/1500 [==============================] - 29s 20ms/step - loss: 0.1567 - categorical_accuracy: 0.9423 - val_loss: 0.2388 - val_categorical_accuracy: 0.9167\n",
            "Epoch 24/25\n",
            "1500/1500 [==============================] - 29s 19ms/step - loss: 0.1511 - categorical_accuracy: 0.9441 - val_loss: 0.2419 - val_categorical_accuracy: 0.9184\n",
            "Epoch 25/25\n",
            "1500/1500 [==============================] - 30s 20ms/step - loss: 0.1443 - categorical_accuracy: 0.9474 - val_loss: 0.2383 - val_categorical_accuracy: 0.9196\n"
          ]
        },
        {
          "data": {
            "image/png": "[encoded data removed]",
            "text/plain": [
              "<Figure size 432x288 with 1 Axes>"
            ]
          },
          "metadata": {},
          "output_type": "display_data"
        },
        {
          "data": {
            "image/png": "[encoded data removed]",
            "text/plain": [
              "<Figure size 432x288 with 1 Axes>"
            ]
          },
          "metadata": {},
          "output_type": "display_data"
        },
        {
          "name": "stdout",
          "output_type": "stream",
          "text": [
            "313/313 [==============================] - 3s 9ms/step - loss: 0.2579 - categorical_accuracy: 0.9098\n",
            "Test accuracy: 0.910\n"
          ]
        }
      ],
      "source": [
        "# Compile the model, as a preparation for training\n",
        "model.compile(\n",
        "  optimizer='sgd',\n",
        "  loss='categorical_crossentropy',\n",
        "  metrics=['categorical_accuracy']\n",
        ")\n",
        "\n",
        "epochs = 20      ## Number of epoch to run\n",
        "batch_size = 25  ## Mini batch size\n",
        "\n",
        "# Train the model.\n",
        "history = model.fit(\n",
        "  train_images, to_categorical(train_labels),\n",
        "  epochs=epochs,\n",
        "  batch_size=batch_size,\n",
        "  verbose = 1,\n",
        "  validation_data=(val_images, to_categorical(val_labels))\n",
        ")\n",
        "\n",
        "epochrange = range(1, epochs + 1)\n",
        "train_acc = history.history['categorical_accuracy']\n",
        "val_acc = history.history['val_categorical_accuracy']\n",
        "\n",
        "train_loss = history.history['loss']\n",
        "val_loss = history.history['val_loss']\n",
        "\n",
        "plt.plot(epochrange, train_acc, 'bo', label='Training acc')\n",
        "plt.plot(epochrange, val_acc, 'b', label='Validation acc')\n",
        "plt.title('Training and validation accuracy (modell 1)')\n",
        "plt.xlabel('Epochs')\n",
        "plt.ylabel('Accuracy')\n",
        "plt.legend()\n",
        "plt.show()\n",
        "\n",
        "plt.plot(epochrange, train_loss, 'bo', label='Training loss')\n",
        "plt.plot(epochrange, val_loss, 'b', label='Validation loss')\n",
        "plt.title('Training and validation loss (modell 1)')\n",
        "plt.xlabel('Epochs')\n",
        "plt.ylabel('Loss')\n",
        "plt.legend()\n",
        "plt.show()\n",
        "\n",
        "# Evaluate the model.\n",
        "test_loss, test_acc = model.evaluate(test_images,to_categorical(test_labels))\n",
        "print('Test accuracy: %.3f' % test_acc)"
      ]
    },
    {
      "cell_type": "markdown",
      "metadata": {
        "id": "VZK86pjRBXtB"
      },
      "source": [
        "## Model 9"
      ]
    },
    {
      "cell_type": "code",
      "execution_count": null,
      "metadata": {
        "colab": {
          "base_uri": "https://localhost:8080/"
        },
        "id": "0TBOk6P6BV_M",
        "outputId": "00caa791-84bc-4e06-dad4-d67357cd56af"
      },
      "outputs": [
        {
          "name": "stdout",
          "output_type": "stream",
          "text": [
            "Input shape (28, 28, 1)\n",
            "Model: \"sequential_2\"\n",
            "_________________________________________________________________\n",
            " Layer (type)                Output Shape              Param #   \n",
            "=================================================================\n",
            " conv2d_10 (Conv2D)          (None, 28, 28, 64)        1664      \n",
            "                                                                 \n",
            " max_pooling2d_9 (MaxPooling  (None, 14, 14, 64)       0         \n",
            " 2D)                                                             \n",
            "                                                                 \n",
            " conv2d_11 (Conv2D)          (None, 14, 14, 128)       73856     \n",
            "                                                                 \n",
            " max_pooling2d_10 (MaxPoolin  (None, 7, 7, 128)        0         \n",
            " g2D)                                                            \n",
            "                                                                 \n",
            " conv2d_12 (Conv2D)          (None, 7, 7, 128)         409728    \n",
            "                                                                 \n",
            " max_pooling2d_11 (MaxPoolin  (None, 3, 3, 128)        0         \n",
            " g2D)                                                            \n",
            "                                                                 \n",
            " conv2d_13 (Conv2D)          (None, 3, 3, 256)         295168    \n",
            "                                                                 \n",
            " conv2d_14 (Conv2D)          (None, 3, 3, 256)         1638656   \n",
            "                                                                 \n",
            " max_pooling2d_12 (MaxPoolin  (None, 1, 1, 256)        0         \n",
            " g2D)                                                            \n",
            "                                                                 \n",
            " flatten_2 (Flatten)         (None, 256)               0         \n",
            "                                                                 \n",
            " dense_6 (Dense)             (None, 128)               32896     \n",
            "                                                                 \n",
            " dense_7 (Dense)             (None, 64)                8256      \n",
            "                                                                 \n",
            " dense_8 (Dense)             (None, 10)                650       \n",
            "                                                                 \n",
            "=================================================================\n",
            "Total params: 2,460,874\n",
            "Trainable params: 2,460,874\n",
            "Non-trainable params: 0\n",
            "_________________________________________________________________\n"
          ]
        }
      ],
      "source": [
        "# We need to give the input shape (i.e. our image shape) to our model\n",
        "input_shape = test_images[0].shape\n",
        "print(\"Input shape\", input_shape)\n",
        "\n",
        "# The Keras model will be the simples Keras model for NN networks. \n",
        "# It is a single stack of layers connected sequentially.\n",
        "model = Sequential([\n",
        "\n",
        "# Add a convolution layer\n",
        "Conv2D(filters=64, kernel_size=(5, 5), padding='same', activation='relu', input_shape=input_shape),\n",
        "\n",
        "keras.layers.MaxPooling2D(pool_size=(2,2), strides=(2,2)),\n",
        "\n",
        "Conv2D(filters=128, kernel_size=(3, 3), padding='same', activation='relu', input_shape=input_shape),\n",
        "keras.layers.MaxPooling2D(pool_size=(2,2), strides=(2,2)),\n",
        "\n",
        "Conv2D(filters=128, kernel_size=(5, 5), padding='same', activation='relu', input_shape=input_shape),\n",
        "keras.layers.MaxPooling2D(pool_size=(2,2), strides=(2,2)),\n",
        "\n",
        "Conv2D(filters=256, kernel_size=(3, 3), padding='same', activation='relu', input_shape=input_shape),\n",
        "#keras.layers.MaxPooling2D(pool_size=(2,2), strides=(2,2)),\n",
        "\n",
        "Conv2D(filters=256, kernel_size=(5, 5), padding='same', activation='relu', input_shape=input_shape),\n",
        "\n",
        "keras.layers.MaxPooling2D(pool_size=(2,2), strides=(2,2)),\n",
        "\n",
        "# Flatten the input. This prepares the vector for fully connected layers.\n",
        "Flatten(),\n",
        "\n",
        "# Add a hidden Dense layer\n",
        "Dense(units=128, activation='relu'),\n",
        "\n",
        "#keras.layers.Dropout(0.5),\n",
        "\n",
        "Dense(units=64, activation='relu'),\n",
        "\n",
        "#keras.layers.Dropout(0.5),\n",
        "\n",
        "# Add a an output layer. The output space is the number of classes\n",
        "#    Softmax makes the output as probablity vector of the different classes\n",
        "Dense(units=num_classes, activation='softmax')\n",
        "\n",
        "])\n",
        "\n",
        "model.summary()"
      ]
    },
    {
      "cell_type": "markdown",
      "metadata": {
        "id": "FRhc-0wKYINs"
      },
      "source": [
        "###run the model"
      ]
    },
    {
      "cell_type": "code",
      "execution_count": null,
      "metadata": {
        "colab": {
          "base_uri": "https://localhost:8080/",
          "height": 1000
        },
        "id": "wt7ERjzNBula",
        "outputId": "a1296ce1-ff99-4462-ab35-1ef507d9f36b"
      },
      "outputs": [
        {
          "name": "stdout",
          "output_type": "stream",
          "text": [
            "Epoch 1/20\n",
            "1920/1920 [==============================] - 51s 22ms/step - loss: 1.1407 - categorical_accuracy: 0.5946 - val_loss: 0.7165 - val_categorical_accuracy: 0.7128\n",
            "Epoch 2/20\n",
            "1920/1920 [==============================] - 43s 22ms/step - loss: 0.5282 - categorical_accuracy: 0.8004 - val_loss: 0.4597 - val_categorical_accuracy: 0.8301\n",
            "Epoch 3/20\n",
            "1920/1920 [==============================] - 43s 23ms/step - loss: 0.4320 - categorical_accuracy: 0.8386 - val_loss: 0.3894 - val_categorical_accuracy: 0.8552\n",
            "Epoch 4/20\n",
            "1920/1920 [==============================] - 43s 22ms/step - loss: 0.3763 - categorical_accuracy: 0.8615 - val_loss: 0.3490 - val_categorical_accuracy: 0.8700\n",
            "Epoch 5/20\n",
            "1920/1920 [==============================] - 44s 23ms/step - loss: 0.3374 - categorical_accuracy: 0.8753 - val_loss: 0.3649 - val_categorical_accuracy: 0.8593\n",
            "Epoch 6/20\n",
            "1920/1920 [==============================] - 43s 23ms/step - loss: 0.3110 - categorical_accuracy: 0.8844 - val_loss: 0.3082 - val_categorical_accuracy: 0.8888\n",
            "Epoch 7/20\n",
            "1920/1920 [==============================] - 43s 22ms/step - loss: 0.2901 - categorical_accuracy: 0.8914 - val_loss: 0.2879 - val_categorical_accuracy: 0.8950\n",
            "Epoch 8/20\n",
            "1920/1920 [==============================] - 43s 22ms/step - loss: 0.2721 - categorical_accuracy: 0.8993 - val_loss: 0.2840 - val_categorical_accuracy: 0.8930\n",
            "Epoch 9/20\n",
            "1920/1920 [==============================] - 43s 22ms/step - loss: 0.2577 - categorical_accuracy: 0.9045 - val_loss: 0.2715 - val_categorical_accuracy: 0.8988\n",
            "Epoch 10/20\n",
            "1920/1920 [==============================] - 41s 21ms/step - loss: 0.2431 - categorical_accuracy: 0.9094 - val_loss: 0.2751 - val_categorical_accuracy: 0.8987\n",
            "Epoch 11/20\n",
            "1920/1920 [==============================] - 41s 21ms/step - loss: 0.2303 - categorical_accuracy: 0.9144 - val_loss: 0.2587 - val_categorical_accuracy: 0.9051\n",
            "Epoch 12/20\n",
            "1920/1920 [==============================] - 41s 21ms/step - loss: 0.2188 - categorical_accuracy: 0.9200 - val_loss: 0.2737 - val_categorical_accuracy: 0.8962\n",
            "Epoch 13/20\n",
            "1920/1920 [==============================] - 40s 21ms/step - loss: 0.2084 - categorical_accuracy: 0.9224 - val_loss: 0.2509 - val_categorical_accuracy: 0.9064\n",
            "Epoch 14/20\n",
            "1920/1920 [==============================] - 43s 22ms/step - loss: 0.1957 - categorical_accuracy: 0.9265 - val_loss: 0.2992 - val_categorical_accuracy: 0.8903\n",
            "Epoch 15/20\n",
            "1920/1920 [==============================] - 41s 21ms/step - loss: 0.1876 - categorical_accuracy: 0.9301 - val_loss: 0.2597 - val_categorical_accuracy: 0.9059\n",
            "Epoch 16/20\n",
            "1920/1920 [==============================] - 43s 22ms/step - loss: 0.1748 - categorical_accuracy: 0.9347 - val_loss: 0.2657 - val_categorical_accuracy: 0.9072\n",
            "Epoch 17/20\n",
            "1920/1920 [==============================] - 40s 21ms/step - loss: 0.1668 - categorical_accuracy: 0.9375 - val_loss: 0.2783 - val_categorical_accuracy: 0.9050\n",
            "Epoch 18/20\n",
            "1920/1920 [==============================] - 40s 21ms/step - loss: 0.1594 - categorical_accuracy: 0.9405 - val_loss: 0.2470 - val_categorical_accuracy: 0.9102\n",
            "Epoch 19/20\n",
            "1920/1920 [==============================] - 40s 21ms/step - loss: 0.1484 - categorical_accuracy: 0.9443 - val_loss: 0.2610 - val_categorical_accuracy: 0.9081\n",
            "Epoch 20/20\n",
            "1920/1920 [==============================] - 43s 22ms/step - loss: 0.1411 - categorical_accuracy: 0.9467 - val_loss: 0.2589 - val_categorical_accuracy: 0.9135\n"
          ]
        },
        {
          "data": {
            "image/png": "[encoded data removed]",
            "text/plain": [
              "<Figure size 432x288 with 1 Axes>"
            ]
          },
          "metadata": {},
          "output_type": "display_data"
        },
        {
          "data": {
            "image/png": "[encoded data removed]",
            "text/plain": [
              "<Figure size 432x288 with 1 Axes>"
            ]
          },
          "metadata": {},
          "output_type": "display_data"
        },
        {
          "name": "stdout",
          "output_type": "stream",
          "text": [
            "313/313 [==============================] - 4s 11ms/step - loss: 0.2778 - categorical_accuracy: 0.9054\n",
            "Test accuracy: 0.905\n"
          ]
        }
      ],
      "source": [
        "# Compile the model, as a preparation for training\n",
        "model.compile(\n",
        "  optimizer='sgd',\n",
        "  loss='categorical_crossentropy',\n",
        "  metrics=['categorical_accuracy']\n",
        ")\n",
        "\n",
        "epochs = 20     ## Number of epoch to run\n",
        "batch_size = 25  ## Mini batch size\n",
        "\n",
        "# Train the model.\n",
        "history = model.fit(\n",
        "  train_images, to_categorical(train_labels),\n",
        "  epochs=epochs,\n",
        "  batch_size=batch_size,\n",
        "  verbose = 1,\n",
        "  validation_data=(val_images, to_categorical(val_labels))\n",
        ")\n",
        "\n",
        "epochrange = range(1, epochs + 1)\n",
        "train_acc = history.history['categorical_accuracy']\n",
        "val_acc = history.history['val_categorical_accuracy']\n",
        "\n",
        "train_loss = history.history['loss']\n",
        "val_loss = history.history['val_loss']\n",
        "\n",
        "plt.plot(epochrange, train_acc, 'bo', label='Training acc')\n",
        "plt.plot(epochrange, val_acc, 'b', label='Validation acc')\n",
        "plt.title('Training and validation accuracy (modell 1)')\n",
        "plt.xlabel('Epochs')\n",
        "plt.ylabel('Accuracy')\n",
        "plt.legend()\n",
        "plt.show()\n",
        "\n",
        "plt.plot(epochrange, train_loss, 'bo', label='Training loss')\n",
        "plt.plot(epochrange, val_loss, 'b', label='Validation loss')\n",
        "plt.title('Training and validation loss (modell 1)')\n",
        "plt.xlabel('Epochs')\n",
        "plt.ylabel('Loss')\n",
        "plt.legend()\n",
        "plt.show()\n",
        "\n",
        "# Evaluate the model.\n",
        "test_loss, test_acc = model.evaluate(test_images,to_categorical(test_labels))\n",
        "print('Test accuracy: %.3f' % test_acc)"
      ]
    },
    {
      "cell_type": "markdown",
      "metadata": {
        "id": "aT7ivdg94LK0"
      },
      "source": [
        "##Model 10 (Bästa modellen)"
      ]
    },
    {
      "cell_type": "code",
      "execution_count": null,
      "metadata": {
        "colab": {
          "base_uri": "https://localhost:8080/"
        },
        "id": "OIe3oHy94Nh4",
        "outputId": "5da8c837-65ce-441b-a443-4c61b5af5a7c"
      },
      "outputs": [
        {
          "name": "stdout",
          "output_type": "stream",
          "text": [
            "Input shape (28, 28, 1)\n",
            "Model: \"sequential_9\"\n",
            "_________________________________________________________________\n",
            " Layer (type)                Output Shape              Param #   \n",
            "=================================================================\n",
            " conv2d_37 (Conv2D)          (None, 28, 28, 64)        1664      \n",
            "                                                                 \n",
            " max_pooling2d_23 (MaxPoolin  (None, 14, 14, 64)       0         \n",
            " g2D)                                                            \n",
            "                                                                 \n",
            " conv2d_38 (Conv2D)          (None, 14, 14, 128)       73856     \n",
            "                                                                 \n",
            " conv2d_39 (Conv2D)          (None, 14, 14, 128)       409728    \n",
            "                                                                 \n",
            " max_pooling2d_24 (MaxPoolin  (None, 7, 7, 128)        0         \n",
            " g2D)                                                            \n",
            "                                                                 \n",
            " conv2d_40 (Conv2D)          (None, 7, 7, 256)         295168    \n",
            "                                                                 \n",
            " conv2d_41 (Conv2D)          (None, 7, 7, 256)         1638656   \n",
            "                                                                 \n",
            " max_pooling2d_25 (MaxPoolin  (None, 3, 3, 256)        0         \n",
            " g2D)                                                            \n",
            "                                                                 \n",
            " flatten_9 (Flatten)         (None, 2304)              0         \n",
            "                                                                 \n",
            " dense_22 (Dense)            (None, 128)               295040    \n",
            "                                                                 \n",
            " dropout_9 (Dropout)         (None, 128)               0         \n",
            "                                                                 \n",
            " dense_23 (Dense)            (None, 64)                8256      \n",
            "                                                                 \n",
            " dropout_10 (Dropout)        (None, 64)                0         \n",
            "                                                                 \n",
            " dense_24 (Dense)            (None, 10)                650       \n",
            "                                                                 \n",
            "=================================================================\n",
            "Total params: 2,723,018\n",
            "Trainable params: 2,723,018\n",
            "Non-trainable params: 0\n",
            "_________________________________________________________________\n"
          ]
        }
      ],
      "source": [
        "# We need to give the input shape (i.e. our image shape) to our model\n",
        "input_shape = test_images[0].shape\n",
        "print(\"Input shape\", input_shape)\n",
        "\n",
        "# The Keras model will be the simples Keras model for NN networks. \n",
        "# It is a single stack of layers connected sequentially.\n",
        "model = Sequential([\n",
        "\n",
        "# Add a convolution layer\n",
        "Conv2D(filters=64, kernel_size=(5, 5), padding='same', activation='relu', input_shape=input_shape),\n",
        "\n",
        "keras.layers.MaxPooling2D(pool_size=(2,2), strides=(2,2)),\n",
        "\n",
        "Conv2D(filters=128, kernel_size=(3, 3), padding='same', activation='relu', input_shape=input_shape),\n",
        "\n",
        "Conv2D(filters=128, kernel_size=(5, 5), padding='same', activation='relu', input_shape=input_shape),\n",
        "\n",
        "keras.layers.MaxPooling2D(pool_size=(2,2), strides=(2,2)),\n",
        "\n",
        "Conv2D(filters=256, kernel_size=(3, 3), padding='same', activation='relu', input_shape=input_shape),\n",
        "\n",
        "Conv2D(filters=256, kernel_size=(5, 5), padding='same', activation='relu', input_shape=input_shape),\n",
        "\n",
        "keras.layers.MaxPooling2D(pool_size=(2,2), strides=(2,2)),\n",
        "\n",
        "# Flatten the input. This prepares the vector for fully connected layers.\n",
        "Flatten(),\n",
        "\n",
        "# Add a hidden Dense layer\n",
        "Dense(units=128, activation='relu'),\n",
        "\n",
        "keras.layers.Dropout(0.5),\n",
        "\n",
        "Dense(units=64, activation='relu'),\n",
        "\n",
        "keras.layers.Dropout(0.5),\n",
        "\n",
        "# Add a an output layer. The output space is the number of classes\n",
        "#    Softmax makes the output as probablity vector of the different classes\n",
        "Dense(units=num_classes, activation='softmax')\n",
        "\n",
        "])\n",
        "\n",
        "model.summary()"
      ]
    },
    {
      "cell_type": "code",
      "execution_count": null,
      "metadata": {
        "colab": {
          "base_uri": "https://localhost:8080/",
          "height": 1000
        },
        "id": "P0bY2bBi63Pq",
        "outputId": "b45fc2fa-737a-41bc-a473-ce590ea48321"
      },
      "outputs": [
        {
          "name": "stdout",
          "output_type": "stream",
          "text": [
            "Epoch 1/25\n",
            "1920/1920 [==============================] - 64s 33ms/step - loss: 1.2953 - categorical_accuracy: 0.5209 - val_loss: 0.6098 - val_categorical_accuracy: 0.7615\n",
            "Epoch 2/25\n",
            "1920/1920 [==============================] - 63s 33ms/step - loss: 0.6982 - categorical_accuracy: 0.7472 - val_loss: 0.4966 - val_categorical_accuracy: 0.8091\n",
            "Epoch 3/25\n",
            "1920/1920 [==============================] - 63s 33ms/step - loss: 0.5750 - categorical_accuracy: 0.7933 - val_loss: 0.4458 - val_categorical_accuracy: 0.8333\n",
            "Epoch 4/25\n",
            "1920/1920 [==============================] - 63s 33ms/step - loss: 0.5053 - categorical_accuracy: 0.8224 - val_loss: 0.4088 - val_categorical_accuracy: 0.8495\n",
            "Epoch 5/25\n",
            "1920/1920 [==============================] - 63s 33ms/step - loss: 0.4631 - categorical_accuracy: 0.8387 - val_loss: 0.3790 - val_categorical_accuracy: 0.8613\n",
            "Epoch 6/25\n",
            "1920/1920 [==============================] - 63s 33ms/step - loss: 0.4330 - categorical_accuracy: 0.8491 - val_loss: 0.3546 - val_categorical_accuracy: 0.8687\n",
            "Epoch 7/25\n",
            "1920/1920 [==============================] - 63s 33ms/step - loss: 0.4055 - categorical_accuracy: 0.8595 - val_loss: 0.3345 - val_categorical_accuracy: 0.8752\n",
            "Epoch 8/25\n",
            "1920/1920 [==============================] - 63s 33ms/step - loss: 0.3793 - categorical_accuracy: 0.8692 - val_loss: 0.3202 - val_categorical_accuracy: 0.8824\n",
            "Epoch 9/25\n",
            "1920/1920 [==============================] - 63s 33ms/step - loss: 0.3607 - categorical_accuracy: 0.8751 - val_loss: 0.3136 - val_categorical_accuracy: 0.8848\n",
            "Epoch 10/25\n",
            "1920/1920 [==============================] - 63s 33ms/step - loss: 0.3460 - categorical_accuracy: 0.8798 - val_loss: 0.2910 - val_categorical_accuracy: 0.8923\n",
            "Epoch 11/25\n",
            "1920/1920 [==============================] - 64s 33ms/step - loss: 0.3299 - categorical_accuracy: 0.8844 - val_loss: 0.2994 - val_categorical_accuracy: 0.8920\n",
            "Epoch 12/25\n",
            "1920/1920 [==============================] - 63s 33ms/step - loss: 0.3195 - categorical_accuracy: 0.8917 - val_loss: 0.2954 - val_categorical_accuracy: 0.8928\n",
            "Epoch 13/25\n",
            "1920/1920 [==============================] - 64s 33ms/step - loss: 0.3031 - categorical_accuracy: 0.8947 - val_loss: 0.2970 - val_categorical_accuracy: 0.8975\n",
            "Epoch 14/25\n",
            "1920/1920 [==============================] - 64s 33ms/step - loss: 0.2961 - categorical_accuracy: 0.8976 - val_loss: 0.2788 - val_categorical_accuracy: 0.9000\n",
            "Epoch 15/25\n",
            "1920/1920 [==============================] - 63s 33ms/step - loss: 0.2767 - categorical_accuracy: 0.9043 - val_loss: 0.2671 - val_categorical_accuracy: 0.9043\n",
            "Epoch 16/25\n",
            "1920/1920 [==============================] - 63s 33ms/step - loss: 0.2688 - categorical_accuracy: 0.9069 - val_loss: 0.2707 - val_categorical_accuracy: 0.9009\n",
            "Epoch 17/25\n",
            "1920/1920 [==============================] - 64s 33ms/step - loss: 0.2580 - categorical_accuracy: 0.9089 - val_loss: 0.2652 - val_categorical_accuracy: 0.9058\n",
            "Epoch 18/25\n",
            "1920/1920 [==============================] - 63s 33ms/step - loss: 0.2494 - categorical_accuracy: 0.9142 - val_loss: 0.2568 - val_categorical_accuracy: 0.9087\n",
            "Epoch 19/25\n",
            "1920/1920 [==============================] - 63s 33ms/step - loss: 0.2378 - categorical_accuracy: 0.9160 - val_loss: 0.2586 - val_categorical_accuracy: 0.9091\n",
            "Epoch 20/25\n",
            "1920/1920 [==============================] - 63s 33ms/step - loss: 0.2282 - categorical_accuracy: 0.9189 - val_loss: 0.2597 - val_categorical_accuracy: 0.9075\n",
            "Epoch 21/25\n",
            "1920/1920 [==============================] - 63s 33ms/step - loss: 0.2202 - categorical_accuracy: 0.9238 - val_loss: 0.2664 - val_categorical_accuracy: 0.9097\n",
            "Epoch 22/25\n",
            "1920/1920 [==============================] - 64s 33ms/step - loss: 0.2123 - categorical_accuracy: 0.9241 - val_loss: 0.2551 - val_categorical_accuracy: 0.9136\n",
            "Epoch 23/25\n",
            "1920/1920 [==============================] - 63s 33ms/step - loss: 0.2026 - categorical_accuracy: 0.9283 - val_loss: 0.2573 - val_categorical_accuracy: 0.9114\n",
            "Epoch 24/25\n",
            "1920/1920 [==============================] - 63s 33ms/step - loss: 0.1942 - categorical_accuracy: 0.9304 - val_loss: 0.2623 - val_categorical_accuracy: 0.9118\n",
            "Epoch 25/25\n",
            "1920/1920 [==============================] - 64s 33ms/step - loss: 0.1809 - categorical_accuracy: 0.9354 - val_loss: 0.2557 - val_categorical_accuracy: 0.9172\n"
          ]
        },
        {
          "data": {
            "image/png": "[encoded data removed]",
            "text/plain": [
              "<Figure size 432x288 with 1 Axes>"
            ]
          },
          "metadata": {},
          "output_type": "display_data"
        },
        {
          "data": {
            "image/png": "[encoded data removed]",
            "text/plain": [
              "<Figure size 432x288 with 1 Axes>"
            ]
          },
          "metadata": {},
          "output_type": "display_data"
        },
        {
          "name": "stdout",
          "output_type": "stream",
          "text": [
            "313/313 [==============================] - 4s 12ms/step - loss: 0.2891 - categorical_accuracy: 0.9104\n",
            "Test accuracy: 0.910\n"
          ]
        }
      ],
      "source": [
        "# Compile the model, as a preparation for training\n",
        "model.compile(\n",
        "  optimizer='sgd',\n",
        "  loss='categorical_crossentropy',\n",
        "  metrics=['categorical_accuracy']\n",
        ")\n",
        "\n",
        "epochs = 25     ## Number of epoch to run\n",
        "batch_size = 25  ## Mini batch size\n",
        "\n",
        "# Train the model.\n",
        "history = model.fit(\n",
        "  train_images, to_categorical(train_labels),\n",
        "  epochs=epochs,\n",
        "  batch_size=batch_size,\n",
        "  verbose = 1,\n",
        "  validation_data=(val_images, to_categorical(val_labels))\n",
        ")\n",
        "\n",
        "epochrange = range(1, epochs + 1)\n",
        "train_acc = history.history['categorical_accuracy']\n",
        "val_acc = history.history['val_categorical_accuracy']\n",
        "\n",
        "train_loss = history.history['loss']\n",
        "val_loss = history.history['val_loss']\n",
        "\n",
        "plt.plot(epochrange, train_acc, 'bo', label='Training acc')\n",
        "plt.plot(epochrange, val_acc, 'b', label='Validation acc')\n",
        "plt.title('Training and validation accuracy (modell 1)')\n",
        "plt.xlabel('Epochs')\n",
        "plt.ylabel('Accuracy')\n",
        "plt.legend()\n",
        "plt.show()\n",
        "\n",
        "plt.plot(epochrange, train_loss, 'bo', label='Training loss')\n",
        "plt.plot(epochrange, val_loss, 'b', label='Validation loss')\n",
        "plt.title('Training and validation loss (modell 1)')\n",
        "plt.xlabel('Epochs')\n",
        "plt.ylabel('Loss')\n",
        "plt.legend()\n",
        "plt.show()\n",
        "\n",
        "# Evaluate the model.\n",
        "test_loss, test_acc = model.evaluate(test_images,to_categorical(test_labels))\n",
        "print('Test accuracy: %.3f' % test_acc)"
      ]
    },
    {
      "cell_type": "markdown",
      "metadata": {
        "id": "7MMttcupPmiq"
      },
      "source": [
        "## Analys\n",
        "Dokumentera dina experiment, med modellkonfiguration, testnoggrannhet, och vid vilken epoch modellen börjar överträna.\n",
        "* Gör en sammanfattande analys av dina experiment hittills.\n",
        "> sammanfattningsvis så fick jag runt 90% test accuracy på de flesta modellerna jag provade i början, där jag först provade med 4 CNN lager, 32 filter men provade sedan både fler lager med fler filer (några av dessa modellerna finns här ovan)\n",
        "\n",
        ">jag provade också olika storlekar på kernellen (3x3 och 5x5) där en kombination av 3x3 och 5x5 verkade ge bäst resultat\n",
        "\n",
        "> min bästa modell (modell 10) fick 91% test accuracy, den modellen är inspirerad av ett exempel från boken, \n",
        "\n",
        "> modell 8 fick också 91% test accuaracy, men när jag försökte fortsätta med den modellen på de andra lab momenten så verkade det som att den inte var komplex nog (varför?)\n",
        "\n",
        "(provade också att använda adam istället för sdg i modell 6 vilket gav 91,5% test accuracy, men valde att inte ta med den modellen här då jag såg att man egentligen inte skulle byta optimerare förän upg 2c)"
      ]
    },
    {
      "cell_type": "markdown",
      "metadata": {
        "id": "CIR5LYQi6vDe"
      },
      "source": [
        "# Övning Del 2a - avbruten träning\n",
        "Utgå ifrån din bästa modell som du fått fram i del 1 och för den implementera avbruten träning (eng. early stopping) som ett sätt att förhindra överträning. [See Geron s. 141]\n",
        "\n",
        "Du behöver definiera en \"callback\" som sedan includeras i anropet till model.fit: *es=tf.keras.callbacks.EarlyStopping('val_loss', patience=3, restore_best_weights = True)*\n",
        "\n",
        "*model.fit(\n",
        "  train_images, to_categorical(train_labels),\n",
        "  epochs=epochs,\n",
        "  batch_size=batch_size,\n",
        "  **callbacks=[es]**,\n",
        "  validation_data=(val_images, to_categorical(val_labels))\n",
        ")*\n",
        "\n",
        "Viktigt är att notera restore_best_weights=True ifall man använder patience>0, för annars så har man en övertränad modell efter träningen.\n"
      ]
    },
    {
      "cell_type": "markdown",
      "metadata": {
        "id": "tTJhKKYOhH76"
      },
      "source": [
        "### Modellen"
      ]
    },
    {
      "cell_type": "code",
      "execution_count": null,
      "metadata": {
        "colab": {
          "base_uri": "https://localhost:8080/"
        },
        "id": "RX1wQg4ag62K",
        "outputId": "29e7fe84-b90c-45c5-bb01-87b4604b0e7f"
      },
      "outputs": [
        {
          "name": "stdout",
          "output_type": "stream",
          "text": [
            "Input shape (28, 28, 1)\n",
            "Model: \"sequential_10\"\n",
            "_________________________________________________________________\n",
            " Layer (type)                Output Shape              Param #   \n",
            "=================================================================\n",
            " conv2d_42 (Conv2D)          (None, 28, 28, 64)        1664      \n",
            "                                                                 \n",
            " max_pooling2d_26 (MaxPoolin  (None, 14, 14, 64)       0         \n",
            " g2D)                                                            \n",
            "                                                                 \n",
            " conv2d_43 (Conv2D)          (None, 14, 14, 128)       73856     \n",
            "                                                                 \n",
            " conv2d_44 (Conv2D)          (None, 14, 14, 128)       409728    \n",
            "                                                                 \n",
            " max_pooling2d_27 (MaxPoolin  (None, 7, 7, 128)        0         \n",
            " g2D)                                                            \n",
            "                                                                 \n",
            " conv2d_45 (Conv2D)          (None, 7, 7, 256)         295168    \n",
            "                                                                 \n",
            " conv2d_46 (Conv2D)          (None, 7, 7, 256)         1638656   \n",
            "                                                                 \n",
            " max_pooling2d_28 (MaxPoolin  (None, 3, 3, 256)        0         \n",
            " g2D)                                                            \n",
            "                                                                 \n",
            " flatten_10 (Flatten)        (None, 2304)              0         \n",
            "                                                                 \n",
            " dense_25 (Dense)            (None, 128)               295040    \n",
            "                                                                 \n",
            " dropout_11 (Dropout)        (None, 128)               0         \n",
            "                                                                 \n",
            " dense_26 (Dense)            (None, 64)                8256      \n",
            "                                                                 \n",
            " dropout_12 (Dropout)        (None, 64)                0         \n",
            "                                                                 \n",
            " dense_27 (Dense)            (None, 10)                650       \n",
            "                                                                 \n",
            "=================================================================\n",
            "Total params: 2,723,018\n",
            "Trainable params: 2,723,018\n",
            "Non-trainable params: 0\n",
            "_________________________________________________________________\n"
          ]
        }
      ],
      "source": [
        "# We need to give the input shape (i.e. our image shape) to our model\n",
        "input_shape = test_images[0].shape\n",
        "print(\"Input shape\", input_shape)\n",
        "\n",
        "# The Keras model will be the simples Keras model for NN networks. \n",
        "# It is a single stack of layers connected sequentially.\n",
        "model = Sequential([\n",
        "\n",
        "# Add a convolution layer\n",
        "Conv2D(filters=64, kernel_size=(5, 5), padding='same', activation='relu', input_shape=input_shape),\n",
        "\n",
        "keras.layers.MaxPooling2D(pool_size=(2,2), strides=(2,2)),\n",
        "\n",
        "Conv2D(filters=128, kernel_size=(3, 3), padding='same', activation='relu', input_shape=input_shape),\n",
        "\n",
        "Conv2D(filters=128, kernel_size=(5, 5), padding='same', activation='relu', input_shape=input_shape),\n",
        "\n",
        "keras.layers.MaxPooling2D(pool_size=(2,2), strides=(2,2)),\n",
        "\n",
        "Conv2D(filters=256, kernel_size=(3, 3), padding='same', activation='relu', input_shape=input_shape),\n",
        "\n",
        "Conv2D(filters=256, kernel_size=(5, 5), padding='same', activation='relu', input_shape=input_shape),\n",
        "\n",
        "keras.layers.MaxPooling2D(pool_size=(2,2), strides=(2,2)),\n",
        "\n",
        "# Flatten the input. This prepares the vector for fully connected layers.\n",
        "Flatten(),\n",
        "\n",
        "# Add a hidden Dense layer\n",
        "Dense(units=128, activation='relu'),\n",
        "\n",
        "keras.layers.Dropout(0.5),\n",
        "\n",
        "Dense(units=64, activation='relu'),\n",
        "\n",
        "keras.layers.Dropout(0.5),\n",
        "\n",
        "# Add a an output layer. The output space is the number of classes\n",
        "#    Softmax makes the output as probablity vector of the different classes\n",
        "Dense(units=num_classes, activation='softmax')\n",
        "\n",
        "])\n",
        "\n",
        "model.summary()"
      ]
    },
    {
      "cell_type": "markdown",
      "metadata": {
        "id": "G3HGW3EThMiA"
      },
      "source": [
        "### inför avbruten träning"
      ]
    },
    {
      "cell_type": "code",
      "execution_count": null,
      "metadata": {
        "colab": {
          "base_uri": "https://localhost:8080/"
        },
        "id": "dOOTlUlijgjX",
        "outputId": "8e2ff873-ca50-463d-9e7f-832f27372a64"
      },
      "outputs": [
        {
          "name": "stdout",
          "output_type": "stream",
          "text": [
            "Epoch 1/40\n",
            "1920/1920 [==============================] - 65s 33ms/step - loss: 1.3486 - categorical_accuracy: 0.5036 - val_loss: 0.6374 - val_categorical_accuracy: 0.7556\n",
            "Epoch 2/40\n",
            "1920/1920 [==============================] - 63s 33ms/step - loss: 0.7075 - categorical_accuracy: 0.7409 - val_loss: 0.5119 - val_categorical_accuracy: 0.7972\n",
            "Epoch 3/40\n",
            "1920/1920 [==============================] - 66s 34ms/step - loss: 0.5784 - categorical_accuracy: 0.7915 - val_loss: 0.4482 - val_categorical_accuracy: 0.8355\n",
            "Epoch 4/40\n",
            "1920/1920 [==============================] - 65s 34ms/step - loss: 0.5096 - categorical_accuracy: 0.8223 - val_loss: 0.3995 - val_categorical_accuracy: 0.8528\n",
            "Epoch 5/40\n",
            "1920/1920 [==============================] - 63s 33ms/step - loss: 0.4629 - categorical_accuracy: 0.8393 - val_loss: 0.3831 - val_categorical_accuracy: 0.8600\n",
            "Epoch 6/40\n",
            "1920/1920 [==============================] - 67s 35ms/step - loss: 0.4334 - categorical_accuracy: 0.8500 - val_loss: 0.3514 - val_categorical_accuracy: 0.8739\n",
            "Epoch 7/40\n",
            "1920/1920 [==============================] - 63s 33ms/step - loss: 0.4071 - categorical_accuracy: 0.8614 - val_loss: 0.3542 - val_categorical_accuracy: 0.8712\n",
            "Epoch 8/40\n",
            "1920/1920 [==============================] - 64s 33ms/step - loss: 0.3809 - categorical_accuracy: 0.8696 - val_loss: 0.3225 - val_categorical_accuracy: 0.8837\n",
            "Epoch 9/40\n",
            "1920/1920 [==============================] - 63s 33ms/step - loss: 0.3597 - categorical_accuracy: 0.8744 - val_loss: 0.3124 - val_categorical_accuracy: 0.8853\n",
            "Epoch 10/40\n",
            "1920/1920 [==============================] - 63s 33ms/step - loss: 0.3487 - categorical_accuracy: 0.8801 - val_loss: 0.2991 - val_categorical_accuracy: 0.8889\n",
            "Epoch 11/40\n",
            "1920/1920 [==============================] - 63s 33ms/step - loss: 0.3310 - categorical_accuracy: 0.8863 - val_loss: 0.2908 - val_categorical_accuracy: 0.8955\n",
            "Epoch 12/40\n",
            "1920/1920 [==============================] - 64s 34ms/step - loss: 0.3191 - categorical_accuracy: 0.8909 - val_loss: 0.2840 - val_categorical_accuracy: 0.8978\n",
            "Epoch 13/40\n",
            "1920/1920 [==============================] - 63s 33ms/step - loss: 0.3073 - categorical_accuracy: 0.8963 - val_loss: 0.2818 - val_categorical_accuracy: 0.9007\n",
            "Epoch 14/40\n",
            "1920/1920 [==============================] - 64s 33ms/step - loss: 0.2917 - categorical_accuracy: 0.9010 - val_loss: 0.2703 - val_categorical_accuracy: 0.9038\n",
            "Epoch 15/40\n",
            "1920/1920 [==============================] - 65s 34ms/step - loss: 0.2806 - categorical_accuracy: 0.9027 - val_loss: 0.2623 - val_categorical_accuracy: 0.9070\n",
            "Epoch 16/40\n",
            "1920/1920 [==============================] - 63s 33ms/step - loss: 0.2717 - categorical_accuracy: 0.9057 - val_loss: 0.2621 - val_categorical_accuracy: 0.9064\n",
            "Epoch 17/40\n",
            "1920/1920 [==============================] - 64s 33ms/step - loss: 0.2605 - categorical_accuracy: 0.9100 - val_loss: 0.2603 - val_categorical_accuracy: 0.9049\n",
            "Epoch 18/40\n",
            "1920/1920 [==============================] - 63s 33ms/step - loss: 0.2464 - categorical_accuracy: 0.9140 - val_loss: 0.2542 - val_categorical_accuracy: 0.9088\n",
            "Epoch 19/40\n",
            "1920/1920 [==============================] - 63s 33ms/step - loss: 0.2394 - categorical_accuracy: 0.9171 - val_loss: 0.2607 - val_categorical_accuracy: 0.9058\n",
            "Epoch 20/40\n",
            "1920/1920 [==============================] - 64s 33ms/step - loss: 0.2313 - categorical_accuracy: 0.9205 - val_loss: 0.2490 - val_categorical_accuracy: 0.9116\n",
            "Epoch 21/40\n",
            "1920/1920 [==============================] - 66s 34ms/step - loss: 0.2190 - categorical_accuracy: 0.9246 - val_loss: 0.2410 - val_categorical_accuracy: 0.9168\n",
            "Epoch 22/40\n",
            "1920/1920 [==============================] - 63s 33ms/step - loss: 0.2093 - categorical_accuracy: 0.9280 - val_loss: 0.2432 - val_categorical_accuracy: 0.9183\n",
            "Epoch 23/40\n",
            "1920/1920 [==============================] - 63s 33ms/step - loss: 0.2038 - categorical_accuracy: 0.9296 - val_loss: 0.2395 - val_categorical_accuracy: 0.9176\n",
            "Epoch 24/40\n",
            "1920/1920 [==============================] - 63s 33ms/step - loss: 0.1918 - categorical_accuracy: 0.9319 - val_loss: 0.2659 - val_categorical_accuracy: 0.9143\n",
            "Epoch 25/40\n",
            "1920/1920 [==============================] - 63s 33ms/step - loss: 0.1842 - categorical_accuracy: 0.9363 - val_loss: 0.2415 - val_categorical_accuracy: 0.9182\n",
            "Epoch 26/40\n",
            "1920/1920 [==============================] - 64s 33ms/step - loss: 0.1759 - categorical_accuracy: 0.9391 - val_loss: 0.2481 - val_categorical_accuracy: 0.9183\n",
            "313/313 [==============================] - 4s 13ms/step - loss: 0.2592 - categorical_accuracy: 0.9116\n",
            "Test accuracy: 0.912\n"
          ]
        }
      ],
      "source": [
        "# Kod där du inför avbruten träning\n",
        "\n",
        "# Compile the model, as a preparation for training\n",
        "model.compile(\n",
        "  optimizer='sgd',\n",
        "  loss='categorical_crossentropy',\n",
        "  metrics=['categorical_accuracy']\n",
        ")\n",
        "\n",
        "epochs = 40      ## Number of epoch to run\n",
        "batch_size = 25  ## Mini batch size\n",
        "\n",
        "#early stop\n",
        "es = tf.keras.callbacks.EarlyStopping('val_loss', patience=3, restore_best_weights = True)\n",
        "\n",
        "# Train the model.\n",
        "history = model.fit( \n",
        "    train_images, to_categorical(train_labels), \n",
        "    epochs=epochs, \n",
        "    batch_size=batch_size, \n",
        "    verbose = 1, \n",
        "    callbacks=[es], \n",
        "    validation_data=(val_images, to_categorical(val_labels)) \n",
        "    )\n",
        "\n",
        "# Evaluate the model.\n",
        "test_loss, test_acc = model.evaluate(test_images,to_categorical(test_labels))\n",
        "print('Test accuracy: %.3f' % test_acc)"
      ]
    },
    {
      "cell_type": "code",
      "execution_count": null,
      "metadata": {
        "colab": {
          "base_uri": "https://localhost:8080/",
          "height": 573
        },
        "id": "J1ixSfcXqGz5",
        "outputId": "16facab6-652b-48d7-8f34-e830165cc59b"
      },
      "outputs": [
        {
          "data": {
            "image/png": "[encoded data removed]",
            "text/plain": [
              "<Figure size 432x288 with 1 Axes>"
            ]
          },
          "metadata": {},
          "output_type": "display_data"
        },
        {
          "data": {
            "image/png": "[encoded data removed]",
            "text/plain": [
              "<Figure size 432x288 with 1 Axes>"
            ]
          },
          "metadata": {},
          "output_type": "display_data"
        }
      ],
      "source": [
        "epochrange = range(1, 26+ 1)\n",
        "train_acc = history.history['categorical_accuracy']\n",
        "val_acc = history.history['val_categorical_accuracy']\n",
        "\n",
        "train_loss = history.history['loss']\n",
        "val_loss = history.history['val_loss']\n",
        "\n",
        "plt.plot(epochrange, train_acc, 'bo', label='Training acc')\n",
        "plt.plot(epochrange, val_acc, 'b', label='Validation acc')\n",
        "plt.title('Training and validation accuracy')\n",
        "plt.xlabel('Epochs')\n",
        "plt.ylabel('Accuracy')\n",
        "plt.legend()\n",
        "plt.show()\n",
        "\n",
        "plt.plot(epochrange, train_loss, 'bo', label='Training loss')\n",
        "plt.plot(epochrange, val_loss, 'b', label='Validation loss')\n",
        "plt.title('Training and validation loss')\n",
        "plt.xlabel('Epochs')\n",
        "plt.ylabel('Loss')\n",
        "plt.legend()\n",
        "plt.show()"
      ]
    },
    {
      "cell_type": "markdown",
      "metadata": {
        "id": "xoYoC9KYTLtT"
      },
      "source": [
        "# Övning Del 2b Andra former av regularisering\n"
      ]
    },
    {
      "cell_type": "markdown",
      "metadata": {
        "id": "n0PXMFPccvP8"
      },
      "source": [
        "Utgå ifrån din bästa modell som du fått fram i del 1 men använd avbruten träning. Nu ska du skapa en modell som använder regularisering, tex. drop-out eller batchnormalisering. Analysera och jämför dessa modeller (med och utan regaluarisering) genom att notera deras testnoggrannhet och plotta tränings- och valideringsnoggrannheten (eng. accuracy) respektive förlust (eng. loss), och notera ifall en förbättring kan iakttas med regularisering. Hur många Epoch använder du för träningen? [See Geron s 338, s. 365]"
      ]
    },
    {
      "cell_type": "markdown",
      "metadata": {
        "id": "qPZLu_DOXWdj"
      },
      "source": [
        "## Batchnormalisering"
      ]
    },
    {
      "cell_type": "code",
      "execution_count": null,
      "metadata": {
        "colab": {
          "base_uri": "https://localhost:8080/"
        },
        "id": "d7a7X1mJWLnN",
        "outputId": "37688d9e-3399-461d-e057-a82609ca5425"
      },
      "outputs": [
        {
          "name": "stdout",
          "output_type": "stream",
          "text": [
            "Input shape (28, 28, 1)\n",
            "Model: \"sequential_4\"\n",
            "_________________________________________________________________\n",
            " Layer (type)                Output Shape              Param #   \n",
            "=================================================================\n",
            " conv2d_20 (Conv2D)          (None, 28, 28, 64)        1664      \n",
            "                                                                 \n",
            " batch_normalization_7 (Batc  (None, 28, 28, 64)       256       \n",
            " hNormalization)                                                 \n",
            "                                                                 \n",
            " max_pooling2d_16 (MaxPoolin  (None, 14, 14, 64)       0         \n",
            " g2D)                                                            \n",
            "                                                                 \n",
            " conv2d_21 (Conv2D)          (None, 14, 14, 128)       73856     \n",
            "                                                                 \n",
            " batch_normalization_8 (Batc  (None, 14, 14, 128)      512       \n",
            " hNormalization)                                                 \n",
            "                                                                 \n",
            " conv2d_22 (Conv2D)          (None, 14, 14, 128)       409728    \n",
            "                                                                 \n",
            " batch_normalization_9 (Batc  (None, 14, 14, 128)      512       \n",
            " hNormalization)                                                 \n",
            "                                                                 \n",
            " max_pooling2d_17 (MaxPoolin  (None, 7, 7, 128)        0         \n",
            " g2D)                                                            \n",
            "                                                                 \n",
            " conv2d_23 (Conv2D)          (None, 7, 7, 256)         295168    \n",
            "                                                                 \n",
            " batch_normalization_10 (Bat  (None, 7, 7, 256)        1024      \n",
            " chNormalization)                                                \n",
            "                                                                 \n",
            " conv2d_24 (Conv2D)          (None, 7, 7, 256)         1638656   \n",
            "                                                                 \n",
            " batch_normalization_11 (Bat  (None, 7, 7, 256)        1024      \n",
            " chNormalization)                                                \n",
            "                                                                 \n",
            " max_pooling2d_18 (MaxPoolin  (None, 3, 3, 256)        0         \n",
            " g2D)                                                            \n",
            "                                                                 \n",
            " flatten_4 (Flatten)         (None, 2304)              0         \n",
            "                                                                 \n",
            " dense_12 (Dense)            (None, 128)               295040    \n",
            "                                                                 \n",
            " batch_normalization_12 (Bat  (None, 128)              512       \n",
            " chNormalization)                                                \n",
            "                                                                 \n",
            " dropout_2 (Dropout)         (None, 128)               0         \n",
            "                                                                 \n",
            " dense_13 (Dense)            (None, 64)                8256      \n",
            "                                                                 \n",
            " batch_normalization_13 (Bat  (None, 64)               256       \n",
            " chNormalization)                                                \n",
            "                                                                 \n",
            " dropout_3 (Dropout)         (None, 64)                0         \n",
            "                                                                 \n",
            " dense_14 (Dense)            (None, 10)                650       \n",
            "                                                                 \n",
            "=================================================================\n",
            "Total params: 2,727,114\n",
            "Trainable params: 2,725,066\n",
            "Non-trainable params: 2,048\n",
            "_________________________________________________________________\n"
          ]
        }
      ],
      "source": [
        "# We need to give the input shape (i.e. our image shape) to our model\n",
        "input_shape = test_images[0].shape\n",
        "print(\"Input shape\", input_shape)\n",
        "\n",
        "# The Keras model will be the simples Keras model for NN networks. \n",
        "# It is a single stack of layers connected sequentially.\n",
        "model = Sequential([\n",
        "\n",
        "# convolution layer 1\n",
        "Conv2D(filters=64, kernel_size=(5, 5), padding='same', activation='relu', input_shape=input_shape),\n",
        "keras.layers.BatchNormalization(),\n",
        "keras.layers.MaxPooling2D(pool_size=(2,2), strides=(2,2)),\n",
        "\n",
        "# convolution layer 2\n",
        "Conv2D(filters=128, kernel_size=(3, 3), padding='same', activation='relu', input_shape=input_shape),\n",
        "keras.layers.BatchNormalization(),\n",
        "\n",
        "# convolution layer 3\n",
        "Conv2D(filters=128, kernel_size=(5, 5), padding='same', activation='relu', input_shape=input_shape),\n",
        "keras.layers.BatchNormalization(),\n",
        "keras.layers.MaxPooling2D(pool_size=(2,2), strides=(2,2)),\n",
        "\n",
        "# convolution layer 4\n",
        "Conv2D(filters=256, kernel_size=(3, 3), padding='same', activation='relu', input_shape=input_shape),\n",
        "keras.layers.BatchNormalization(),\n",
        "\n",
        "# convolution layer 5\n",
        "Conv2D(filters=256, kernel_size=(5, 5), padding='same', activation='relu', input_shape=input_shape),\n",
        "keras.layers.BatchNormalization(),\n",
        "keras.layers.MaxPooling2D(pool_size=(2,2), strides=(2,2)),\n",
        "\n",
        "# Flatten the input. This prepares the vector for fully connected layers.\n",
        "Flatten(),\n",
        "\n",
        "# Add a hidden Dense layer\n",
        "Dense(units=128, activation='relu'),\n",
        "keras.layers.BatchNormalization(),\n",
        "keras.layers.Dropout(0.5),\n",
        "\n",
        "Dense(units=64, activation='relu'),\n",
        "keras.layers.BatchNormalization(),\n",
        "keras.layers.Dropout(0.5),\n",
        "\n",
        "# Add a an output layer. The output space is the number of classes\n",
        "#    Softmax makes the output as probablity vector of the different classes\n",
        "Dense(units=num_classes, activation='softmax')\n",
        "\n",
        "])\n",
        "\n",
        "model.summary()"
      ]
    },
    {
      "cell_type": "code",
      "execution_count": null,
      "metadata": {
        "colab": {
          "base_uri": "https://localhost:8080/"
        },
        "id": "SFqWyFnTy_YS",
        "outputId": "056e657b-c804-4233-b9d0-935041076251"
      },
      "outputs": [
        {
          "name": "stdout",
          "output_type": "stream",
          "text": [
            "Epoch 1/40\n",
            "1920/1920 [==============================] - 72s 37ms/step - loss: 0.7618 - categorical_accuracy: 0.7467 - val_loss: 0.4019 - val_categorical_accuracy: 0.8518\n",
            "Epoch 2/40\n",
            "1920/1920 [==============================] - 70s 36ms/step - loss: 0.4489 - categorical_accuracy: 0.8517 - val_loss: 0.2981 - val_categorical_accuracy: 0.8925\n",
            "Epoch 3/40\n",
            "1920/1920 [==============================] - 69s 36ms/step - loss: 0.3844 - categorical_accuracy: 0.8743 - val_loss: 0.2663 - val_categorical_accuracy: 0.9032\n",
            "Epoch 4/40\n",
            "1920/1920 [==============================] - 69s 36ms/step - loss: 0.3255 - categorical_accuracy: 0.8960 - val_loss: 0.2759 - val_categorical_accuracy: 0.9048\n",
            "Epoch 5/40\n",
            "1920/1920 [==============================] - 69s 36ms/step - loss: 0.2982 - categorical_accuracy: 0.9038 - val_loss: 0.2402 - val_categorical_accuracy: 0.9158\n",
            "Epoch 6/40\n",
            "1920/1920 [==============================] - 69s 36ms/step - loss: 0.2688 - categorical_accuracy: 0.9131 - val_loss: 0.2391 - val_categorical_accuracy: 0.9172\n",
            "Epoch 7/40\n",
            "1920/1920 [==============================] - 68s 36ms/step - loss: 0.2437 - categorical_accuracy: 0.9211 - val_loss: 0.2305 - val_categorical_accuracy: 0.9173\n",
            "Epoch 8/40\n",
            "1920/1920 [==============================] - 69s 36ms/step - loss: 0.2272 - categorical_accuracy: 0.9268 - val_loss: 0.2254 - val_categorical_accuracy: 0.9214\n",
            "Epoch 9/40\n",
            "1920/1920 [==============================] - 69s 36ms/step - loss: 0.2061 - categorical_accuracy: 0.9342 - val_loss: 0.2131 - val_categorical_accuracy: 0.9274\n",
            "Epoch 10/40\n",
            "1920/1920 [==============================] - 69s 36ms/step - loss: 0.1897 - categorical_accuracy: 0.9386 - val_loss: 0.2222 - val_categorical_accuracy: 0.9268\n",
            "Epoch 11/40\n",
            "1920/1920 [==============================] - 68s 36ms/step - loss: 0.1742 - categorical_accuracy: 0.9438 - val_loss: 0.2285 - val_categorical_accuracy: 0.9247\n",
            "Epoch 12/40\n",
            "1920/1920 [==============================] - 69s 36ms/step - loss: 0.1606 - categorical_accuracy: 0.9484 - val_loss: 0.2166 - val_categorical_accuracy: 0.9286\n",
            "313/313 [==============================] - 4s 13ms/step - loss: 0.2306 - categorical_accuracy: 0.9214\n",
            "Test accuracy: 0.921\n"
          ]
        }
      ],
      "source": [
        "# Kod där du inför avbruten träning\n",
        "\n",
        "# Compile the model, as a preparation for training\n",
        "\n",
        "model.compile(\n",
        "  optimizer='sgd',\n",
        "  loss='categorical_crossentropy',\n",
        "  metrics=['categorical_accuracy']\n",
        ")\n",
        "\n",
        "epochs = 40      ## Number of epoch to run\n",
        "batch_size = 25  ## Mini batch size\n",
        "\n",
        "#early stop\n",
        "es = tf.keras.callbacks.EarlyStopping('val_loss', patience=3, restore_best_weights = True)\n",
        "\n",
        "# Train the model.\n",
        "history = model.fit( \n",
        "    train_images, to_categorical(train_labels), \n",
        "    epochs=epochs, \n",
        "    batch_size=batch_size, \n",
        "    verbose = 1, \n",
        "    callbacks=[es], \n",
        "    validation_data=(val_images, to_categorical(val_labels)) \n",
        "    )\n",
        "\n",
        "# Evaluate the model.\n",
        "test_loss, test_acc = model.evaluate(test_images,to_categorical(test_labels))\n",
        "print('Test accuracy: %.3f' % test_acc)"
      ]
    },
    {
      "cell_type": "markdown",
      "metadata": {
        "id": "9F2HfNnwRTqT"
      },
      "source": [
        "stannar efter 12 epocher med test accuracy 0.921"
      ]
    },
    {
      "cell_type": "code",
      "execution_count": null,
      "metadata": {
        "colab": {
          "base_uri": "https://localhost:8080/",
          "height": 573
        },
        "id": "54mUK5JRgHEz",
        "outputId": "defb9158-36ad-4868-b986-a4fda71aecf5"
      },
      "outputs": [
        {
          "data": {
            "image/png": "[encoded data removed]",
            "text/plain": [
              "<Figure size 432x288 with 1 Axes>"
            ]
          },
          "metadata": {},
          "output_type": "display_data"
        },
        {
          "data": {
            "image/png": "[encoded data removed]",
            "text/plain": [
              "<Figure size 432x288 with 1 Axes>"
            ]
          },
          "metadata": {},
          "output_type": "display_data"
        }
      ],
      "source": [
        "#plotting the results\n",
        "epochrange = range(1, 12+ 1)\n",
        "train_acc = history.history['categorical_accuracy']\n",
        "val_acc = history.history['val_categorical_accuracy']\n",
        "\n",
        "train_loss = history.history['loss']\n",
        "val_loss = history.history['val_loss']\n",
        "\n",
        "plt.plot(epochrange, train_acc, 'bo', label='Training acc')\n",
        "plt.plot(epochrange, val_acc, 'b', label='Validation acc')\n",
        "plt.title('Training and validation accuracy')\n",
        "plt.xlabel('Epochs')\n",
        "plt.ylabel('Accuracy')\n",
        "plt.legend()\n",
        "plt.show()\n",
        "\n",
        "plt.plot(epochrange, train_loss, 'bo', label='Training loss')\n",
        "plt.plot(epochrange, val_loss, 'b', label='Validation loss')\n",
        "plt.title('Training and validation loss')\n",
        "plt.xlabel('Epochs')\n",
        "plt.ylabel('Loss')\n",
        "plt.legend()\n",
        "plt.show()"
      ]
    },
    {
      "cell_type": "markdown",
      "metadata": {
        "id": "Ctk9BAgVIUCD"
      },
      "source": [
        "## Analys\n",
        "Analysera och jämför dina modeller (med och utan regaluarisering) genom att notera deras testnoggrannhet och plotta tränings- och valideringsnoggrannheten (eng. accuracy) respektive förlust (eng. loss), och notera ifall en förbättring kan iakttas med regularisering. Hur många Epoch använder du för träningen? \n",
        "\n",
        ">(min modell från upg 1 använde redan regularisering, droput för att få ner parameterna lite, det jag ändrade i b-uppgiften är att jag också la till batchnormaliserings lager) \n",
        "\n",
        ">Med batchnormalisering (enligt ovan) fick jag test accuracy 0.921 efter 12 epocher, medans den tidigare modellen hade test accuracy 0.912 efter 26 epocher. alltså blev modellen både snabbare och bättre.     "
      ]
    },
    {
      "cell_type": "markdown",
      "metadata": {
        "id": "ominqognCKQ0"
      },
      "source": [
        "# Övriga Hyperparametrar\n",
        "Det finns ett antal andra viktiga parametrar som man kan behöva justera. Men flera av dem hänger ihop, så man behöver jobba med olika modeller och data för att få en bra känsla för dem. [See Geron s. 325.., s. 351.. ]\n",
        "* Batch size / batch storlek -- Ett större värde här kan ge GPUn mer parallellism att arbeta med, dvs snabbare, men ett för stort värde kan ge minnesproblem i GPUn och dessutom göra inlärningen långsammare (man kan dock även ha större LR i så fall.\n",
        "* Optimizer / optimerare -- En vanlig och bra optimerade är Adam (den är dessutom ganska okänslig för vilken inlärningstakt som den startar med, vilket gör att skönsvärdet fugerar bra)\n",
        "* Learning rate / inlärningstakt (LR) -- Viktig parameter för hur snabbt modellen tränar, men för stort färde kan ge instabil träning."
      ]
    },
    {
      "cell_type": "markdown",
      "metadata": {
        "id": "H-7dDWzwGH9c"
      },
      "source": [
        "# Övning Del 2c\n",
        "Byt ut optimeraren från sgd till adam (med regularisering och avbruten träning)."
      ]
    },
    {
      "cell_type": "code",
      "execution_count": null,
      "metadata": {
        "colab": {
          "base_uri": "https://localhost:8080/"
        },
        "id": "7MeBdyzAHiCX",
        "outputId": "d7001543-6967-4896-f730-09054c6f7adf"
      },
      "outputs": [
        {
          "name": "stdout",
          "output_type": "stream",
          "text": [
            "Input shape (28, 28, 1)\n",
            "Model: \"sequential_14\"\n",
            "_________________________________________________________________\n",
            " Layer (type)                Output Shape              Param #   \n",
            "=================================================================\n",
            " conv2d_62 (Conv2D)          (None, 28, 28, 64)        1664      \n",
            "                                                                 \n",
            " batch_normalization_14 (Bat  (None, 28, 28, 64)       256       \n",
            " chNormalization)                                                \n",
            "                                                                 \n",
            " max_pooling2d_38 (MaxPoolin  (None, 14, 14, 64)       0         \n",
            " g2D)                                                            \n",
            "                                                                 \n",
            " conv2d_63 (Conv2D)          (None, 14, 14, 128)       73856     \n",
            "                                                                 \n",
            " batch_normalization_15 (Bat  (None, 14, 14, 128)      512       \n",
            " chNormalization)                                                \n",
            "                                                                 \n",
            " conv2d_64 (Conv2D)          (None, 14, 14, 128)       409728    \n",
            "                                                                 \n",
            " batch_normalization_16 (Bat  (None, 14, 14, 128)      512       \n",
            " chNormalization)                                                \n",
            "                                                                 \n",
            " max_pooling2d_39 (MaxPoolin  (None, 7, 7, 128)        0         \n",
            " g2D)                                                            \n",
            "                                                                 \n",
            " conv2d_65 (Conv2D)          (None, 7, 7, 256)         295168    \n",
            "                                                                 \n",
            " batch_normalization_17 (Bat  (None, 7, 7, 256)        1024      \n",
            " chNormalization)                                                \n",
            "                                                                 \n",
            " conv2d_66 (Conv2D)          (None, 7, 7, 256)         1638656   \n",
            "                                                                 \n",
            " batch_normalization_18 (Bat  (None, 7, 7, 256)        1024      \n",
            " chNormalization)                                                \n",
            "                                                                 \n",
            " max_pooling2d_40 (MaxPoolin  (None, 3, 3, 256)        0         \n",
            " g2D)                                                            \n",
            "                                                                 \n",
            " flatten_14 (Flatten)        (None, 2304)              0         \n",
            "                                                                 \n",
            " dense_37 (Dense)            (None, 128)               295040    \n",
            "                                                                 \n",
            " batch_normalization_19 (Bat  (None, 128)              512       \n",
            " chNormalization)                                                \n",
            "                                                                 \n",
            " dropout_22 (Dropout)        (None, 128)               0         \n",
            "                                                                 \n",
            " dense_38 (Dense)            (None, 64)                8256      \n",
            "                                                                 \n",
            " batch_normalization_20 (Bat  (None, 64)               256       \n",
            " chNormalization)                                                \n",
            "                                                                 \n",
            " dropout_23 (Dropout)        (None, 64)                0         \n",
            "                                                                 \n",
            " dense_39 (Dense)            (None, 10)                650       \n",
            "                                                                 \n",
            "=================================================================\n",
            "Total params: 2,727,114\n",
            "Trainable params: 2,725,066\n",
            "Non-trainable params: 2,048\n",
            "_________________________________________________________________\n"
          ]
        }
      ],
      "source": [
        "# We need to give the input shape (i.e. our image shape) to our model\n",
        "input_shape = test_images[0].shape\n",
        "print(\"Input shape\", input_shape)\n",
        "\n",
        "# The Keras model will be the simples Keras model for NN networks. \n",
        "# It is a single stack of layers connected sequentially.\n",
        "model = Sequential([\n",
        "\n",
        "# convolution layer 1\n",
        "Conv2D(filters=64, kernel_size=(5, 5), padding='same', activation='relu', input_shape=input_shape),\n",
        "keras.layers.BatchNormalization(),\n",
        "keras.layers.MaxPooling2D(pool_size=(2,2), strides=(2,2)),\n",
        "\n",
        "# convolution layer 2\n",
        "Conv2D(filters=128, kernel_size=(3, 3), padding='same', activation='relu', input_shape=input_shape),\n",
        "keras.layers.BatchNormalization(),\n",
        "\n",
        "# convolution layer 3\n",
        "Conv2D(filters=128, kernel_size=(5, 5), padding='same', activation='relu', input_shape=input_shape),\n",
        "keras.layers.BatchNormalization(),\n",
        "keras.layers.MaxPooling2D(pool_size=(2,2), strides=(2,2)),\n",
        "\n",
        "# convolution layer 4\n",
        "Conv2D(filters=256, kernel_size=(3, 3), padding='same', activation='relu', input_shape=input_shape),\n",
        "keras.layers.BatchNormalization(),\n",
        "\n",
        "# convolution layer 5\n",
        "Conv2D(filters=256, kernel_size=(5, 5), padding='same', activation='relu', input_shape=input_shape),\n",
        "keras.layers.BatchNormalization(),\n",
        "keras.layers.MaxPooling2D(pool_size=(2,2), strides=(2,2)),\n",
        "\n",
        "# Flatten the input. This prepares the vector for fully connected layers.\n",
        "Flatten(),\n",
        "\n",
        "# Add a hidden Dense layer\n",
        "Dense(units=128, activation='relu'),\n",
        "keras.layers.BatchNormalization(),\n",
        "keras.layers.Dropout(0.5),\n",
        "\n",
        "Dense(units=64, activation='relu'),\n",
        "keras.layers.BatchNormalization(),\n",
        "keras.layers.Dropout(0.5),\n",
        "\n",
        "# Add a an output layer. The output space is the number of classes\n",
        "#    Softmax makes the output as probablity vector of the different classes\n",
        "Dense(units=num_classes, activation='softmax')\n",
        "\n",
        "])\n",
        "\n",
        "model.summary()\n"
      ]
    },
    {
      "cell_type": "code",
      "execution_count": null,
      "metadata": {
        "colab": {
          "base_uri": "https://localhost:8080/"
        },
        "id": "xkxX3Up5Em6I",
        "outputId": "2a369c9d-6625-4697-ab1b-129e60b21710"
      },
      "outputs": [
        {
          "name": "stdout",
          "output_type": "stream",
          "text": [
            "Epoch 1/40\n",
            "1920/1920 [==============================] - 73s 37ms/step - loss: 0.6420 - categorical_accuracy: 0.7840 - val_loss: 0.3871 - val_categorical_accuracy: 0.8597\n",
            "Epoch 2/40\n",
            "1920/1920 [==============================] - 71s 37ms/step - loss: 0.3958 - categorical_accuracy: 0.8676 - val_loss: 0.3207 - val_categorical_accuracy: 0.8912\n",
            "Epoch 3/40\n",
            "1920/1920 [==============================] - 72s 38ms/step - loss: 0.3314 - categorical_accuracy: 0.8898 - val_loss: 0.2816 - val_categorical_accuracy: 0.8972\n",
            "Epoch 4/40\n",
            "1920/1920 [==============================] - 72s 37ms/step - loss: 0.2982 - categorical_accuracy: 0.9013 - val_loss: 0.2647 - val_categorical_accuracy: 0.9050\n",
            "Epoch 5/40\n",
            "1920/1920 [==============================] - 72s 37ms/step - loss: 0.2704 - categorical_accuracy: 0.9110 - val_loss: 0.2757 - val_categorical_accuracy: 0.9056\n",
            "Epoch 6/40\n",
            "1920/1920 [==============================] - 71s 37ms/step - loss: 0.2404 - categorical_accuracy: 0.9211 - val_loss: 0.2424 - val_categorical_accuracy: 0.9146\n",
            "Epoch 7/40\n",
            "1920/1920 [==============================] - 72s 38ms/step - loss: 0.2124 - categorical_accuracy: 0.9310 - val_loss: 0.2239 - val_categorical_accuracy: 0.9218\n",
            "Epoch 8/40\n",
            "1920/1920 [==============================] - 72s 37ms/step - loss: 0.1834 - categorical_accuracy: 0.9407 - val_loss: 0.2249 - val_categorical_accuracy: 0.9253\n",
            "Epoch 9/40\n",
            "1920/1920 [==============================] - 72s 38ms/step - loss: 0.1635 - categorical_accuracy: 0.9461 - val_loss: 0.2310 - val_categorical_accuracy: 0.9247\n",
            "Epoch 10/40\n",
            "1920/1920 [==============================] - 72s 38ms/step - loss: 0.1416 - categorical_accuracy: 0.9543 - val_loss: 0.2326 - val_categorical_accuracy: 0.9270\n",
            "313/313 [==============================] - 4s 13ms/step - loss: 0.2373 - categorical_accuracy: 0.9175\n",
            "Test accuracy: 0.918\n"
          ]
        }
      ],
      "source": [
        "# Din kod för en körning med adam som optimerare\n",
        "\n",
        "# Compile the model, as a preparation for training\n",
        "model.compile(\n",
        "  optimizer='adam',\n",
        "  loss='categorical_crossentropy',\n",
        "  metrics=['categorical_accuracy']\n",
        ")\n",
        "\n",
        "epochs = 40      ## Number of epoch to run\n",
        "batch_size = 25  ## Mini batch size\n",
        "\n",
        "#early stop\n",
        "es = tf.keras.callbacks.EarlyStopping('val_loss', patience=3, restore_best_weights = True)\n",
        "\n",
        "# Train the model.\n",
        "history = model.fit( \n",
        "    train_images, to_categorical(train_labels), \n",
        "    epochs=epochs, \n",
        "    batch_size=batch_size, \n",
        "    verbose = 1, \n",
        "    callbacks=[es], \n",
        "    validation_data=(val_images, to_categorical(val_labels)) \n",
        "    )\n",
        "\n",
        "# Evaluate the model.\n",
        "test_loss, test_acc = model.evaluate(test_images,to_categorical(test_labels))\n",
        "print('Test accuracy: %.3f' % test_acc)"
      ]
    },
    {
      "cell_type": "markdown",
      "metadata": {
        "id": "UcRanKSBKwxG"
      },
      "source": [
        " ## Analys\n",
        "Jämför träningsförfarandet mellan de två optimerarna (skillnad i testnoggrannhet, vilken epoch stannade träningen, etc.?). \n",
        "\n",
        "\n",
        ">Jag fick att testnogranheten var 0.918 med adam (stannade efter 10 epocher) och 0.921 med sgd (12 epocher), så sgd gav alltså ett bättre resultat, medans adam gav ett snabbare resultat. \n"
      ]
    },
    {
      "cell_type": "markdown",
      "metadata": {
        "id": "d7QvZC8ONS95"
      },
      "source": [
        "# Del 3 Auto tune\n",
        "Here we test on of the hyperparameter optimizers called Keras Tuner. Documentation can be found here: https://keras-team.github.io/keras-tuner/"
      ]
    },
    {
      "cell_type": "code",
      "execution_count": null,
      "metadata": {
        "colab": {
          "base_uri": "https://localhost:8080/"
        },
        "id": "mCL16yCINhVS",
        "outputId": "23d553ff-be05-4f89-d989-6c07e843bf62"
      },
      "outputs": [
        {
          "name": "stdout",
          "output_type": "stream",
          "text": [
            "Keras Tuner version: 1.0.4\n"
          ]
        }
      ],
      "source": [
        "# Get Keras Tuner\n",
        "# Due to a bug,we need to use an older version of Keras Tuner\n",
        "!pip install keras_tuner==1.0.4 -q\n",
        "\n",
        "import keras_tuner\n",
        "print('Keras Tuner version:', keras_tuner.__version__)\n",
        "\n",
        "# Get some tuner search functions\n",
        "from keras_tuner.tuners import BayesianOptimization"
      ]
    },
    {
      "cell_type": "markdown",
      "metadata": {
        "id": "PVNB09pdRwo1"
      },
      "source": [
        "## Exempelmodell (du ska sedan göra en egen!)"
      ]
    },
    {
      "cell_type": "code",
      "execution_count": null,
      "metadata": {
        "id": "DkN7ntftOVQi"
      },
      "outputs": [],
      "source": [
        "# This is a straight forward CNN model to decently solve Fashion MNIST\n",
        "# It can at least achieve 92% accuracy for me, with the parameters found:\n",
        "# conv_1_filter =  96, conv_1_kernel =   5, \n",
        "# conv_2_filter =  48, conv_2_kernel =   5\n",
        "# dense_1_units =  128\n",
        "# learning_rate = 0.001\n",
        "# batch_size = 320\n",
        "\n",
        "def build_model_2Conv1Dense(hp):  \n",
        "  model = keras.Sequential([\n",
        "    # First Convolutional Layer\n",
        "    keras.layers.Conv2D(\n",
        "        filters=hp.Int('conv_1_filter', min_value=32, max_value=256, step=32),\n",
        "        kernel_size=hp.Choice('conv_1_kernel', values = [3,5]),\n",
        "        activation='relu',\n",
        "        padding='same',\n",
        "        input_shape=(28,28,1)\n",
        "    ),\n",
        "    keras.layers.BatchNormalization(),\n",
        "\n",
        "    # Second Convolutional Layer\n",
        "    keras.layers.Conv2D(\n",
        "        filters=hp.Int('conv_2_filter', min_value=32, max_value=256, step=32),\n",
        "        kernel_size=hp.Choice('conv_2_kernel', values = [3,5]),\n",
        "        activation='relu',\n",
        "        padding='same'\n",
        "    ),\n",
        "    keras.layers.MaxPooling2D(pool_size=(2, 2), strides=(2,2)),\n",
        "\n",
        "    # A First Dense Layer\n",
        "    keras.layers.Flatten(),\n",
        "    keras.layers.Dense(\n",
        "        units=hp.Int('dense_1_units', min_value=32, max_value=256, step=32),\n",
        "        activation='relu'\n",
        "    ),\n",
        "\n",
        "    # A Final Dense Layer\n",
        "    keras.layers.Dense(10, activation='softmax')\n",
        "  ])\n",
        "  \n",
        "  model.compile(optimizer=keras.optimizers.Adam(hp.Choice('learning_rate', values=[1e-2, 1e-3])),\n",
        "              loss='sparse_categorical_crossentropy',\n",
        "              metrics=['accuracy'])\n",
        "  \n",
        "  return model"
      ]
    },
    {
      "cell_type": "markdown",
      "metadata": {
        "id": "evRPRGRkOmpm"
      },
      "source": [
        "# Övning 3: Kod för instrumentera din egen model att optimeras med Keras Tuner\n",
        "Utgå ifrån din bästa modell som du fått fram i del 1 och instrumentera den för att optimeras med Keras Tuner."
      ]
    },
    {
      "cell_type": "code",
      "execution_count": null,
      "metadata": {
        "id": "semDHGG3Cmvx"
      },
      "outputs": [],
      "source": [
        "# Kompletera denna kod med din modell\n",
        "def build_model_MyModel(hp):  \n",
        "  model = keras.Sequential([\n",
        "    # First Convolutional Layer\n",
        "    ##### YOUR CODE HERE! #####\n",
        "\n",
        "# convolution layer 1\n",
        "keras.layers.Conv2D(\n",
        "    filters=hp.Int('conv_1_filter', min_value=32, max_value=256, step=32),\n",
        "    kernel_size=hp.Choice('conv_1_kernel', values = [3,5]),\n",
        "    padding='same', \n",
        "    activation='relu', \n",
        "    input_shape=(28,28,1)\n",
        "    ),\n",
        "keras.layers.MaxPooling2D(pool_size=(2,2), strides=(2,2)),\n",
        "\n",
        "# convolution layer 2\n",
        "keras.layers.Conv2D(\n",
        "    filters=hp.Int('conv_2_filter', min_value=32, max_value=256, step=32),\n",
        "    kernel_size=hp.Choice('conv_2_kernel', values = [3,5]),\n",
        "    padding='same', \n",
        "    activation='relu' \n",
        "    #input_shape=input_shape\n",
        "    ),\n",
        "\n",
        "# convolution layer 3\n",
        "keras.layers.Conv2D(\n",
        "    filters=hp.Int('conv_3_filter', min_value=32, max_value=256, step=32),\n",
        "    kernel_size=hp.Choice('conv_3_kernel', values = [3,5]),\n",
        "    padding='same', \n",
        "    activation='relu' \n",
        "    #input_shape=input_shape\n",
        "    ),\n",
        "keras.layers.MaxPooling2D(pool_size=(2,2), strides=(2,2)),\n",
        "\n",
        "# convolution layer 4\n",
        "keras.layers.Conv2D(\n",
        "    filters=hp.Int('conv_4_filter', min_value=32, max_value=256, step=32),\n",
        "    kernel_size=hp.Choice('conv_4_kernel', values = [3,5]),\n",
        "    padding='same', \n",
        "    activation='relu'\n",
        "    #input_shape=input_shape\n",
        "    ),\n",
        "\n",
        "# convolution layer 5\n",
        "keras.layers.Conv2D(\n",
        "    filters=hp.Int('conv_5_filter', min_value=32, max_value=256, step=32),\n",
        "    kernel_size=hp.Choice('conv_5_kernel', values = [3,5]),\n",
        "    padding='same', \n",
        "    activation='relu'\n",
        "    #input_shape=input_shape\n",
        "    ),\n",
        "keras.layers.MaxPooling2D(pool_size=(2,2), strides=(2,2)),\n",
        "\n",
        "# Flatten the input. This prepares the vector for fully connected layers.\n",
        "keras.layers.Flatten(),\n",
        "\n",
        "# hidden Dense layer 1\n",
        "keras.layers.Dense(\n",
        "    units=hp.Int('dense_1_units', min_value=32, max_value=256, step=32),\n",
        "    activation='relu'\n",
        "    ),\n",
        "keras.layers.Dropout(hp.Float(name='dropout_rate1', min_value=.3, max_value=.7, step=.1)),\n",
        "\n",
        "# hidden Dense layer 2\n",
        "keras.layers.Dense(\n",
        "    units=hp.Int('dense_2_units', min_value=32, max_value=256, step=32),\n",
        "    activation='relu'\n",
        "    ),\n",
        "keras.layers.Dropout(hp.Float(name='dropout_rate2', min_value=.3, max_value=.7, step=.1)),\n",
        "\n",
        "# A Final Dense Layer\n",
        "keras.layers.Dense(10, activation='softmax')\n",
        "  ])\n",
        "  \n",
        "  ##### You can also try some other learning rates in the next line, or use another optimizer with other parameters\n",
        "  model.compile(optimizer=keras.optimizers.Adam(hp.Choice('learning_rate', values=[1e-2, 1e-3])),\n",
        "              loss='sparse_categorical_crossentropy',\n",
        "              metrics=['accuracy'])\n",
        "  \n",
        "  return model"
      ]
    },
    {
      "cell_type": "markdown",
      "metadata": {
        "id": "RGMc2PtqWeoY"
      },
      "source": [
        "# Do the actual search, based on a BayesianOptimization\n",
        "Widely-used tuning algorithms: RandomSearch, BayesianOptimization and Hyperband. Here we will use BayesianOptimization. \n",
        "\n",
        "But note that there is a parameter *num_initial_points* to BayesianOptimization which state the number of randomly generated samples as initial training data for Bayesian optimization. If left unspecified, a value of 3 times the dimensionality of the hyperparameter space is used. That is, we might only use random search if we have too few trails."
      ]
    },
    {
      "cell_type": "code",
      "execution_count": null,
      "metadata": {
        "id": "10H7acwkPOpB"
      },
      "outputs": [],
      "source": [
        "# To get more stable results we are repeating the runs two times for each parameter setup\n",
        "MAX_TRIALS = 20         # represents the number of hyperparameter combinations that will be tested by the tuner\n",
        "EXECUTION_PER_TRIAL = 2 # the number of models that should be built and fit for each trial for robustness purposes"
      ]
    },
    {
      "cell_type": "code",
      "execution_count": null,
      "metadata": {
        "id": "mw62ioE_PQKZ"
      },
      "outputs": [],
      "source": [
        "# To have batch_size as a hyperparameter we need to define our own tuner\n",
        "# In this case, we are basing it on the BayesianOptimization tuner found in\n",
        "# https://keras-team.github.io/keras-tuner/documentation/tuners/#bayesianoptimization-class\n",
        "class MyTuner(keras_tuner.tuners.BayesianOptimization):\n",
        "  def run_trial(self, trial, *args, **kwargs):\n",
        "    # You can add additional HyperParameters for preprocessing and custom training loops\n",
        "    # via overriding `run_trial`\n",
        "    kwargs['batch_size'] = trial.hyperparameters.Int('batch_size', 32, 512, step=32, default=256)\n",
        "    super(MyTuner, self).run_trial(trial, *args, **kwargs)"
      ]
    },
    {
      "cell_type": "code",
      "execution_count": null,
      "metadata": {
        "id": "tMC8hgl3PZpI"
      },
      "outputs": [],
      "source": [
        "# Bayesian search which also searches for batch_size\n",
        "tuner = MyTuner(\n",
        "    build_model_MyModel, ##### Laboration: Change this to 'build_model_MyModel' #####\n",
        "    max_trials=MAX_TRIALS,\n",
        "    objective='val_accuracy',\n",
        "    executions_per_trial=EXECUTION_PER_TRIAL,\n",
        "    directory='output',\n",
        "    overwrite=True,\n",
        "    num_initial_points=10, # Start with 10 random points and then do more structured search\n",
        "    project_name='FashionMNIST'\n",
        ")"
      ]
    },
    {
      "cell_type": "markdown",
      "metadata": {
        "id": "7AqPBQEPfCw1"
      },
      "source": [
        "# Help it takes so much time!\n",
        "Yes, doing a parameter search takes time! Using a K80 this search takes 1h24 (while a RTX 3090 takes 10 minutes), and if your model is more complicated it can take even more. To handle this you could try setting EXECUTION_PER_TRIAL=1, even if the search becomes more instable. You can also try to run to in steps, do a first run with EXECUTION_PER_TRIAL=1 and even noepochauto = 4 or 5, to get a feeling for good parameter limits and starting points (setting things like \"default=128\" in the hp.Int() call) for your variables, and maybe even lock some variables (like LR?). And then do a more focused search where you maybe try EXECUTION_PER_TRIAL=2, noepochauto = 6 or 7 for a smaller number of MAX_TRIALS.\n",
        "\n",
        "If you do such multistep process, please document it well!"
      ]
    },
    {
      "cell_type": "code",
      "execution_count": null,
      "metadata": {
        "colab": {
          "background_save": true
        },
        "id": "gEDRhLr8PdfO"
      },
      "outputs": [],
      "source": [
        "# Do the hyperparameter search\n",
        "# I set the no of epochs to 6 to speed up the search in this excersise, better would have been 10\n",
        "noepochauto = 6   ## Max number of epochs per trail (but we have early stopping so this max is probably not reached)\n",
        "es = tf.keras.callbacks.EarlyStopping('val_loss', patience=2, restore_best_weights = True)\n",
        "# Note we do not need to_catagorical as we use loss='sparse_categorical_crossentropy'\n",
        "tuner.search(train_images, train_labels, \n",
        "             epochs=noepochauto, \n",
        "             validation_data=(val_images, val_labels), \n",
        "             callbacks=[es])"
      ]
    },
    {
      "cell_type": "code",
      "execution_count": null,
      "metadata": {
        "colab": {
          "base_uri": "https://localhost:8080/"
        },
        "id": "n-VT_1v8PsjH",
        "outputId": "2709648f-5fea-4c97-9481-9ed376fefeaf"
      },
      "outputs": [
        {
          "name": "stdout",
          "output_type": "stream",
          "text": [
            "       conv_1_filter = 160\n",
            "       conv_1_kernel =   3\n",
            "       conv_2_filter =  32\n",
            "       conv_2_kernel =   3\n",
            "       conv_3_filter =  64\n",
            "       conv_3_kernel =   3\n",
            "       conv_4_filter =  32\n",
            "       conv_4_kernel =   3\n",
            "       conv_5_filter = 160\n",
            "       conv_5_kernel =   3\n",
            "       dense_1_units = 256\n",
            "       dropout_rate1 = 0.5\n",
            "       dense_2_units = 192\n",
            "       dropout_rate2 = 0.7\n",
            "       learning_rate = 0.001\n",
            "          batch_size =  32\n",
            "Model: \"sequential\"\n",
            "_________________________________________________________________\n",
            " Layer (type)                Output Shape              Param #   \n",
            "=================================================================\n",
            " conv2d (Conv2D)             (None, 28, 28, 256)       2560      \n",
            "                                                                 \n",
            " max_pooling2d (MaxPooling2D  (None, 14, 14, 256)      0         \n",
            " )                                                               \n",
            "                                                                 \n",
            " conv2d_1 (Conv2D)           (None, 14, 14, 96)        221280    \n",
            "                                                                 \n",
            " conv2d_2 (Conv2D)           (None, 14, 14, 96)        83040     \n",
            "                                                                 \n",
            " max_pooling2d_1 (MaxPooling  (None, 7, 7, 96)         0         \n",
            " 2D)                                                             \n",
            "                                                                 \n",
            " conv2d_3 (Conv2D)           (None, 7, 7, 96)          83040     \n",
            "                                                                 \n",
            " conv2d_4 (Conv2D)           (None, 7, 7, 192)         166080    \n",
            "                                                                 \n",
            " max_pooling2d_2 (MaxPooling  (None, 3, 3, 192)        0         \n",
            " 2D)                                                             \n",
            "                                                                 \n",
            " flatten (Flatten)           (None, 1728)              0         \n",
            "                                                                 \n",
            " dense (Dense)               (None, 256)               442624    \n",
            "                                                                 \n",
            " dropout (Dropout)           (None, 256)               0         \n",
            "                                                                 \n",
            " dense_1 (Dense)             (None, 224)               57568     \n",
            "                                                                 \n",
            " dropout_1 (Dropout)         (None, 224)               0         \n",
            "                                                                 \n",
            " dense_2 (Dense)             (None, 10)                2250      \n",
            "                                                                 \n",
            "=================================================================\n",
            "Total params: 1,058,442\n",
            "Trainable params: 1,058,442\n",
            "Non-trainable params: 0\n",
            "_________________________________________________________________\n"
          ]
        }
      ],
      "source": [
        "# Get the best model so far\n",
        "model = tuner.get_best_models(num_models=1)[0]\n",
        "# Dump the best hyperparameters found\n",
        "vals = tuner.get_best_hyperparameters(num_trials=5)[4].values\n",
        "for keys,values in vals.items():\n",
        "    print('%20s = %3.4g' %(keys,values))\n",
        "    \n",
        "model.summary()"
      ]
    },
    {
      "cell_type": "code",
      "execution_count": null,
      "metadata": {
        "colab": {
          "background_save": true
        },
        "id": "Qoom8_ADRJ87"
      },
      "outputs": [],
      "source": [
        "# Evaluate the model.\n",
        "test_loss, test_acc = model.evaluate(test_images,test_labels)\n",
        "print('Test accuracy: %.3f' % test_acc)"
      ]
    },
    {
      "cell_type": "markdown",
      "metadata": {
        "id": "PxuExn6aP3RB"
      },
      "source": [
        "## Code to explore the n-best models"
      ]
    },
    {
      "cell_type": "code",
      "execution_count": null,
      "metadata": {
        "colab": {
          "background_save": true
        },
        "id": "V98UosuJQB83"
      },
      "outputs": [],
      "source": [
        "# Let us dump the n-best\n",
        "\n",
        "if True:\n",
        "  explorenbest = 5\n",
        "\n",
        "  # Suppress warnings about optimizer state not being restored by tf.keras.\n",
        "  tf.get_logger().setLevel('ERROR')\n",
        "\n",
        "  # Print a heading\n",
        "  vals = tuner.get_best_hyperparameters(num_trials=explorenbest)[0].values\n",
        "  print('Test accuracy ', end = '')\n",
        "  for keys,values in vals.items():\n",
        "      print('%15s ' %(keys), end = '')\n",
        "  print('\\n')\n",
        "\n",
        "  # Now print each trail on a seperate row from best to worst\n",
        "  for ix in range(0,explorenbest): \n",
        "    # evaluate this trail\n",
        "    model = tuner.get_best_models(num_models=explorenbest)[ix]\n",
        "    test_loss, test_acc = model.evaluate(test_images,test_labels, verbose=0)\n",
        "    print('%15.3f ' % test_acc , end = '')\n",
        "    # get this trail's hyperparameters\n",
        "    vals = tuner.get_best_hyperparameters(num_trials=explorenbest)[ix].values\n",
        "    for keys,values in vals.items():\n",
        "      print('%15.4g ' %(values), end = '')\n",
        "    # end this line and start the trail\n",
        "    print()"
      ]
    },
    {
      "cell_type": "markdown",
      "metadata": {
        "id": "FRG79o5edPAi"
      },
      "source": [
        "Notice that the model with the best validation accuracy not necessarily gives the best test accuracy! But we have to live with this as this is the best we can do with the data set aside for training and validation. "
      ]
    },
    {
      "cell_type": "markdown",
      "metadata": {
        "id": "Ix2PgTMaNPaT"
      },
      "source": [
        "# With our found hyperparameters, continue training\n",
        "(We do this especially as we only done 6 epochs during search.)"
      ]
    },
    {
      "cell_type": "code",
      "execution_count": null,
      "metadata": {
        "colab": {
          "base_uri": "https://localhost:8080/"
        },
        "id": "74oCuObpNkPe",
        "outputId": "1b3d8261-a89f-4cf1-ed1d-5b5614318162"
      },
      "outputs": [
        {
          "name": "stdout",
          "output_type": "stream",
          "text": [
            "Epoch 1/30\n",
            "167/167 [==============================] - 19s 109ms/step - loss: 0.2043 - accuracy: 0.9272 - val_loss: 0.2320 - val_accuracy: 0.9148\n",
            "Epoch 2/30\n",
            "167/167 [==============================] - 17s 102ms/step - loss: 0.1855 - accuracy: 0.9322 - val_loss: 0.2187 - val_accuracy: 0.9244\n",
            "Epoch 3/30\n",
            "167/167 [==============================] - 17s 102ms/step - loss: 0.1702 - accuracy: 0.9388 - val_loss: 0.2486 - val_accuracy: 0.9122\n",
            "Epoch 4/30\n",
            "167/167 [==============================] - ETA: 0s - loss: 0.1554 - accuracy: 0.9427Restoring model weights from the end of the best epoch: 2.\n",
            "167/167 [==============================] - 17s 102ms/step - loss: 0.1554 - accuracy: 0.9427 - val_loss: 0.2212 - val_accuracy: 0.9229\n",
            "Epoch 4: early stopping\n"
          ]
        }
      ],
      "source": [
        "# Fine-tune the model using the best parameters found as we might not be fully trained\n",
        "model = tuner.get_best_models(num_models=1)[0]\n",
        "\n",
        "epochs = 30      ## (max) number of epoch to run\n",
        "opt_batch_size = tuner.get_best_hyperparameters()[0]['batch_size']\n",
        "\n",
        "# Set callback functions to early stop training\n",
        "callbacks = [keras.callbacks.EarlyStopping(monitor='val_loss', mode='auto', verbose=1, patience=2, restore_best_weights = True)]\n",
        "\n",
        "# Continue to train the model. (note that we are continuing from the training done during tuning)\n",
        "history = model.fit(\n",
        "  train_images, train_labels,\n",
        "  epochs=epochs,\n",
        "  batch_size=opt_batch_size,\n",
        "  verbose = 1,\n",
        "  validation_data=(val_images, val_labels),\n",
        "  # initial_epoch=noepochauto, ## how to get this number???? from... \"(root).optimizer.iter\" maybe\n",
        "  callbacks=callbacks\n",
        ")"
      ]
    },
    {
      "cell_type": "code",
      "execution_count": null,
      "metadata": {
        "colab": {
          "base_uri": "https://localhost:8080/"
        },
        "id": "bAsos-f4Nye8",
        "outputId": "c6278816-baae-4597-d6bb-df90119d86d4"
      },
      "outputs": [
        {
          "name": "stdout",
          "output_type": "stream",
          "text": [
            "313/313 [==============================] - 4s 13ms/step - loss: 0.2603 - accuracy: 0.9155\n",
            "Test accuracy: 0.915\n"
          ]
        }
      ],
      "source": [
        "# Evaluate the model.\n",
        "test_loss, test_acc = model.evaluate(test_images,test_labels)\n",
        "print('Test accuracy: %.3f' % test_acc)"
      ]
    },
    {
      "cell_type": "code",
      "execution_count": null,
      "metadata": {
        "colab": {
          "base_uri": "https://localhost:8080/"
        },
        "id": "WketomR6iVWk",
        "outputId": "bbff352c-4f89-4a9c-8998-ce4e56904bb2"
      },
      "outputs": [
        {
          "name": "stdout",
          "output_type": "stream",
          "text": [
            "Model: \"sequential\"\n",
            "_________________________________________________________________\n",
            " Layer (type)                Output Shape              Param #   \n",
            "=================================================================\n",
            " conv2d (Conv2D)             (None, 28, 28, 128)       3328      \n",
            "                                                                 \n",
            " max_pooling2d (MaxPooling2D  (None, 14, 14, 128)      0         \n",
            " )                                                               \n",
            "                                                                 \n",
            " conv2d_1 (Conv2D)           (None, 14, 14, 96)        307296    \n",
            "                                                                 \n",
            " conv2d_2 (Conv2D)           (None, 14, 14, 192)       460992    \n",
            "                                                                 \n",
            " max_pooling2d_1 (MaxPooling  (None, 7, 7, 192)        0         \n",
            " 2D)                                                             \n",
            "                                                                 \n",
            " conv2d_3 (Conv2D)           (None, 7, 7, 192)         921792    \n",
            "                                                                 \n",
            " conv2d_4 (Conv2D)           (None, 7, 7, 64)          110656    \n",
            "                                                                 \n",
            " max_pooling2d_2 (MaxPooling  (None, 3, 3, 64)         0         \n",
            " 2D)                                                             \n",
            "                                                                 \n",
            " flatten (Flatten)           (None, 576)               0         \n",
            "                                                                 \n",
            " dense (Dense)               (None, 160)               92320     \n",
            "                                                                 \n",
            " dropout (Dropout)           (None, 160)               0         \n",
            "                                                                 \n",
            " dense_1 (Dense)             (None, 96)                15456     \n",
            "                                                                 \n",
            " dropout_1 (Dropout)         (None, 96)                0         \n",
            "                                                                 \n",
            " dense_2 (Dense)             (None, 10)                970       \n",
            "                                                                 \n",
            "=================================================================\n",
            "Total params: 1,912,810\n",
            "Trainable params: 1,912,810\n",
            "Non-trainable params: 0\n",
            "_________________________________________________________________\n"
          ]
        }
      ],
      "source": [
        "# See what we got and how many parameters are used\n",
        "model.summary()"
      ]
    },
    {
      "cell_type": "markdown",
      "metadata": {
        "id": "qQKU8ZEXQZDV"
      },
      "source": [
        "#Analys\n",
        "Gör en komplett analys av de optimerade modelerna du fått fram mha Keras Tuner. Några frågor man kan ställa sig:\n",
        "* Hur jämför sig dessa värden från de värden då fått fram i del 1 och del 2, jämfört med de som kom fram mha en Bayesiask sökning? \n",
        "* Vilka prestanda fick du för de två fallen? \n",
        "* Finns det parametrar som ligger vid ändvärdena av den använda sökrymden? (i så fall kanske du borde köra om med utökade gränser?)\n",
        "* Vilka hyperparametrar verkade vara mest betydelsfulla? \n",
        "* Kan man se någon trend bland parametrarna (tex antalet faltningskärnor i tidiga respektive sena lager, etc)? \n",
        "* Varför utför man samma experiment flera gångar \"EXECUTION_PER_TRIAL = 2\", dvs varför blir det inte samma resultat varje gång?\n",
        "* Annat som du iaktagit?"
      ]
    },
    {
      "cell_type": "markdown",
      "metadata": {
        "id": "xP38UgVajyTB"
      },
      "source": [
        "keras tuner gav en model med 1912810 parametrar, och nätverkets lager strukturerades enligt följande: \n",
        "\n",
        "       conv_1_filter = 160\n",
        "       conv_1_kernel =   3\n",
        "       conv_2_filter =  32\n",
        "       conv_2_kernel =   3\n",
        "       conv_3_filter =  64\n",
        "       conv_3_kernel =   3\n",
        "       conv_4_filter =  32\n",
        "       conv_4_kernel =   3\n",
        "       conv_5_filter = 160\n",
        "       conv_5_kernel =   3\n",
        "       dense_1_units = 256\n",
        "       dropout_rate1 = 0.5\n",
        "       dense_2_units = 192\n",
        "       dropout_rate2 = 0.7\n",
        "       learning_rate = 0.001\n",
        "          batch_size =  32\n",
        "\n",
        "Där vi ser att dense_1_units och dropout_rate2 båda ligger på den övre gränsen av den använda sökrymden\n",
        "\n",
        "antalet fältningskärnor varierar mellan 32 och 160 mellan de olika lagren, där lager med många kärnor verkar följas av lager med färre kärnor, kernel storleken blev 3x3 på samtliga fältningslager.\n",
        "\n",
        "Denna modellen hade: val_accuracy: 0.9229 och Test accuracy: 0.915\n",
        "vilket var bättre än modellen från upg1 (val_categorical_accuracy: 0.9172, Test accuracy: 0.910) men sämre än den från upg2 (val_categorical_accuracy: 0.9286, Test accuracy: 0.921)\n",
        "\n",
        "Anledningen till att man utför samma experiement flera gånger och att resultatet inte är det samma varje gång är att resultaten som fås kan variera beroende på hur modellen tränas. alltså är det mer robust att köra det flera gånger.     \n",
        "\n"
      ]
    },
    {
      "cell_type": "markdown",
      "metadata": {
        "id": "V67KzZlmckBw"
      },
      "source": [
        "# Uppgifter för väl godkänt"
      ]
    },
    {
      "cell_type": "markdown",
      "metadata": {
        "id": "nDD_rMGXcsyX"
      },
      "source": [
        "Utökning av Del2: Utforska de testfall som missklassificerades för en av dina toppmodeller, vilka typer av plagg verkar vara de som oftast blir fel på, om du tittar på dessa fel förstår du varför nätet har problem med dem?"
      ]
    },
    {
      "cell_type": "code",
      "execution_count": null,
      "metadata": {
        "id": "1K5x5iL39A22"
      },
      "outputs": [],
      "source": [
        "# Din kod som utforskar de testfall som missklassificerades"
      ]
    },
    {
      "cell_type": "markdown",
      "metadata": {
        "id": "81rFfKrm9HaC"
      },
      "source": [
        "Utökning av Del3: Implementera en undersökning där du även varierar antal lager i din modell, du kan ändra både faltningslager och kompakta lager (eng. dense layers) för att se ifall en ännu bättre modell kan hittas."
      ]
    },
    {
      "cell_type": "code",
      "execution_count": null,
      "metadata": {
        "id": "JR43zXtw9VSx"
      },
      "outputs": [],
      "source": [
        "# Din kod för en keras tuner modell som har antalet lager som en hyperparameter"
      ]
    },
    {
      "cell_type": "code",
      "execution_count": null,
      "metadata": {
        "colab": {
          "base_uri": "https://localhost:8080/"
        },
        "id": "Eilf6C_E7Mcd",
        "outputId": "b6df950a-864d-4958-ac67-753bedcbbcc6"
      },
      "outputs": [
        {
          "name": "stdout",
          "output_type": "stream",
          "text": [
            "Input shape (28, 28, 1)\n",
            "Model: \"sequential_4\"\n",
            "_________________________________________________________________\n",
            " Layer (type)                Output Shape              Param #   \n",
            "=================================================================\n",
            " conv2d_12 (Conv2D)          (None, 28, 28, 120)       3120      \n",
            "                                                                 \n",
            " max_pooling2d_8 (MaxPooling  (None, 14, 14, 120)      0         \n",
            " 2D)                                                             \n",
            "                                                                 \n",
            " conv2d_13 (Conv2D)          (None, 14, 14, 120)       360120    \n",
            "                                                                 \n",
            " max_pooling2d_9 (MaxPooling  (None, 7, 7, 120)        0         \n",
            " 2D)                                                             \n",
            "                                                                 \n",
            " conv2d_14 (Conv2D)          (None, 7, 7, 120)         129720    \n",
            "                                                                 \n",
            " flatten_4 (Flatten)         (None, 5880)              0         \n",
            "                                                                 \n",
            " dense_8 (Dense)             (None, 100)               588100    \n",
            "                                                                 \n",
            " dense_9 (Dense)             (None, 10)                1010      \n",
            "                                                                 \n",
            "=================================================================\n",
            "Total params: 1,082,070\n",
            "Trainable params: 1,082,070\n",
            "Non-trainable params: 0\n",
            "_________________________________________________________________\n"
          ]
        }
      ],
      "source": [
        "#Test1 avbruten träning\n",
        "# We need to give the input shape (i.e. our image shape) to our model\n",
        "input_shape = test_images[0].shape\n",
        "print(\"Input shape\", input_shape)\n",
        "\n",
        "# The Keras model will be the simples Keras model for NN networks. \n",
        "# It is a single stack of layers connected sequentially.\n",
        "model = Sequential([\n",
        "\n",
        "# Add a convolution layer\n",
        "Conv2D(filters=120, kernel_size=(5, 5), padding='same', activation='relu', input_shape=input_shape),\n",
        "\n",
        "keras.layers.MaxPooling2D(pool_size=(2,2), strides=(2,2)),\n",
        "\n",
        "Conv2D(filters=120, kernel_size=(5, 5), padding='same', activation='relu', input_shape=input_shape),\n",
        "\n",
        "keras.layers.MaxPooling2D(pool_size=(2,2), strides=(2,2)),\n",
        "\n",
        "Conv2D(filters=120, kernel_size=(3, 3), padding='same', activation='relu', input_shape=input_shape),\n",
        "\n",
        "# Flatten the input. This prepares the vector for fully connected layers.\n",
        "Flatten(),\n",
        "\n",
        "# Add a hidden Dense layer\n",
        "Dense(units=100, activation='relu'),\n",
        "\n",
        "\n",
        "# Add a an output layer. The output space is the number of classes\n",
        "#    Softmax makes the output as probablity vector of the different classes\n",
        "Dense(units=num_classes, activation='softmax')\n",
        "\n",
        "])\n",
        "\n",
        "model.summary()\n"
      ]
    }
  ],
  "metadata": {
    "accelerator": "GPU",
    "colab": {
      "collapsed_sections": [
        "r-tp9iDDCpsz",
        "AhWTXQfXBiN6",
        "H7CFf7AO4ysm",
        "7opTLcKc73By",
        "q56fJLY89amp",
        "9weV4eGc9tp4",
        "wP2vOP0rhmMr",
        "rFikxPfDkncU",
        "w-aaV1UJm3Lc",
        "8S-hCEHIrls3",
        "q2avMgKGtfX7",
        "nYFdSa2BzxEQ",
        "KIu0JwuCZIE4",
        "Jo8xQsTIapJV",
        "aT7ivdg94LK0",
        "tTJhKKYOhH76",
        "G3HGW3EThMiA",
        "xoYoC9KYTLtT",
        "H-7dDWzwGH9c",
        "V67KzZlmckBw"
      ],
      "provenance": [],
      "toc_visible": true,
      "include_colab_link": true
    },
    "kernelspec": {
      "display_name": "Python 3",
      "name": "python3"
    }
  },
  "nbformat": 4,
  "nbformat_minor": 0
}