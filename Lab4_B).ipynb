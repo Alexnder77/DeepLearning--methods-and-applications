{
  "nbformat": 4,
  "nbformat_minor": 0,
  "metadata": {
    "colab": {
      "provenance": [],
      "collapsed_sections": [
        "SShAwuc1BtHg",
        "yJ5DB55hBipx",
        "TBVJ3hdDIQyd"
      ],
      "toc_visible": true,
      "include_colab_link": true
    },
    "kernelspec": {
      "name": "python3",
      "display_name": "Python 3"
    },
    "accelerator": "GPU"
  },
  "cells": [
    {
      "cell_type": "markdown",
      "metadata": {
        "id": "view-in-github",
        "colab_type": "text"
      },
      "source": [
        "<a href=\"https://colab.research.google.com/github/Alexnder77/DeepLearning--methods-and-applications/blob/main/Lab4_B).ipynb\" target=\"_parent\"><img src=\"https://colab.research.google.com/assets/colab-badge.svg\" alt=\"Open In Colab\"/></a>"
      ]
    },
    {
      "cell_type": "markdown",
      "metadata": {
        "id": "93nOAMLOe6_d"
      },
      "source": [
        "# Laboration tal- och textigenkänning\n",
        "# upg B)\n"
      ]
    },
    {
      "cell_type": "code",
      "execution_count": null,
      "metadata": {
        "id": "_8sXTMR4gfWY",
        "outputId": "2300df6e-300d-47fd-e74d-2f47b2fb5e7e",
        "colab": {
          "base_uri": "https://localhost:8080/",
          "height": 35
        }
      },
      "outputs": [
        {
          "output_type": "execute_result",
          "data": {
            "text/plain": [
              "'2.8.0'"
            ],
            "application/vnd.google.colaboratory.intrinsic+json": {
              "type": "string"
            }
          },
          "metadata": {},
          "execution_count": 1
        }
      ],
      "source": [
        "import keras\n",
        "keras.__version__"
      ]
    },
    {
      "cell_type": "markdown",
      "metadata": {
        "id": "whZf0IsjgfWa"
      },
      "source": [
        "# Understanding recurrent neural networks\n",
        "\n",
        "This notebook contains the code samples found in Chapter 6, Section 2 of [Deep Learning with Python](https://www.manning.com/books/deep-learning-with-python?a_aid=keras&a_bid=76564dff). Note that the original text features far more content, in particular further explanations and figures: in this notebook, you will only find source code and related comments.\n",
        "\n",
        "---\n",
        "\n",
        "[...]\n",
        "\n",
        "## A first recurrent layer in Keras\n",
        "\n",
        "The process we just naively implemented in Numpy corresponds to an actual Keras layer: the `SimpleRNN` layer:\n"
      ]
    },
    {
      "cell_type": "code",
      "execution_count": null,
      "metadata": {
        "collapsed": true,
        "id": "TwA9r_dBgfWc"
      },
      "outputs": [],
      "source": [
        "from keras.layers import SimpleRNN"
      ]
    },
    {
      "cell_type": "markdown",
      "metadata": {
        "id": "iKwQ1bI3gfWe"
      },
      "source": [
        "There is just one minor difference: `SimpleRNN` processes batches of sequences, like all other Keras layers, not just a single sequence like \n",
        "in our Numpy example. This means that it takes inputs of shape `(batch_size, timesteps, input_features)`, rather than `(timesteps, \n",
        "input_features)`.\n",
        "\n",
        "Like all recurrent layers in Keras, `SimpleRNN` can be run in two different modes: it can return either the full sequences of successive \n",
        "outputs for each timestep (a 3D tensor of shape `(batch_size, timesteps, output_features)`), or it can return only the last output for each \n",
        "input sequence (a 2D tensor of shape `(batch_size, output_features)`). These two modes are controlled by the `return_sequences` constructor \n",
        "argument. Let's take a look at an example:"
      ]
    },
    {
      "cell_type": "code",
      "execution_count": null,
      "metadata": {
        "id": "XR5qpxLngfWf",
        "outputId": "d5f2d815-a9a6-471b-c1d0-41e6788eee1d",
        "colab": {
          "base_uri": "https://localhost:8080/"
        }
      },
      "outputs": [
        {
          "output_type": "stream",
          "name": "stdout",
          "text": [
            "Model: \"sequential\"\n",
            "_________________________________________________________________\n",
            " Layer (type)                Output Shape              Param #   \n",
            "=================================================================\n",
            " embedding (Embedding)       (None, None, 32)          320000    \n",
            "                                                                 \n",
            " simple_rnn (SimpleRNN)      (None, 32)                2080      \n",
            "                                                                 \n",
            "=================================================================\n",
            "Total params: 322,080\n",
            "Trainable params: 322,080\n",
            "Non-trainable params: 0\n",
            "_________________________________________________________________\n"
          ]
        }
      ],
      "source": [
        "from keras.models import Sequential\n",
        "from keras.layers import Embedding, SimpleRNN\n",
        "\n",
        "model = Sequential()\n",
        "model.add(Embedding(10000, 32))\n",
        "model.add(SimpleRNN(32))\n",
        "model.summary()"
      ]
    },
    {
      "cell_type": "code",
      "execution_count": null,
      "metadata": {
        "id": "-fOBfjELgfWh",
        "outputId": "b26a3e73-7d36-4de3-e4cc-8c5aa26ced3a",
        "colab": {
          "base_uri": "https://localhost:8080/"
        }
      },
      "outputs": [
        {
          "output_type": "stream",
          "name": "stdout",
          "text": [
            "Model: \"sequential_1\"\n",
            "_________________________________________________________________\n",
            " Layer (type)                Output Shape              Param #   \n",
            "=================================================================\n",
            " embedding_1 (Embedding)     (None, None, 32)          320000    \n",
            "                                                                 \n",
            " simple_rnn_1 (SimpleRNN)    (None, None, 32)          2080      \n",
            "                                                                 \n",
            "=================================================================\n",
            "Total params: 322,080\n",
            "Trainable params: 322,080\n",
            "Non-trainable params: 0\n",
            "_________________________________________________________________\n"
          ]
        }
      ],
      "source": [
        "model = Sequential()\n",
        "model.add(Embedding(10000, 32))\n",
        "model.add(SimpleRNN(32, return_sequences=True))\n",
        "model.summary()"
      ]
    },
    {
      "cell_type": "markdown",
      "metadata": {
        "id": "ogirGPmkgfWj"
      },
      "source": [
        "It is sometimes useful to stack several recurrent layers one after the other in order to increase the representational power of a network. \n",
        "In such a setup, you have to get all intermediate layers to return full sequences:"
      ]
    },
    {
      "cell_type": "code",
      "execution_count": null,
      "metadata": {
        "id": "Sq4kmsThgfWk",
        "outputId": "44c1d91a-b041-4b98-dda7-5d44ba2f4c2b",
        "colab": {
          "base_uri": "https://localhost:8080/"
        }
      },
      "outputs": [
        {
          "output_type": "stream",
          "name": "stdout",
          "text": [
            "Model: \"sequential_2\"\n",
            "_________________________________________________________________\n",
            " Layer (type)                Output Shape              Param #   \n",
            "=================================================================\n",
            " embedding_2 (Embedding)     (None, None, 32)          320000    \n",
            "                                                                 \n",
            " simple_rnn_2 (SimpleRNN)    (None, None, 32)          2080      \n",
            "                                                                 \n",
            " simple_rnn_3 (SimpleRNN)    (None, None, 32)          2080      \n",
            "                                                                 \n",
            " simple_rnn_4 (SimpleRNN)    (None, None, 32)          2080      \n",
            "                                                                 \n",
            " simple_rnn_5 (SimpleRNN)    (None, 32)                2080      \n",
            "                                                                 \n",
            "=================================================================\n",
            "Total params: 328,320\n",
            "Trainable params: 328,320\n",
            "Non-trainable params: 0\n",
            "_________________________________________________________________\n"
          ]
        }
      ],
      "source": [
        "model = Sequential()\n",
        "model.add(Embedding(10000, 32))\n",
        "model.add(SimpleRNN(32, return_sequences=True))\n",
        "model.add(SimpleRNN(32, return_sequences=True))\n",
        "model.add(SimpleRNN(32, return_sequences=True))\n",
        "model.add(SimpleRNN(32))  # This last layer only returns the last outputs.\n",
        "model.summary()"
      ]
    },
    {
      "cell_type": "markdown",
      "metadata": {
        "id": "q8oen9ixgfWl"
      },
      "source": [
        "Now let's try to use such a model on the IMDB movie review classification problem. First, let's preprocess the data:"
      ]
    },
    {
      "cell_type": "code",
      "execution_count": null,
      "metadata": {
        "id": "57BM-qIkgfWn",
        "outputId": "7358b33d-4633-4f15-e93d-cf7890580e79",
        "colab": {
          "base_uri": "https://localhost:8080/"
        }
      },
      "outputs": [
        {
          "output_type": "stream",
          "name": "stdout",
          "text": [
            "Loading data...\n",
            "Downloading data from https://storage.googleapis.com/tensorflow/tf-keras-datasets/imdb.npz\n",
            "17465344/17464789 [==============================] - 0s 0us/step\n",
            "17473536/17464789 [==============================] - 0s 0us/step\n",
            "25000 train sequences\n",
            "25000 test sequences\n",
            "Pad sequences (samples x time)\n",
            "input_train shape: (25000, 500)\n",
            "input_test shape: (25000, 500)\n"
          ]
        }
      ],
      "source": [
        "from keras.datasets import imdb\n",
        "from keras.preprocessing import sequence\n",
        "\n",
        "max_features = 10000  # number of words to consider as features\n",
        "maxlen = 500  # cut texts after this number of words (among top max_features most common words)\n",
        "batch_size = 32\n",
        "\n",
        "print('Loading data...')\n",
        "(input_train, y_train), (input_test, y_test) = imdb.load_data(num_words=max_features)\n",
        "print(len(input_train), 'train sequences')\n",
        "print(len(input_test), 'test sequences')\n",
        "\n",
        "print('Pad sequences (samples x time)')\n",
        "input_train = sequence.pad_sequences(input_train, maxlen=maxlen)\n",
        "input_test = sequence.pad_sequences(input_test, maxlen=maxlen)\n",
        "print('input_train shape:', input_train.shape)\n",
        "print('input_test shape:', input_test.shape)"
      ]
    },
    {
      "cell_type": "markdown",
      "metadata": {
        "id": "ZMtfxPI7gfWo"
      },
      "source": [
        "Let's train a simple recurrent network using an `Embedding` layer and a `SimpleRNN` layer:"
      ]
    },
    {
      "cell_type": "code",
      "execution_count": null,
      "metadata": {
        "id": "eEgAxge4gfWp",
        "outputId": "6aa581be-e855-43b6-c4ed-bbd4b0f9a511",
        "colab": {
          "base_uri": "https://localhost:8080/"
        }
      },
      "outputs": [
        {
          "output_type": "stream",
          "name": "stdout",
          "text": [
            "Epoch 1/10\n",
            "157/157 [==============================] - 110s 689ms/step - loss: 0.6728 - acc: 0.5717 - val_loss: 0.5543 - val_acc: 0.7660\n",
            "Epoch 2/10\n",
            "157/157 [==============================] - 103s 659ms/step - loss: 0.4500 - acc: 0.8073 - val_loss: 0.5847 - val_acc: 0.7160\n",
            "Epoch 3/10\n",
            "157/157 [==============================] - 103s 654ms/step - loss: 0.3089 - acc: 0.8748 - val_loss: 0.4005 - val_acc: 0.8178\n",
            "Epoch 4/10\n",
            "157/157 [==============================] - 103s 659ms/step - loss: 0.2332 - acc: 0.9086 - val_loss: 0.3846 - val_acc: 0.8312\n",
            "Epoch 5/10\n",
            "157/157 [==============================] - 105s 667ms/step - loss: 0.1727 - acc: 0.9376 - val_loss: 0.4329 - val_acc: 0.8150\n",
            "Epoch 6/10\n",
            "157/157 [==============================] - 103s 656ms/step - loss: 0.1289 - acc: 0.9538 - val_loss: 0.4836 - val_acc: 0.8134\n",
            "Epoch 7/10\n",
            "157/157 [==============================] - 103s 656ms/step - loss: 0.0899 - acc: 0.9684 - val_loss: 0.5925 - val_acc: 0.7926\n",
            "Epoch 8/10\n",
            "157/157 [==============================] - 103s 659ms/step - loss: 0.0613 - acc: 0.9799 - val_loss: 0.6086 - val_acc: 0.7826\n",
            "Epoch 9/10\n",
            "157/157 [==============================] - 106s 674ms/step - loss: 0.0365 - acc: 0.9895 - val_loss: 0.6933 - val_acc: 0.7710\n",
            "Epoch 10/10\n",
            "157/157 [==============================] - 105s 670ms/step - loss: 0.0245 - acc: 0.9926 - val_loss: 0.6258 - val_acc: 0.8124\n"
          ]
        }
      ],
      "source": [
        "from keras.layers import Dense\n",
        "\n",
        "model = Sequential()\n",
        "model.add(Embedding(max_features, 32))\n",
        "model.add(SimpleRNN(32))\n",
        "model.add(Dense(1, activation='sigmoid'))\n",
        "\n",
        "model.compile(optimizer='rmsprop', loss='binary_crossentropy', metrics=['acc'])\n",
        "history = model.fit(input_train, y_train,\n",
        "                    epochs=10,\n",
        "                    batch_size=128,\n",
        "                    validation_split=0.2)"
      ]
    },
    {
      "cell_type": "markdown",
      "metadata": {
        "id": "bScppjWwgfWp"
      },
      "source": [
        "Let's display the training and validation loss and accuracy:"
      ]
    },
    {
      "cell_type": "code",
      "execution_count": null,
      "metadata": {
        "id": "2HnhYw3HgfWq",
        "outputId": "cd91f552-8cad-4e87-e5a6-dc20dc9c9baa",
        "colab": {
          "base_uri": "https://localhost:8080/",
          "height": 545
        }
      },
      "outputs": [
        {
          "output_type": "display_data",
          "data": {
            "text/plain": [
              "<Figure size 432x288 with 1 Axes>"
            ],
            "image/png": "[encoded data removed]"
          },
          "metadata": {
            "needs_background": "light"
          }
        },
        {
          "output_type": "display_data",
          "data": {
            "text/plain": [
              "<Figure size 432x288 with 1 Axes>"
            ],
            "image/png": "[encoded data removed]"
          },
          "metadata": {
            "needs_background": "light"
          }
        }
      ],
      "source": [
        "import matplotlib.pyplot as plt\n",
        "\n",
        "acc = history.history['acc']\n",
        "val_acc = history.history['val_acc']\n",
        "loss = history.history['loss']\n",
        "val_loss = history.history['val_loss']\n",
        "\n",
        "epochs = range(len(acc))\n",
        "\n",
        "plt.plot(epochs, acc, 'bo', label='Training acc')\n",
        "plt.plot(epochs, val_acc, 'b', label='Validation acc')\n",
        "plt.title('Training and validation accuracy')\n",
        "plt.legend()\n",
        "\n",
        "plt.figure()\n",
        "\n",
        "plt.plot(epochs, loss, 'bo', label='Training loss')\n",
        "plt.plot(epochs, val_loss, 'b', label='Validation loss')\n",
        "plt.title('Training and validation loss')\n",
        "plt.legend()\n",
        "\n",
        "plt.show()"
      ]
    },
    {
      "cell_type": "code",
      "source": [
        "# Evaluate the model.\n",
        "test_loss, test_acc = model.evaluate(input_test,y_test)\n",
        "print('Test accuracy: %.3f' % test_acc)"
      ],
      "metadata": {
        "colab": {
          "base_uri": "https://localhost:8080/"
        },
        "id": "4kI4Qn_g-lex",
        "outputId": "e5de2635-4349-421a-d987-596c40d5d028"
      },
      "execution_count": null,
      "outputs": [
        {
          "output_type": "stream",
          "name": "stdout",
          "text": [
            "782/782 [==============================] - 44s 56ms/step - loss: 0.6463 - acc: 0.8117\n",
            "Test accuracy: 0.812\n"
          ]
        }
      ]
    },
    {
      "cell_type": "markdown",
      "metadata": {
        "id": "eO7w8jBDgfWq"
      },
      "source": [
        "As a reminder, in chapter 3, our very first naive approach to this very dataset got us to 88% test accuracy. Unfortunately, our small \n",
        "recurrent network doesn't perform very well at all compared to this baseline (only up to 85% validation accuracy). Part of the problem is \n",
        "that our inputs only consider the first 500 words rather the full sequences -- \n",
        "hence our RNN has access to less information than our earlier baseline model. The remainder of the problem is simply that `SimpleRNN` isn't very good at processing long sequences, like text. Other types of recurrent layers perform much better. Let's take a look at some \n",
        "more advanced layers."
      ]
    },
    {
      "cell_type": "markdown",
      "metadata": {
        "id": "9nW-4sPdgfWr"
      },
      "source": [
        "[...]\n",
        "\n",
        "## A concrete LSTM example in Keras\n",
        "\n",
        "Now let's switch to more practical concerns: we will set up a model using a LSTM layer and train it on the IMDB data. Here's the network, \n",
        "similar to the one with `SimpleRNN` that we just presented. We only specify the output dimensionality of the LSTM layer, and leave every \n",
        "other argument (there are lots) to the Keras defaults. Keras has good defaults, and things will almost always \"just work\" without you \n",
        "having to spend time tuning parameters by hand."
      ]
    },
    {
      "cell_type": "code",
      "execution_count": null,
      "metadata": {
        "id": "K2tqSCPHgfWr",
        "outputId": "528d6776-d70a-4739-fd51-0ec4f319dadb",
        "colab": {
          "base_uri": "https://localhost:8080/"
        }
      },
      "outputs": [
        {
          "output_type": "stream",
          "name": "stdout",
          "text": [
            "Epoch 1/10\n",
            "157/157 [==============================] - 16s 90ms/step - loss: 0.4881 - acc: 0.7707 - val_loss: 0.3808 - val_acc: 0.8484\n",
            "Epoch 2/10\n",
            "157/157 [==============================] - 14s 86ms/step - loss: 0.2824 - acc: 0.8909 - val_loss: 0.3444 - val_acc: 0.8502\n",
            "Epoch 3/10\n",
            "157/157 [==============================] - 14s 86ms/step - loss: 0.2338 - acc: 0.9117 - val_loss: 0.3647 - val_acc: 0.8460\n",
            "Epoch 4/10\n",
            "157/157 [==============================] - 13s 86ms/step - loss: 0.1969 - acc: 0.9269 - val_loss: 0.3992 - val_acc: 0.8458\n",
            "Epoch 5/10\n",
            "157/157 [==============================] - 14s 86ms/step - loss: 0.1741 - acc: 0.9367 - val_loss: 0.4648 - val_acc: 0.8502\n",
            "Epoch 6/10\n",
            "157/157 [==============================] - 14s 86ms/step - loss: 0.1556 - acc: 0.9470 - val_loss: 0.3244 - val_acc: 0.8544\n",
            "Epoch 7/10\n",
            "157/157 [==============================] - 13s 86ms/step - loss: 0.1393 - acc: 0.9510 - val_loss: 0.3451 - val_acc: 0.8682\n",
            "Epoch 8/10\n",
            "157/157 [==============================] - 14s 87ms/step - loss: 0.1334 - acc: 0.9510 - val_loss: 0.3327 - val_acc: 0.8914\n",
            "Epoch 9/10\n",
            "157/157 [==============================] - 14s 86ms/step - loss: 0.1183 - acc: 0.9588 - val_loss: 0.3305 - val_acc: 0.8782\n",
            "Epoch 10/10\n",
            "157/157 [==============================] - 14s 86ms/step - loss: 0.1124 - acc: 0.9599 - val_loss: 0.4740 - val_acc: 0.8588\n"
          ]
        }
      ],
      "source": [
        "from keras.layers import LSTM\n",
        "\n",
        "model = Sequential()\n",
        "model.add(Embedding(max_features, 32))\n",
        "model.add(LSTM(32))\n",
        "model.add(Dense(1, activation='sigmoid'))\n",
        "\n",
        "model.compile(optimizer='rmsprop',\n",
        "              loss='binary_crossentropy',\n",
        "              metrics=['acc'])\n",
        "history = model.fit(input_train, y_train,\n",
        "                    epochs=10,\n",
        "                    batch_size=128,\n",
        "                    validation_split=0.2)"
      ]
    },
    {
      "cell_type": "code",
      "execution_count": null,
      "metadata": {
        "id": "v1fCBIOOgfWs",
        "outputId": "39b5bb56-586a-4837-8ee9-8899de818b66",
        "colab": {
          "base_uri": "https://localhost:8080/",
          "height": 545
        }
      },
      "outputs": [
        {
          "output_type": "display_data",
          "data": {
            "text/plain": [
              "<Figure size 432x288 with 1 Axes>"
            ],
            "image/png": "[encoded data removed]"
          },
          "metadata": {
            "needs_background": "light"
          }
        },
        {
          "output_type": "display_data",
          "data": {
            "text/plain": [
              "<Figure size 432x288 with 1 Axes>"
            ],
            "image/png": "[encoded data removed]"
          },
          "metadata": {
            "needs_background": "light"
          }
        }
      ],
      "source": [
        "acc = history.history['acc']\n",
        "val_acc = history.history['val_acc']\n",
        "loss = history.history['loss']\n",
        "val_loss = history.history['val_loss']\n",
        "\n",
        "epochs = range(len(acc))\n",
        "\n",
        "plt.plot(epochs, acc, 'bo', label='Training acc')\n",
        "plt.plot(epochs, val_acc, 'b', label='Validation acc')\n",
        "plt.title('Training and validation accuracy')\n",
        "plt.legend()\n",
        "\n",
        "plt.figure()\n",
        "\n",
        "plt.plot(epochs, loss, 'bo', label='Training loss')\n",
        "plt.plot(epochs, val_loss, 'b', label='Validation loss')\n",
        "plt.title('Training and validation loss')\n",
        "plt.legend()\n",
        "\n",
        "plt.show()"
      ]
    },
    {
      "cell_type": "code",
      "source": [
        "# Evaluate the model.\n",
        "test_loss, test_acc = model.evaluate(input_test,y_test)\n",
        "print('Test accuracy: %.3f' % test_acc)"
      ],
      "metadata": {
        "colab": {
          "base_uri": "https://localhost:8080/"
        },
        "id": "XKwH7QX8-RUz",
        "outputId": "23321c8e-af7d-4b5a-eca2-e5b9c1008e38"
      },
      "execution_count": null,
      "outputs": [
        {
          "output_type": "stream",
          "name": "stdout",
          "text": [
            "782/782 [==============================] - 23s 30ms/step - loss: 0.5678 - acc: 0.8324\n",
            "Test accuracy: 0.832\n"
          ]
        }
      ]
    },
    {
      "cell_type": "markdown",
      "source": [
        "#en egen större LSTM (LSTM(128))"
      ],
      "metadata": {
        "id": "7yHKcGiTvMGt"
      }
    },
    {
      "cell_type": "code",
      "source": [
        "from keras.layers import LSTM\n",
        "\n",
        "model128 = Sequential()\n",
        "model128.add(Embedding(max_features, 32))\n",
        "model128.add(LSTM(128))\n",
        "model128.add(Dense(1, activation='sigmoid'))\n",
        "\n",
        "model128.compile(optimizer='rmsprop',\n",
        "              loss='binary_crossentropy',\n",
        "              metrics=['acc'])\n",
        "history = model128.fit(input_train, y_train,\n",
        "                    epochs=10,\n",
        "                    batch_size=128,\n",
        "                    validation_split=0.2)"
      ],
      "metadata": {
        "colab": {
          "base_uri": "https://localhost:8080/"
        },
        "id": "1jwAdA85vmWe",
        "outputId": "f75d4f0c-c34d-4958-e77b-b6bf9c1266d3"
      },
      "execution_count": null,
      "outputs": [
        {
          "output_type": "stream",
          "name": "stdout",
          "text": [
            "Epoch 1/10\n",
            "157/157 [==============================] - 29s 161ms/step - loss: 0.6303 - acc: 0.6748 - val_loss: 0.4985 - val_acc: 0.7536\n",
            "Epoch 2/10\n",
            "157/157 [==============================] - 25s 156ms/step - loss: 0.3768 - acc: 0.8405 - val_loss: 0.3334 - val_acc: 0.8604\n",
            "Epoch 3/10\n",
            "157/157 [==============================] - 25s 158ms/step - loss: 0.3128 - acc: 0.8767 - val_loss: 0.3027 - val_acc: 0.8762\n",
            "Epoch 4/10\n",
            "157/157 [==============================] - 25s 158ms/step - loss: 0.2401 - acc: 0.9097 - val_loss: 0.5357 - val_acc: 0.8128\n",
            "Epoch 5/10\n",
            "157/157 [==============================] - 25s 156ms/step - loss: 0.2171 - acc: 0.9202 - val_loss: 0.3881 - val_acc: 0.8280\n",
            "Epoch 6/10\n",
            "157/157 [==============================] - 25s 157ms/step - loss: 0.1894 - acc: 0.9316 - val_loss: 0.4187 - val_acc: 0.8620\n",
            "Epoch 7/10\n",
            "157/157 [==============================] - 25s 157ms/step - loss: 0.1720 - acc: 0.9376 - val_loss: 0.3077 - val_acc: 0.8820\n",
            "Epoch 8/10\n",
            "157/157 [==============================] - 25s 158ms/step - loss: 0.1579 - acc: 0.9424 - val_loss: 0.3258 - val_acc: 0.8858\n",
            "Epoch 9/10\n",
            "157/157 [==============================] - 25s 157ms/step - loss: 0.1437 - acc: 0.9495 - val_loss: 0.3210 - val_acc: 0.8740\n",
            "Epoch 10/10\n",
            "157/157 [==============================] - 25s 157ms/step - loss: 0.1326 - acc: 0.9531 - val_loss: 0.3997 - val_acc: 0.8820\n"
          ]
        }
      ]
    },
    {
      "cell_type": "code",
      "source": [
        "acc = history.history['acc']\n",
        "val_acc = history.history['val_acc']\n",
        "loss = history.history['loss']\n",
        "val_loss = history.history['val_loss']\n",
        "\n",
        "epochs = range(len(acc))\n",
        "\n",
        "plt.plot(epochs, acc, 'bo', label='Training acc')\n",
        "plt.plot(epochs, val_acc, 'b', label='Validation acc')\n",
        "plt.title('Training and validation accuracy')\n",
        "plt.legend()\n",
        "\n",
        "plt.figure()\n",
        "\n",
        "plt.plot(epochs, loss, 'bo', label='Training loss')\n",
        "plt.plot(epochs, val_loss, 'b', label='Validation loss')\n",
        "plt.title('Training and validation loss')\n",
        "plt.legend()\n",
        "\n",
        "plt.show()"
      ],
      "metadata": {
        "colab": {
          "base_uri": "https://localhost:8080/",
          "height": 545
        },
        "id": "hdyAug6FxiVy",
        "outputId": "b29250dd-5542-4519-d621-a4fab7915b0b"
      },
      "execution_count": null,
      "outputs": [
        {
          "output_type": "display_data",
          "data": {
            "text/plain": [
              "<Figure size 432x288 with 1 Axes>"
            ],
            "image/png": "[encoded data removed]"
          },
          "metadata": {
            "needs_background": "light"
          }
        },
        {
          "output_type": "display_data",
          "data": {
            "text/plain": [
              "<Figure size 432x288 with 1 Axes>"
            ],
            "image/png": "[encoded data removed]"
          },
          "metadata": {
            "needs_background": "light"
          }
        }
      ]
    },
    {
      "cell_type": "code",
      "source": [
        "# Evaluate the model.\n",
        "test_loss, test_acc = model128.evaluate(input_test,y_test)\n",
        "print('Test accuracy: %.3f' % test_acc)"
      ],
      "metadata": {
        "colab": {
          "base_uri": "https://localhost:8080/"
        },
        "id": "BNWlNfFk9ZFY",
        "outputId": "321e367b-3569-4eaf-e6e5-ba0c20e747ac"
      },
      "execution_count": null,
      "outputs": [
        {
          "output_type": "stream",
          "name": "stdout",
          "text": [
            "782/782 [==============================] - 29s 37ms/step - loss: 0.4635 - acc: 0.8624\n",
            "Test accuracy: 0.862\n"
          ]
        }
      ]
    },
    {
      "cell_type": "markdown",
      "source": [
        "##BiLSTM(32)"
      ],
      "metadata": {
        "id": "EPKfa1Z-ws3I"
      }
    },
    {
      "cell_type": "code",
      "source": [
        "from keras.layers import LSTM, Bidirectional\n",
        "\n",
        "model = Sequential()\n",
        "model.add(Embedding(max_features, 32))\n",
        "#model.add(LSTM(32))\n",
        "model.add(Bidirectional(LSTM(32)))\n",
        "model.add(Dense(1, activation='sigmoid'))\n",
        "\n",
        "model.compile(optimizer='rmsprop',\n",
        "              loss='binary_crossentropy',\n",
        "              metrics=['acc'])\n",
        "history = model.fit(input_train, y_train,\n",
        "                    epochs=10,\n",
        "                    batch_size=128,\n",
        "                    validation_split=0.2)"
      ],
      "metadata": {
        "colab": {
          "base_uri": "https://localhost:8080/"
        },
        "id": "5Iwdxmi-wryf",
        "outputId": "02e36a80-9620-42d5-bee2-cb6a22653def"
      },
      "execution_count": null,
      "outputs": [
        {
          "output_type": "stream",
          "name": "stdout",
          "text": [
            "Epoch 1/10\n",
            "157/157 [==============================] - 36s 189ms/step - loss: 0.5372 - acc: 0.7365 - val_loss: 0.3699 - val_acc: 0.8548\n",
            "Epoch 2/10\n",
            "157/157 [==============================] - 29s 184ms/step - loss: 0.3036 - acc: 0.8796 - val_loss: 0.2938 - val_acc: 0.8822\n",
            "Epoch 3/10\n",
            "157/157 [==============================] - 29s 184ms/step - loss: 0.2386 - acc: 0.9119 - val_loss: 0.8883 - val_acc: 0.7520\n",
            "Epoch 4/10\n",
            "157/157 [==============================] - 29s 184ms/step - loss: 0.2034 - acc: 0.9265 - val_loss: 0.4039 - val_acc: 0.8300\n",
            "Epoch 5/10\n",
            "157/157 [==============================] - 29s 183ms/step - loss: 0.1824 - acc: 0.9346 - val_loss: 0.3335 - val_acc: 0.8818\n",
            "Epoch 6/10\n",
            "157/157 [==============================] - 29s 183ms/step - loss: 0.1595 - acc: 0.9423 - val_loss: 0.5525 - val_acc: 0.8370\n",
            "Epoch 7/10\n",
            "157/157 [==============================] - 29s 184ms/step - loss: 0.1432 - acc: 0.9491 - val_loss: 0.3347 - val_acc: 0.8746\n",
            "Epoch 8/10\n",
            "157/157 [==============================] - 29s 185ms/step - loss: 0.1338 - acc: 0.9550 - val_loss: 0.3912 - val_acc: 0.8724\n",
            "Epoch 9/10\n",
            "157/157 [==============================] - 29s 186ms/step - loss: 0.1208 - acc: 0.9578 - val_loss: 0.6920 - val_acc: 0.8182\n",
            "Epoch 10/10\n",
            "157/157 [==============================] - 29s 185ms/step - loss: 0.1136 - acc: 0.9611 - val_loss: 0.6332 - val_acc: 0.8456\n"
          ]
        }
      ]
    },
    {
      "cell_type": "code",
      "source": [
        "acc = history.history['acc']\n",
        "val_acc = history.history['val_acc']\n",
        "loss = history.history['loss']\n",
        "val_loss = history.history['val_loss']\n",
        "\n",
        "epochs = range(len(acc))\n",
        "\n",
        "plt.plot(epochs, acc, 'bo', label='Training acc')\n",
        "plt.plot(epochs, val_acc, 'b', label='Validation acc')\n",
        "plt.title('Training and validation accuracy')\n",
        "plt.legend()\n",
        "\n",
        "plt.figure()\n",
        "\n",
        "plt.plot(epochs, loss, 'bo', label='Training loss')\n",
        "plt.plot(epochs, val_loss, 'b', label='Validation loss')\n",
        "plt.title('Training and validation loss')\n",
        "plt.legend()\n",
        "\n",
        "plt.show()"
      ],
      "metadata": {
        "colab": {
          "base_uri": "https://localhost:8080/",
          "height": 545
        },
        "id": "NvEhHYfnz_yI",
        "outputId": "259c3df0-f551-4088-9ae3-0cb44091383b"
      },
      "execution_count": null,
      "outputs": [
        {
          "output_type": "display_data",
          "data": {
            "text/plain": [
              "<Figure size 432x288 with 1 Axes>"
            ],
            "image/png": "[encoded data removed]"
          },
          "metadata": {
            "needs_background": "light"
          }
        },
        {
          "output_type": "display_data",
          "data": {
            "text/plain": [
              "<Figure size 432x288 with 1 Axes>"
            ],
            "image/png": "[encoded data removed]"
          },
          "metadata": {
            "needs_background": "light"
          }
        }
      ]
    },
    {
      "cell_type": "code",
      "source": [
        "# Evaluate the model.\n",
        "test_loss, test_acc = model.evaluate(input_test,y_test)\n",
        "print('Test accuracy: %.3f' % test_acc)"
      ],
      "metadata": {
        "colab": {
          "base_uri": "https://localhost:8080/"
        },
        "id": "77fNGX1S7Eqz",
        "outputId": "6c7ff77d-ef6e-4da7-a7c6-9a5b4d4a6eaa"
      },
      "execution_count": null,
      "outputs": [
        {
          "output_type": "stream",
          "name": "stdout",
          "text": [
            "782/782 [==============================] - 51s 65ms/step - loss: 0.7604 - acc: 0.8140\n",
            "Test accuracy: 0.814\n"
          ]
        }
      ]
    },
    {
      "cell_type": "markdown",
      "source": [
        "##Analys\n",
        "\n",
        "simpleRNN - test accuracy: 0.812\n",
        "\n",
        "LSTM(32) - test accuracy: 0.832\n",
        "\n",
        "LSTM(128) - test accuracy: 0.862\n",
        "\n",
        "BiLSTM(32) - test accuracy: 0.814 \n",
        "\n",
        "Modellen som gav bäst test accuracy var alltså LSTM(128), så det är den modellen jag valde att fortsätta med. \n"
      ],
      "metadata": {
        "id": "pAb76DAVGPjg"
      }
    },
    {
      "cell_type": "markdown",
      "source": [
        "##fortsätter träningen av LSTM(128)"
      ],
      "metadata": {
        "id": "syGddlf4HkAW"
      }
    },
    {
      "cell_type": "code",
      "source": [
        "from keras.layers import LSTM\n",
        "from keras.layers import Dense\n",
        "import tensorflow as tf\n",
        "\n",
        "model128 = Sequential()\n",
        "model128.add(Embedding(max_features, 32))\n",
        "model128.add(LSTM(128))\n",
        "model128.add(Dense(1, activation='sigmoid'))\n",
        "\n",
        "model128.compile(optimizer='rmsprop',\n",
        "              loss='binary_crossentropy',\n",
        "              metrics=['acc'])\n",
        "\n",
        "#early stop\n",
        "es = tf.keras.callbacks.EarlyStopping('val_loss', patience=5, restore_best_weights = True)\n",
        "\n",
        "\n",
        "history = model128.fit(input_train, y_train,\n",
        "                    epochs=25,\n",
        "                    batch_size=128,\n",
        "                    callbacks=[es], \n",
        "                    validation_split=0.2)"
      ],
      "metadata": {
        "colab": {
          "base_uri": "https://localhost:8080/"
        },
        "id": "0aeG8tAGHqX-",
        "outputId": "fa05d758-66d7-4838-d155-eafadbfee075"
      },
      "execution_count": null,
      "outputs": [
        {
          "output_type": "stream",
          "name": "stdout",
          "text": [
            "Epoch 1/25\n",
            "157/157 [==============================] - 13s 38ms/step - loss: 0.5536 - acc: 0.7300 - val_loss: 0.5577 - val_acc: 0.6930\n",
            "Epoch 2/25\n",
            "157/157 [==============================] - 5s 34ms/step - loss: 0.3508 - acc: 0.8522 - val_loss: 0.3624 - val_acc: 0.8438\n",
            "Epoch 3/25\n",
            "157/157 [==============================] - 5s 34ms/step - loss: 0.2892 - acc: 0.8900 - val_loss: 0.4302 - val_acc: 0.8054\n",
            "Epoch 4/25\n",
            "157/157 [==============================] - 5s 34ms/step - loss: 0.2424 - acc: 0.9083 - val_loss: 0.3670 - val_acc: 0.8706\n",
            "Epoch 5/25\n",
            "157/157 [==============================] - 5s 34ms/step - loss: 0.2064 - acc: 0.9218 - val_loss: 0.3023 - val_acc: 0.8840\n",
            "Epoch 6/25\n",
            "157/157 [==============================] - 5s 34ms/step - loss: 0.1858 - acc: 0.9334 - val_loss: 0.3181 - val_acc: 0.8792\n",
            "Epoch 7/25\n",
            "157/157 [==============================] - 5s 34ms/step - loss: 0.1763 - acc: 0.9385 - val_loss: 0.3033 - val_acc: 0.8882\n",
            "Epoch 8/25\n",
            "157/157 [==============================] - 6s 36ms/step - loss: 0.1608 - acc: 0.9442 - val_loss: 0.3289 - val_acc: 0.8750\n",
            "Epoch 9/25\n",
            "157/157 [==============================] - 5s 35ms/step - loss: 0.1435 - acc: 0.9490 - val_loss: 0.3443 - val_acc: 0.8714\n",
            "Epoch 10/25\n",
            "157/157 [==============================] - 6s 35ms/step - loss: 0.1339 - acc: 0.9553 - val_loss: 0.7052 - val_acc: 0.8188\n"
          ]
        }
      ]
    },
    {
      "cell_type": "code",
      "source": [
        "test_loss, test_acc = model128.evaluate(input_test,y_test)\n",
        "print('Test accuracy: %.3f' % test_acc)"
      ],
      "metadata": {
        "colab": {
          "base_uri": "https://localhost:8080/"
        },
        "id": "mGb4VNIDRt_n",
        "outputId": "adde665e-4dd2-42d4-e987-81fd7b923f92"
      },
      "execution_count": null,
      "outputs": [
        {
          "output_type": "stream",
          "name": "stdout",
          "text": [
            "782/782 [==============================] - 9s 11ms/step - loss: 0.3246 - acc: 0.8765\n",
            "Test accuracy: 0.877\n"
          ]
        }
      ]
    },
    {
      "cell_type": "markdown",
      "source": [
        "## Test meningar"
      ],
      "metadata": {
        "id": "hZuS24ULY-DW"
      }
    },
    {
      "cell_type": "code",
      "source": [
        "test_sentences = [\n",
        "  \"That movie was absolutely awful\",\n",
        "  \"The acting was a bit lacking\",\n",
        "  \"The film was creative and surprising\",\n",
        "  \"Absolutely fantastic!\",\n",
        "  \"This movie is not worth the money\",\n",
        "  \"The only positive thing with this movie is the music\"\n",
        "]"
      ],
      "metadata": {
        "id": "lneJTGPZYsaK"
      },
      "execution_count": null,
      "outputs": []
    },
    {
      "cell_type": "code",
      "source": [
        "# Code to prepare test sentencies for models trained with IMDB data\n",
        "# Fetch tokenizer and pad_sequences from keras.preprocessing\n",
        "from tensorflow.keras.preprocessing.text import Tokenizer\n",
        "from tensorflow.keras.preprocessing.sequence import pad_sequences\n",
        "\n",
        "# Set up tokenizer based on IMDB wordlist\n",
        "index_offset = 3\n",
        "tokenizer = Tokenizer()\n",
        "word_to_id = imdb.get_word_index()\n",
        "word_to_id = {k: (v + index_offset) for k, v in word_to_id.items()}\n",
        "word_to_id[\"<PAD>\"] = 0\n",
        "word_to_id[\"<START>\"] = 1\n",
        "word_to_id[\"<UNK>\"] = 2\n",
        "tokenizer.word_index = word_to_id\n",
        "\n",
        "# Prepare test sentences\n",
        "test_seq = tokenizer.texts_to_sequences(test_sentences)\n",
        "test_seq_padded = pad_sequences(test_seq, maxlen=maxlen)\n",
        "\n",
        "# See what the model say about the test sentences\n",
        "print(model128.predict(test_seq_padded))"
      ],
      "metadata": {
        "id": "QYkgtAyWY9Ld",
        "colab": {
          "base_uri": "https://localhost:8080/"
        },
        "outputId": "c0e9aa1e-698e-4f98-b8ba-f9e9944d740c"
      },
      "execution_count": null,
      "outputs": [
        {
          "output_type": "stream",
          "name": "stdout",
          "text": [
            "[[0.06080922]\n",
            " [0.52382326]\n",
            " [0.76462406]\n",
            " [0.814186  ]\n",
            " [0.50325894]\n",
            " [0.40215793]]\n"
          ]
        }
      ]
    },
    {
      "cell_type": "markdown",
      "source": [
        "# Analys av exempel meningarna \n",
        "modellen är väldigt säker på meningarna 1,3 och 4 alltså\n",
        "\"That movie was absolutely awful\", \"The film was creative and surprising\" &  \"Absolutely fantastic!\"\n",
        "vilket känns ganska rimligt då dessa recensionerna är väldigt tydliga i deras budskap. Jag skulle också säga att modellen tolkar dem rätt.\n",
        "\n",
        "Den sista meningen tolkas också rätt, men modellen är inte lika säker där.\n",
        "\n",
        "meningarna som modellen hade svårt för var:  \n",
        "\n",
        ">\"This movie is not worth the money\" och \"The acting was a bit lacking\",\n",
        "\n",
        "Modellen är osäker då resultatet är väldigt nära 0.5 (alltså mitt imellan 0 och 1) \n",
        "\n",
        "Den första av dem här två meningarna är ganska uppenbart en negativ recension, men modellen skulle säga att den är (marginellt) mer possitiv än negativ.    \n",
        "\n",
        "Den andra recensionen är mer svårtolkad \"The acting was a bit lacking\" säger inte så mycket om filmen som helhet, bara att en del av den kunde varit bättre, alltså är det förståligt att modellen har problem med denna. \n",
        "\n",
        "jag tyckte att det var intressant att modellen hade svårt för \"This movie is not worth the money\" så jag testade några andra liknande meningar för att se lite tydligare vad i den här meningen som gör att den är svårtolkad för modellen."
      ],
      "metadata": {
        "id": "AOVO6l31L6lK"
      }
    },
    {
      "cell_type": "code",
      "source": [
        "test_sentences2 = [\n",
        "  \"This movie is worth the money\",\n",
        "  \"worth the money\",\n",
        "  \"not worth the money\",\n",
        "  \"This movie is not worth the money\",\n",
        "  \"This movie is good\",\n",
        "  \"This movie is not good\",\n",
        "  \"This movie is not good at all\"\n",
        "]"
      ],
      "metadata": {
        "id": "XYd3nHg_Rvzz"
      },
      "execution_count": null,
      "outputs": []
    },
    {
      "cell_type": "code",
      "source": [
        "# Set up tokenizer based on IMDB wordlist\n",
        "index_offset = 3\n",
        "tokenizer = Tokenizer()\n",
        "word_to_id = imdb.get_word_index()\n",
        "word_to_id = {k: (v + index_offset) for k, v in word_to_id.items()}\n",
        "word_to_id[\"<PAD>\"] = 0\n",
        "word_to_id[\"<START>\"] = 1\n",
        "word_to_id[\"<UNK>\"] = 2\n",
        "tokenizer.word_index = word_to_id\n",
        "\n",
        "# Prepare test sentences\n",
        "test_seq = tokenizer.texts_to_sequences(test_sentences2)\n",
        "test_seq_padded = pad_sequences(test_seq, maxlen=maxlen)\n",
        "\n",
        "# See what the model say about the test sentences\n",
        "print(model128.predict(test_seq_padded))"
      ],
      "metadata": {
        "colab": {
          "base_uri": "https://localhost:8080/"
        },
        "id": "-noNOoBTSi_y",
        "outputId": "88a2c005-c97e-44fc-f923-024b331e9636"
      },
      "execution_count": null,
      "outputs": [
        {
          "output_type": "stream",
          "name": "stdout",
          "text": [
            "[[0.59422964]\n",
            " [0.59307045]\n",
            " [0.5059869 ]\n",
            " [0.50325894]\n",
            " [0.805239  ]\n",
            " [0.72351724]\n",
            " [0.76634586]]\n"
          ]
        }
      ]
    },
    {
      "cell_type": "markdown",
      "source": [
        "Modellen verkar ha problem med att tolka 'not' och hur det påverkar innebörden av meningarna, så recensioner som \"This movie is **not** good\" och \"This movie is **not** worth the money\" tolkas som positiva."
      ],
      "metadata": {
        "id": "x2PvMV5qUA0U"
      }
    }
  ]
}